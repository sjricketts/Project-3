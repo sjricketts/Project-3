{
 "cells": [
  {
   "cell_type": "code",
   "execution_count": 48,
   "metadata": {},
   "outputs": [],
   "source": [
    "# Clean Data for Project 3"
   ]
  },
  {
   "cell_type": "code",
   "execution_count": 88,
   "metadata": {},
   "outputs": [],
   "source": [
    "import pandas as pd"
   ]
  },
  {
   "cell_type": "code",
   "execution_count": 89,
   "metadata": {},
   "outputs": [],
   "source": [
    "# Store filepaths as variables\n",
    "chi_hist_zip = \"Uncleaned Data/Chicago_Historical_Zip.csv\"\n",
    "chi_hist_permits = \"Uncleaned Data/New_Reno_Building_Permits.csv\"\n",
    "\n",
    "# Convert to pandas dataframe\n",
    "chi_hist_zip_df = pd.read_csv(chi_hist_zip)\n",
    "chi_hist_permits_df =pd.read_csv(chi_hist_permits)"
   ]
  },
  {
   "cell_type": "code",
   "execution_count": 90,
   "metadata": {},
   "outputs": [],
   "source": [
    "# rename first three columns\n",
    "chi_hist_zip_df = chi_hist_zip_df.rename(columns={\"month_date_yyyymm\":\"month_year\", \"postal_code\":\"zip_code\", \"zip_name\": \"city_state\"})"
   ]
  },
  {
   "cell_type": "code",
   "execution_count": 91,
   "metadata": {},
   "outputs": [
    {
     "output_type": "execute_result",
     "data": {
      "text/plain": [
       "   month_year  Full_date short_date  zip_code   city_state  \\\n",
       "0      202010  10/1/2020    10/2020     60601  chicago, il   \n",
       "1      202009  09/1/2020    09/2020     60601  chicago, il   \n",
       "2      202008  08/1/2020    08/2020     60601  chicago, il   \n",
       "3      202007  07/1/2020    07/2020     60601  chicago, il   \n",
       "4      202006  06/1/2020    06/2020     60601  chicago, il   \n",
       "\n",
       "   median_listing_price  active_listing_count  median_days_on_market  \\\n",
       "0              519050.0                   286                   71.0   \n",
       "1              519550.0                   280                   55.5   \n",
       "2              539050.0                   252                   45.0   \n",
       "3              530000.0                   222                   56.0   \n",
       "4              520733.5                   202                   52.5   \n",
       "\n",
       "   new_listing_count  median_listing_price_per_square_foot  \\\n",
       "0                 56                            446.368715   \n",
       "1                 64                            453.437729   \n",
       "2                 96                            465.625000   \n",
       "3                104                            467.659403   \n",
       "4                 56                            483.586762   \n",
       "\n",
       "   median_square_feet  average_listing_price  total_listing_count  \n",
       "0              1225.0                 837750                  489  \n",
       "1              1234.5                 846010                  489  \n",
       "2              1225.0                 883507                  465  \n",
       "3              1225.0                 870200                  430  \n",
       "4              1220.0                 878951                  401  "
      ],
      "text/html": "<div>\n<style scoped>\n    .dataframe tbody tr th:only-of-type {\n        vertical-align: middle;\n    }\n\n    .dataframe tbody tr th {\n        vertical-align: top;\n    }\n\n    .dataframe thead th {\n        text-align: right;\n    }\n</style>\n<table border=\"1\" class=\"dataframe\">\n  <thead>\n    <tr style=\"text-align: right;\">\n      <th></th>\n      <th>month_year</th>\n      <th>Full_date</th>\n      <th>short_date</th>\n      <th>zip_code</th>\n      <th>city_state</th>\n      <th>median_listing_price</th>\n      <th>active_listing_count</th>\n      <th>median_days_on_market</th>\n      <th>new_listing_count</th>\n      <th>median_listing_price_per_square_foot</th>\n      <th>median_square_feet</th>\n      <th>average_listing_price</th>\n      <th>total_listing_count</th>\n    </tr>\n  </thead>\n  <tbody>\n    <tr>\n      <th>0</th>\n      <td>202010</td>\n      <td>10/1/2020</td>\n      <td>10/2020</td>\n      <td>60601</td>\n      <td>chicago, il</td>\n      <td>519050.0</td>\n      <td>286</td>\n      <td>71.0</td>\n      <td>56</td>\n      <td>446.368715</td>\n      <td>1225.0</td>\n      <td>837750</td>\n      <td>489</td>\n    </tr>\n    <tr>\n      <th>1</th>\n      <td>202009</td>\n      <td>09/1/2020</td>\n      <td>09/2020</td>\n      <td>60601</td>\n      <td>chicago, il</td>\n      <td>519550.0</td>\n      <td>280</td>\n      <td>55.5</td>\n      <td>64</td>\n      <td>453.437729</td>\n      <td>1234.5</td>\n      <td>846010</td>\n      <td>489</td>\n    </tr>\n    <tr>\n      <th>2</th>\n      <td>202008</td>\n      <td>08/1/2020</td>\n      <td>08/2020</td>\n      <td>60601</td>\n      <td>chicago, il</td>\n      <td>539050.0</td>\n      <td>252</td>\n      <td>45.0</td>\n      <td>96</td>\n      <td>465.625000</td>\n      <td>1225.0</td>\n      <td>883507</td>\n      <td>465</td>\n    </tr>\n    <tr>\n      <th>3</th>\n      <td>202007</td>\n      <td>07/1/2020</td>\n      <td>07/2020</td>\n      <td>60601</td>\n      <td>chicago, il</td>\n      <td>530000.0</td>\n      <td>222</td>\n      <td>56.0</td>\n      <td>104</td>\n      <td>467.659403</td>\n      <td>1225.0</td>\n      <td>870200</td>\n      <td>430</td>\n    </tr>\n    <tr>\n      <th>4</th>\n      <td>202006</td>\n      <td>06/1/2020</td>\n      <td>06/2020</td>\n      <td>60601</td>\n      <td>chicago, il</td>\n      <td>520733.5</td>\n      <td>202</td>\n      <td>52.5</td>\n      <td>56</td>\n      <td>483.586762</td>\n      <td>1220.0</td>\n      <td>878951</td>\n      <td>401</td>\n    </tr>\n  </tbody>\n</table>\n</div>"
     },
     "metadata": {},
     "execution_count": 91
    }
   ],
   "source": [
    "chi_hist_zip_df.head()"
   ]
  },
  {
   "cell_type": "code",
   "execution_count": 92,
   "metadata": {},
   "outputs": [
    {
     "output_type": "execute_result",
     "data": {
      "text/plain": [
       "month_year                                int64\n",
       "Full_date                                object\n",
       "short_date                               object\n",
       "zip_code                                  int64\n",
       "city_state                               object\n",
       "median_listing_price                    float64\n",
       "active_listing_count                      int64\n",
       "median_days_on_market                   float64\n",
       "new_listing_count                         int64\n",
       "median_listing_price_per_square_foot    float64\n",
       "median_square_feet                      float64\n",
       "average_listing_price                     int64\n",
       "total_listing_count                       int64\n",
       "dtype: object"
      ]
     },
     "metadata": {},
     "execution_count": 92
    }
   ],
   "source": [
    "chi_hist_zip_df.dtypes"
   ]
  },
  {
   "cell_type": "code",
   "execution_count": 53,
   "metadata": {},
   "outputs": [
    {
     "output_type": "execute_result",
     "data": {
      "text/plain": [
       "month_year                              2875\n",
       "zip_code                                2875\n",
       "city_state                              2875\n",
       "median_listing_price                    2875\n",
       "active_listing_count                    2875\n",
       "median_days_on_market                   2875\n",
       "new_listing_count                       2875\n",
       "median_listing_price_per_square_foot    2875\n",
       "median_square_feet                      2875\n",
       "average_listing_price                   2875\n",
       "total_listing_count                     2875\n",
       "dtype: int64"
      ]
     },
     "metadata": {},
     "execution_count": 53
    }
   ],
   "source": [
    "# check for any missing values\n",
    "chi_hist_zip_df.count()"
   ]
  },
  {
   "cell_type": "code",
   "execution_count": null,
   "metadata": {},
   "outputs": [],
   "source": []
  },
  {
   "cell_type": "code",
   "execution_count": null,
   "metadata": {},
   "outputs": [],
   "source": []
  },
  {
   "cell_type": "code",
   "execution_count": null,
   "metadata": {},
   "outputs": [],
   "source": []
  },
  {
   "cell_type": "markdown",
   "metadata": {},
   "source": [
    "Permits dataframe"
   ]
  },
  {
   "cell_type": "code",
   "execution_count": 54,
   "metadata": {},
   "outputs": [
    {
     "output_type": "execute_result",
     "data": {
      "text/plain": [
       "        ID    PERMIT#                     PERMIT_TYPE ISSUE_DATE  \\\n",
       "0  3080050  100846974       PERMIT - NEW CONSTRUCTION   11/10/20   \n",
       "1  3143407  100890517  PERMIT - RENOVATION/ALTERATION   11/10/20   \n",
       "2  3154314  100898444  PERMIT - RENOVATION/ALTERATION   11/10/20   \n",
       "3  2997896  100797094       PERMIT - NEW CONSTRUCTION   11/10/20   \n",
       "4  3153473  100897847  PERMIT - RENOVATION/ALTERATION   11/10/20   \n",
       "\n",
       "   STREET_NUMBER STREET DIRECTION STREET_NAME SUFFIX  COMMUNITY_AREA  \\\n",
       "0           2402                W      CARMEN    AVE             4.0   \n",
       "1              6                N    MICHIGAN    AVE            32.0   \n",
       "2           4949                W     BELMONT    AVE            19.0   \n",
       "3           3204                N    LAWNDALE    AVE            21.0   \n",
       "4           3634                N     PAULINA     ST             6.0   \n",
       "\n",
       "   CENSUS_TRACT  WARD  XCOORDINATE  YCOORDINATE   LATITUDE  LONGITUDE  \\\n",
       "0       40201.0  40.0  1159374.868  1933848.767  41.974206 -87.689310   \n",
       "1      320100.0  42.0  1177270.774  1900478.325  41.882248 -87.624517   \n",
       "2      190200.0  31.0  1142597.702  1920774.986  41.938660 -87.751331   \n",
       "3      831100.0  30.0  1151120.073  1921099.562  41.939387 -87.720001   \n",
       "4       60300.0  47.0  1164300.693  1924339.714  41.948010 -87.671466   \n",
       "\n",
       "                                   LOCATION  \n",
       "0  POINT (-87.689309838272 41.974205827256)  \n",
       "1  POINT (-87.624516537476 41.882248222736)  \n",
       "2  POINT (-87.751331308336 41.938659756252)  \n",
       "3  POINT (-87.720000753838 41.939387373989)  \n",
       "4  POINT (-87.671466313717 41.948009526264)  "
      ],
      "text/html": "<div>\n<style scoped>\n    .dataframe tbody tr th:only-of-type {\n        vertical-align: middle;\n    }\n\n    .dataframe tbody tr th {\n        vertical-align: top;\n    }\n\n    .dataframe thead th {\n        text-align: right;\n    }\n</style>\n<table border=\"1\" class=\"dataframe\">\n  <thead>\n    <tr style=\"text-align: right;\">\n      <th></th>\n      <th>ID</th>\n      <th>PERMIT#</th>\n      <th>PERMIT_TYPE</th>\n      <th>ISSUE_DATE</th>\n      <th>STREET_NUMBER</th>\n      <th>STREET DIRECTION</th>\n      <th>STREET_NAME</th>\n      <th>SUFFIX</th>\n      <th>COMMUNITY_AREA</th>\n      <th>CENSUS_TRACT</th>\n      <th>WARD</th>\n      <th>XCOORDINATE</th>\n      <th>YCOORDINATE</th>\n      <th>LATITUDE</th>\n      <th>LONGITUDE</th>\n      <th>LOCATION</th>\n    </tr>\n  </thead>\n  <tbody>\n    <tr>\n      <th>0</th>\n      <td>3080050</td>\n      <td>100846974</td>\n      <td>PERMIT - NEW CONSTRUCTION</td>\n      <td>11/10/20</td>\n      <td>2402</td>\n      <td>W</td>\n      <td>CARMEN</td>\n      <td>AVE</td>\n      <td>4.0</td>\n      <td>40201.0</td>\n      <td>40.0</td>\n      <td>1159374.868</td>\n      <td>1933848.767</td>\n      <td>41.974206</td>\n      <td>-87.689310</td>\n      <td>POINT (-87.689309838272 41.974205827256)</td>\n    </tr>\n    <tr>\n      <th>1</th>\n      <td>3143407</td>\n      <td>100890517</td>\n      <td>PERMIT - RENOVATION/ALTERATION</td>\n      <td>11/10/20</td>\n      <td>6</td>\n      <td>N</td>\n      <td>MICHIGAN</td>\n      <td>AVE</td>\n      <td>32.0</td>\n      <td>320100.0</td>\n      <td>42.0</td>\n      <td>1177270.774</td>\n      <td>1900478.325</td>\n      <td>41.882248</td>\n      <td>-87.624517</td>\n      <td>POINT (-87.624516537476 41.882248222736)</td>\n    </tr>\n    <tr>\n      <th>2</th>\n      <td>3154314</td>\n      <td>100898444</td>\n      <td>PERMIT - RENOVATION/ALTERATION</td>\n      <td>11/10/20</td>\n      <td>4949</td>\n      <td>W</td>\n      <td>BELMONT</td>\n      <td>AVE</td>\n      <td>19.0</td>\n      <td>190200.0</td>\n      <td>31.0</td>\n      <td>1142597.702</td>\n      <td>1920774.986</td>\n      <td>41.938660</td>\n      <td>-87.751331</td>\n      <td>POINT (-87.751331308336 41.938659756252)</td>\n    </tr>\n    <tr>\n      <th>3</th>\n      <td>2997896</td>\n      <td>100797094</td>\n      <td>PERMIT - NEW CONSTRUCTION</td>\n      <td>11/10/20</td>\n      <td>3204</td>\n      <td>N</td>\n      <td>LAWNDALE</td>\n      <td>AVE</td>\n      <td>21.0</td>\n      <td>831100.0</td>\n      <td>30.0</td>\n      <td>1151120.073</td>\n      <td>1921099.562</td>\n      <td>41.939387</td>\n      <td>-87.720001</td>\n      <td>POINT (-87.720000753838 41.939387373989)</td>\n    </tr>\n    <tr>\n      <th>4</th>\n      <td>3153473</td>\n      <td>100897847</td>\n      <td>PERMIT - RENOVATION/ALTERATION</td>\n      <td>11/10/20</td>\n      <td>3634</td>\n      <td>N</td>\n      <td>PAULINA</td>\n      <td>ST</td>\n      <td>6.0</td>\n      <td>60300.0</td>\n      <td>47.0</td>\n      <td>1164300.693</td>\n      <td>1924339.714</td>\n      <td>41.948010</td>\n      <td>-87.671466</td>\n      <td>POINT (-87.671466313717 41.948009526264)</td>\n    </tr>\n  </tbody>\n</table>\n</div>"
     },
     "metadata": {},
     "execution_count": 54
    }
   ],
   "source": [
    "chi_hist_permits_df.head()"
   ]
  },
  {
   "cell_type": "code",
   "execution_count": 55,
   "metadata": {},
   "outputs": [],
   "source": [
    "# delete first unneeded column\n",
    "del chi_hist_permits_df['ID']"
   ]
  },
  {
   "cell_type": "code",
   "execution_count": 56,
   "metadata": {},
   "outputs": [],
   "source": [
    "# delete next unneeded column\n",
    "del chi_hist_permits_df['PERMIT#']"
   ]
  },
  {
   "cell_type": "code",
   "execution_count": 57,
   "metadata": {},
   "outputs": [
    {
     "output_type": "execute_result",
     "data": {
      "text/plain": [
       "                      PERMIT_TYPE ISSUE_DATE  STREET_NUMBER STREET DIRECTION  \\\n",
       "0       PERMIT - NEW CONSTRUCTION   11/10/20           2402                W   \n",
       "1  PERMIT - RENOVATION/ALTERATION   11/10/20              6                N   \n",
       "2  PERMIT - RENOVATION/ALTERATION   11/10/20           4949                W   \n",
       "3       PERMIT - NEW CONSTRUCTION   11/10/20           3204                N   \n",
       "4  PERMIT - RENOVATION/ALTERATION   11/10/20           3634                N   \n",
       "\n",
       "  STREET_NAME SUFFIX  COMMUNITY_AREA  CENSUS_TRACT  WARD  XCOORDINATE  \\\n",
       "0      CARMEN    AVE             4.0       40201.0  40.0  1159374.868   \n",
       "1    MICHIGAN    AVE            32.0      320100.0  42.0  1177270.774   \n",
       "2     BELMONT    AVE            19.0      190200.0  31.0  1142597.702   \n",
       "3    LAWNDALE    AVE            21.0      831100.0  30.0  1151120.073   \n",
       "4     PAULINA     ST             6.0       60300.0  47.0  1164300.693   \n",
       "\n",
       "   YCOORDINATE   LATITUDE  LONGITUDE                                  LOCATION  \n",
       "0  1933848.767  41.974206 -87.689310  POINT (-87.689309838272 41.974205827256)  \n",
       "1  1900478.325  41.882248 -87.624517  POINT (-87.624516537476 41.882248222736)  \n",
       "2  1920774.986  41.938660 -87.751331  POINT (-87.751331308336 41.938659756252)  \n",
       "3  1921099.562  41.939387 -87.720001  POINT (-87.720000753838 41.939387373989)  \n",
       "4  1924339.714  41.948010 -87.671466  POINT (-87.671466313717 41.948009526264)  "
      ],
      "text/html": "<div>\n<style scoped>\n    .dataframe tbody tr th:only-of-type {\n        vertical-align: middle;\n    }\n\n    .dataframe tbody tr th {\n        vertical-align: top;\n    }\n\n    .dataframe thead th {\n        text-align: right;\n    }\n</style>\n<table border=\"1\" class=\"dataframe\">\n  <thead>\n    <tr style=\"text-align: right;\">\n      <th></th>\n      <th>PERMIT_TYPE</th>\n      <th>ISSUE_DATE</th>\n      <th>STREET_NUMBER</th>\n      <th>STREET DIRECTION</th>\n      <th>STREET_NAME</th>\n      <th>SUFFIX</th>\n      <th>COMMUNITY_AREA</th>\n      <th>CENSUS_TRACT</th>\n      <th>WARD</th>\n      <th>XCOORDINATE</th>\n      <th>YCOORDINATE</th>\n      <th>LATITUDE</th>\n      <th>LONGITUDE</th>\n      <th>LOCATION</th>\n    </tr>\n  </thead>\n  <tbody>\n    <tr>\n      <th>0</th>\n      <td>PERMIT - NEW CONSTRUCTION</td>\n      <td>11/10/20</td>\n      <td>2402</td>\n      <td>W</td>\n      <td>CARMEN</td>\n      <td>AVE</td>\n      <td>4.0</td>\n      <td>40201.0</td>\n      <td>40.0</td>\n      <td>1159374.868</td>\n      <td>1933848.767</td>\n      <td>41.974206</td>\n      <td>-87.689310</td>\n      <td>POINT (-87.689309838272 41.974205827256)</td>\n    </tr>\n    <tr>\n      <th>1</th>\n      <td>PERMIT - RENOVATION/ALTERATION</td>\n      <td>11/10/20</td>\n      <td>6</td>\n      <td>N</td>\n      <td>MICHIGAN</td>\n      <td>AVE</td>\n      <td>32.0</td>\n      <td>320100.0</td>\n      <td>42.0</td>\n      <td>1177270.774</td>\n      <td>1900478.325</td>\n      <td>41.882248</td>\n      <td>-87.624517</td>\n      <td>POINT (-87.624516537476 41.882248222736)</td>\n    </tr>\n    <tr>\n      <th>2</th>\n      <td>PERMIT - RENOVATION/ALTERATION</td>\n      <td>11/10/20</td>\n      <td>4949</td>\n      <td>W</td>\n      <td>BELMONT</td>\n      <td>AVE</td>\n      <td>19.0</td>\n      <td>190200.0</td>\n      <td>31.0</td>\n      <td>1142597.702</td>\n      <td>1920774.986</td>\n      <td>41.938660</td>\n      <td>-87.751331</td>\n      <td>POINT (-87.751331308336 41.938659756252)</td>\n    </tr>\n    <tr>\n      <th>3</th>\n      <td>PERMIT - NEW CONSTRUCTION</td>\n      <td>11/10/20</td>\n      <td>3204</td>\n      <td>N</td>\n      <td>LAWNDALE</td>\n      <td>AVE</td>\n      <td>21.0</td>\n      <td>831100.0</td>\n      <td>30.0</td>\n      <td>1151120.073</td>\n      <td>1921099.562</td>\n      <td>41.939387</td>\n      <td>-87.720001</td>\n      <td>POINT (-87.720000753838 41.939387373989)</td>\n    </tr>\n    <tr>\n      <th>4</th>\n      <td>PERMIT - RENOVATION/ALTERATION</td>\n      <td>11/10/20</td>\n      <td>3634</td>\n      <td>N</td>\n      <td>PAULINA</td>\n      <td>ST</td>\n      <td>6.0</td>\n      <td>60300.0</td>\n      <td>47.0</td>\n      <td>1164300.693</td>\n      <td>1924339.714</td>\n      <td>41.948010</td>\n      <td>-87.671466</td>\n      <td>POINT (-87.671466313717 41.948009526264)</td>\n    </tr>\n  </tbody>\n</table>\n</div>"
     },
     "metadata": {},
     "execution_count": 57
    }
   ],
   "source": [
    "chi_hist_permits_df.head()"
   ]
  },
  {
   "cell_type": "code",
   "execution_count": 93,
   "metadata": {},
   "outputs": [
    {
     "output_type": "execute_result",
     "data": {
      "text/plain": [
       "ID                    int64\n",
       "PERMIT#               int64\n",
       "PERMIT_TYPE          object\n",
       "ISSUE_DATE           object\n",
       "STREET_NUMBER         int64\n",
       "STREET DIRECTION     object\n",
       "STREET_NAME          object\n",
       "SUFFIX               object\n",
       "COMMUNITY_AREA      float64\n",
       "CENSUS_TRACT        float64\n",
       "WARD                float64\n",
       "XCOORDINATE         float64\n",
       "YCOORDINATE         float64\n",
       "LATITUDE            float64\n",
       "LONGITUDE           float64\n",
       "LOCATION             object\n",
       "dtype: object"
      ]
     },
     "metadata": {},
     "execution_count": 93
    }
   ],
   "source": [
    "chi_hist_permits_df.dtypes"
   ]
  },
  {
   "cell_type": "code",
   "execution_count": 58,
   "metadata": {},
   "outputs": [],
   "source": [
    "# reorder columns to move date to first column\n",
    "chi_hist_permits_df = chi_hist_permits_df[[\"ISSUE_DATE\",\"STREET_NUMBER\",\"STREET DIRECTION\",\"STREET_NAME\",\"SUFFIX\",\"COMMUNITY_AREA\",\"CENSUS_TRACT\",\"WARD\",\"XCOORDINATE\",\"YCOORDINATE\",\"LATITUDE\",\"LONGITUDE\",\"LOCATION\",\"PERMIT_TYPE\"]]"
   ]
  },
  {
   "cell_type": "code",
   "execution_count": 59,
   "metadata": {},
   "outputs": [
    {
     "output_type": "execute_result",
     "data": {
      "text/plain": [
       "  ISSUE_DATE  STREET_NUMBER STREET DIRECTION STREET_NAME SUFFIX  \\\n",
       "0   11/10/20           2402                W      CARMEN    AVE   \n",
       "1   11/10/20              6                N    MICHIGAN    AVE   \n",
       "2   11/10/20           4949                W     BELMONT    AVE   \n",
       "3   11/10/20           3204                N    LAWNDALE    AVE   \n",
       "4   11/10/20           3634                N     PAULINA     ST   \n",
       "\n",
       "   COMMUNITY_AREA  CENSUS_TRACT  WARD  XCOORDINATE  YCOORDINATE   LATITUDE  \\\n",
       "0             4.0       40201.0  40.0  1159374.868  1933848.767  41.974206   \n",
       "1            32.0      320100.0  42.0  1177270.774  1900478.325  41.882248   \n",
       "2            19.0      190200.0  31.0  1142597.702  1920774.986  41.938660   \n",
       "3            21.0      831100.0  30.0  1151120.073  1921099.562  41.939387   \n",
       "4             6.0       60300.0  47.0  1164300.693  1924339.714  41.948010   \n",
       "\n",
       "   LONGITUDE                                  LOCATION  \\\n",
       "0 -87.689310  POINT (-87.689309838272 41.974205827256)   \n",
       "1 -87.624517  POINT (-87.624516537476 41.882248222736)   \n",
       "2 -87.751331  POINT (-87.751331308336 41.938659756252)   \n",
       "3 -87.720001  POINT (-87.720000753838 41.939387373989)   \n",
       "4 -87.671466  POINT (-87.671466313717 41.948009526264)   \n",
       "\n",
       "                      PERMIT_TYPE  \n",
       "0       PERMIT - NEW CONSTRUCTION  \n",
       "1  PERMIT - RENOVATION/ALTERATION  \n",
       "2  PERMIT - RENOVATION/ALTERATION  \n",
       "3       PERMIT - NEW CONSTRUCTION  \n",
       "4  PERMIT - RENOVATION/ALTERATION  "
      ],
      "text/html": "<div>\n<style scoped>\n    .dataframe tbody tr th:only-of-type {\n        vertical-align: middle;\n    }\n\n    .dataframe tbody tr th {\n        vertical-align: top;\n    }\n\n    .dataframe thead th {\n        text-align: right;\n    }\n</style>\n<table border=\"1\" class=\"dataframe\">\n  <thead>\n    <tr style=\"text-align: right;\">\n      <th></th>\n      <th>ISSUE_DATE</th>\n      <th>STREET_NUMBER</th>\n      <th>STREET DIRECTION</th>\n      <th>STREET_NAME</th>\n      <th>SUFFIX</th>\n      <th>COMMUNITY_AREA</th>\n      <th>CENSUS_TRACT</th>\n      <th>WARD</th>\n      <th>XCOORDINATE</th>\n      <th>YCOORDINATE</th>\n      <th>LATITUDE</th>\n      <th>LONGITUDE</th>\n      <th>LOCATION</th>\n      <th>PERMIT_TYPE</th>\n    </tr>\n  </thead>\n  <tbody>\n    <tr>\n      <th>0</th>\n      <td>11/10/20</td>\n      <td>2402</td>\n      <td>W</td>\n      <td>CARMEN</td>\n      <td>AVE</td>\n      <td>4.0</td>\n      <td>40201.0</td>\n      <td>40.0</td>\n      <td>1159374.868</td>\n      <td>1933848.767</td>\n      <td>41.974206</td>\n      <td>-87.689310</td>\n      <td>POINT (-87.689309838272 41.974205827256)</td>\n      <td>PERMIT - NEW CONSTRUCTION</td>\n    </tr>\n    <tr>\n      <th>1</th>\n      <td>11/10/20</td>\n      <td>6</td>\n      <td>N</td>\n      <td>MICHIGAN</td>\n      <td>AVE</td>\n      <td>32.0</td>\n      <td>320100.0</td>\n      <td>42.0</td>\n      <td>1177270.774</td>\n      <td>1900478.325</td>\n      <td>41.882248</td>\n      <td>-87.624517</td>\n      <td>POINT (-87.624516537476 41.882248222736)</td>\n      <td>PERMIT - RENOVATION/ALTERATION</td>\n    </tr>\n    <tr>\n      <th>2</th>\n      <td>11/10/20</td>\n      <td>4949</td>\n      <td>W</td>\n      <td>BELMONT</td>\n      <td>AVE</td>\n      <td>19.0</td>\n      <td>190200.0</td>\n      <td>31.0</td>\n      <td>1142597.702</td>\n      <td>1920774.986</td>\n      <td>41.938660</td>\n      <td>-87.751331</td>\n      <td>POINT (-87.751331308336 41.938659756252)</td>\n      <td>PERMIT - RENOVATION/ALTERATION</td>\n    </tr>\n    <tr>\n      <th>3</th>\n      <td>11/10/20</td>\n      <td>3204</td>\n      <td>N</td>\n      <td>LAWNDALE</td>\n      <td>AVE</td>\n      <td>21.0</td>\n      <td>831100.0</td>\n      <td>30.0</td>\n      <td>1151120.073</td>\n      <td>1921099.562</td>\n      <td>41.939387</td>\n      <td>-87.720001</td>\n      <td>POINT (-87.720000753838 41.939387373989)</td>\n      <td>PERMIT - NEW CONSTRUCTION</td>\n    </tr>\n    <tr>\n      <th>4</th>\n      <td>11/10/20</td>\n      <td>3634</td>\n      <td>N</td>\n      <td>PAULINA</td>\n      <td>ST</td>\n      <td>6.0</td>\n      <td>60300.0</td>\n      <td>47.0</td>\n      <td>1164300.693</td>\n      <td>1924339.714</td>\n      <td>41.948010</td>\n      <td>-87.671466</td>\n      <td>POINT (-87.671466313717 41.948009526264)</td>\n      <td>PERMIT - RENOVATION/ALTERATION</td>\n    </tr>\n  </tbody>\n</table>\n</div>"
     },
     "metadata": {},
     "execution_count": 59
    }
   ],
   "source": [
    "chi_hist_permits_df.head()"
   ]
  },
  {
   "cell_type": "code",
   "execution_count": 60,
   "metadata": {},
   "outputs": [],
   "source": [
    "# get only columns needed\n",
    "chi_hist_permits_df = chi_hist_permits_df[[\"ISSUE_DATE\",\"STREET_NUMBER\",\"STREET DIRECTION\",\"STREET_NAME\",\"SUFFIX\",\"COMMUNITY_AREA\",\"CENSUS_TRACT\",\"WARD\",\"LATITUDE\",\"LONGITUDE\",\"PERMIT_TYPE\"]]"
   ]
  },
  {
   "cell_type": "code",
   "execution_count": 61,
   "metadata": {},
   "outputs": [
    {
     "output_type": "execute_result",
     "data": {
      "text/plain": [
       "  ISSUE_DATE  STREET_NUMBER STREET DIRECTION STREET_NAME SUFFIX  \\\n",
       "0   11/10/20           2402                W      CARMEN    AVE   \n",
       "1   11/10/20              6                N    MICHIGAN    AVE   \n",
       "2   11/10/20           4949                W     BELMONT    AVE   \n",
       "3   11/10/20           3204                N    LAWNDALE    AVE   \n",
       "4   11/10/20           3634                N     PAULINA     ST   \n",
       "\n",
       "   COMMUNITY_AREA  CENSUS_TRACT  WARD   LATITUDE  LONGITUDE  \\\n",
       "0             4.0       40201.0  40.0  41.974206 -87.689310   \n",
       "1            32.0      320100.0  42.0  41.882248 -87.624517   \n",
       "2            19.0      190200.0  31.0  41.938660 -87.751331   \n",
       "3            21.0      831100.0  30.0  41.939387 -87.720001   \n",
       "4             6.0       60300.0  47.0  41.948010 -87.671466   \n",
       "\n",
       "                      PERMIT_TYPE  \n",
       "0       PERMIT - NEW CONSTRUCTION  \n",
       "1  PERMIT - RENOVATION/ALTERATION  \n",
       "2  PERMIT - RENOVATION/ALTERATION  \n",
       "3       PERMIT - NEW CONSTRUCTION  \n",
       "4  PERMIT - RENOVATION/ALTERATION  "
      ],
      "text/html": "<div>\n<style scoped>\n    .dataframe tbody tr th:only-of-type {\n        vertical-align: middle;\n    }\n\n    .dataframe tbody tr th {\n        vertical-align: top;\n    }\n\n    .dataframe thead th {\n        text-align: right;\n    }\n</style>\n<table border=\"1\" class=\"dataframe\">\n  <thead>\n    <tr style=\"text-align: right;\">\n      <th></th>\n      <th>ISSUE_DATE</th>\n      <th>STREET_NUMBER</th>\n      <th>STREET DIRECTION</th>\n      <th>STREET_NAME</th>\n      <th>SUFFIX</th>\n      <th>COMMUNITY_AREA</th>\n      <th>CENSUS_TRACT</th>\n      <th>WARD</th>\n      <th>LATITUDE</th>\n      <th>LONGITUDE</th>\n      <th>PERMIT_TYPE</th>\n    </tr>\n  </thead>\n  <tbody>\n    <tr>\n      <th>0</th>\n      <td>11/10/20</td>\n      <td>2402</td>\n      <td>W</td>\n      <td>CARMEN</td>\n      <td>AVE</td>\n      <td>4.0</td>\n      <td>40201.0</td>\n      <td>40.0</td>\n      <td>41.974206</td>\n      <td>-87.689310</td>\n      <td>PERMIT - NEW CONSTRUCTION</td>\n    </tr>\n    <tr>\n      <th>1</th>\n      <td>11/10/20</td>\n      <td>6</td>\n      <td>N</td>\n      <td>MICHIGAN</td>\n      <td>AVE</td>\n      <td>32.0</td>\n      <td>320100.0</td>\n      <td>42.0</td>\n      <td>41.882248</td>\n      <td>-87.624517</td>\n      <td>PERMIT - RENOVATION/ALTERATION</td>\n    </tr>\n    <tr>\n      <th>2</th>\n      <td>11/10/20</td>\n      <td>4949</td>\n      <td>W</td>\n      <td>BELMONT</td>\n      <td>AVE</td>\n      <td>19.0</td>\n      <td>190200.0</td>\n      <td>31.0</td>\n      <td>41.938660</td>\n      <td>-87.751331</td>\n      <td>PERMIT - RENOVATION/ALTERATION</td>\n    </tr>\n    <tr>\n      <th>3</th>\n      <td>11/10/20</td>\n      <td>3204</td>\n      <td>N</td>\n      <td>LAWNDALE</td>\n      <td>AVE</td>\n      <td>21.0</td>\n      <td>831100.0</td>\n      <td>30.0</td>\n      <td>41.939387</td>\n      <td>-87.720001</td>\n      <td>PERMIT - NEW CONSTRUCTION</td>\n    </tr>\n    <tr>\n      <th>4</th>\n      <td>11/10/20</td>\n      <td>3634</td>\n      <td>N</td>\n      <td>PAULINA</td>\n      <td>ST</td>\n      <td>6.0</td>\n      <td>60300.0</td>\n      <td>47.0</td>\n      <td>41.948010</td>\n      <td>-87.671466</td>\n      <td>PERMIT - RENOVATION/ALTERATION</td>\n    </tr>\n  </tbody>\n</table>\n</div>"
     },
     "metadata": {},
     "execution_count": 61
    }
   ],
   "source": [
    "chi_hist_permits_df.head()"
   ]
  },
  {
   "cell_type": "code",
   "execution_count": 62,
   "metadata": {},
   "outputs": [],
   "source": [
    "# rename columns\n",
    "chi_hist_permits_df = chi_hist_permits_df.rename(columns={\"ISSUE_DATE\":\"month_year\",\"STREET_NUMBER\":\"street_number\",\"STREET DIRECTION\":\"street_direction\",\"STREET_NAME\":\"street_name\",\"SUFFIX\":\"suffix\",\"COMMUNITY_AREA\":\"community_area\",\"CENSUS_TRACT\":\"census_tract\",\"WARD\": \"ward\",\"LATITUDE\":\"lat\",\"LONGITUDE\": \"lng\",\"PERMIT_TYPE\":\"permit_type\"})"
   ]
  },
  {
   "cell_type": "code",
   "execution_count": 63,
   "metadata": {},
   "outputs": [
    {
     "output_type": "execute_result",
     "data": {
      "text/plain": [
       "  month_year  street_number street_direction street_name suffix  \\\n",
       "0   11/10/20           2402                W      CARMEN    AVE   \n",
       "1   11/10/20              6                N    MICHIGAN    AVE   \n",
       "2   11/10/20           4949                W     BELMONT    AVE   \n",
       "3   11/10/20           3204                N    LAWNDALE    AVE   \n",
       "4   11/10/20           3634                N     PAULINA     ST   \n",
       "\n",
       "   community_area  census_tract  ward        lat        lng  \\\n",
       "0             4.0       40201.0  40.0  41.974206 -87.689310   \n",
       "1            32.0      320100.0  42.0  41.882248 -87.624517   \n",
       "2            19.0      190200.0  31.0  41.938660 -87.751331   \n",
       "3            21.0      831100.0  30.0  41.939387 -87.720001   \n",
       "4             6.0       60300.0  47.0  41.948010 -87.671466   \n",
       "\n",
       "                      permit_type  \n",
       "0       PERMIT - NEW CONSTRUCTION  \n",
       "1  PERMIT - RENOVATION/ALTERATION  \n",
       "2  PERMIT - RENOVATION/ALTERATION  \n",
       "3       PERMIT - NEW CONSTRUCTION  \n",
       "4  PERMIT - RENOVATION/ALTERATION  "
      ],
      "text/html": "<div>\n<style scoped>\n    .dataframe tbody tr th:only-of-type {\n        vertical-align: middle;\n    }\n\n    .dataframe tbody tr th {\n        vertical-align: top;\n    }\n\n    .dataframe thead th {\n        text-align: right;\n    }\n</style>\n<table border=\"1\" class=\"dataframe\">\n  <thead>\n    <tr style=\"text-align: right;\">\n      <th></th>\n      <th>month_year</th>\n      <th>street_number</th>\n      <th>street_direction</th>\n      <th>street_name</th>\n      <th>suffix</th>\n      <th>community_area</th>\n      <th>census_tract</th>\n      <th>ward</th>\n      <th>lat</th>\n      <th>lng</th>\n      <th>permit_type</th>\n    </tr>\n  </thead>\n  <tbody>\n    <tr>\n      <th>0</th>\n      <td>11/10/20</td>\n      <td>2402</td>\n      <td>W</td>\n      <td>CARMEN</td>\n      <td>AVE</td>\n      <td>4.0</td>\n      <td>40201.0</td>\n      <td>40.0</td>\n      <td>41.974206</td>\n      <td>-87.689310</td>\n      <td>PERMIT - NEW CONSTRUCTION</td>\n    </tr>\n    <tr>\n      <th>1</th>\n      <td>11/10/20</td>\n      <td>6</td>\n      <td>N</td>\n      <td>MICHIGAN</td>\n      <td>AVE</td>\n      <td>32.0</td>\n      <td>320100.0</td>\n      <td>42.0</td>\n      <td>41.882248</td>\n      <td>-87.624517</td>\n      <td>PERMIT - RENOVATION/ALTERATION</td>\n    </tr>\n    <tr>\n      <th>2</th>\n      <td>11/10/20</td>\n      <td>4949</td>\n      <td>W</td>\n      <td>BELMONT</td>\n      <td>AVE</td>\n      <td>19.0</td>\n      <td>190200.0</td>\n      <td>31.0</td>\n      <td>41.938660</td>\n      <td>-87.751331</td>\n      <td>PERMIT - RENOVATION/ALTERATION</td>\n    </tr>\n    <tr>\n      <th>3</th>\n      <td>11/10/20</td>\n      <td>3204</td>\n      <td>N</td>\n      <td>LAWNDALE</td>\n      <td>AVE</td>\n      <td>21.0</td>\n      <td>831100.0</td>\n      <td>30.0</td>\n      <td>41.939387</td>\n      <td>-87.720001</td>\n      <td>PERMIT - NEW CONSTRUCTION</td>\n    </tr>\n    <tr>\n      <th>4</th>\n      <td>11/10/20</td>\n      <td>3634</td>\n      <td>N</td>\n      <td>PAULINA</td>\n      <td>ST</td>\n      <td>6.0</td>\n      <td>60300.0</td>\n      <td>47.0</td>\n      <td>41.948010</td>\n      <td>-87.671466</td>\n      <td>PERMIT - RENOVATION/ALTERATION</td>\n    </tr>\n  </tbody>\n</table>\n</div>"
     },
     "metadata": {},
     "execution_count": 63
    }
   ],
   "source": [
    "chi_hist_permits_df.head()"
   ]
  },
  {
   "cell_type": "code",
   "execution_count": 64,
   "metadata": {},
   "outputs": [],
   "source": [
    "# How to convert ISSUE_DATE\n",
    "# chi_hist_permits_df = chi_hist_permits_df[\"ISSUE_DATE\"].dt.strftime(\"%m%Y\")"
   ]
  },
  {
   "cell_type": "code",
   "execution_count": 65,
   "metadata": {},
   "outputs": [
    {
     "output_type": "execute_result",
     "data": {
      "text/plain": [
       "month_year          53254\n",
       "street_number       53254\n",
       "street_direction    53254\n",
       "street_name         53254\n",
       "suffix              52764\n",
       "community_area      53250\n",
       "census_tract        53091\n",
       "ward                53232\n",
       "lat                 53077\n",
       "lng                 53077\n",
       "permit_type         53254\n",
       "dtype: int64"
      ]
     },
     "metadata": {},
     "execution_count": 65
    }
   ],
   "source": [
    "# check for missing values\n",
    "chi_hist_permits_df.count()"
   ]
  },
  {
   "cell_type": "code",
   "execution_count": 66,
   "metadata": {},
   "outputs": [],
   "source": [
    "# drop rows with missing values--we need lats & longs\n",
    "chi_hist_permits_df = chi_hist_permits_df.dropna(how='any')"
   ]
  },
  {
   "cell_type": "code",
   "execution_count": 67,
   "metadata": {},
   "outputs": [
    {
     "output_type": "execute_result",
     "data": {
      "text/plain": [
       "month_year          52423\n",
       "street_number       52423\n",
       "street_direction    52423\n",
       "street_name         52423\n",
       "suffix              52423\n",
       "community_area      52423\n",
       "census_tract        52423\n",
       "ward                52423\n",
       "lat                 52423\n",
       "lng                 52423\n",
       "permit_type         52423\n",
       "dtype: int64"
      ]
     },
     "metadata": {},
     "execution_count": 67
    }
   ],
   "source": [
    "chi_hist_permits_df.count()"
   ]
  },
  {
   "cell_type": "code",
   "execution_count": 68,
   "metadata": {},
   "outputs": [],
   "source": [
    "chi_hist_permitsREW_df = chi_hist_permits_df"
   ]
  },
  {
   "cell_type": "code",
   "execution_count": 69,
   "metadata": {},
   "outputs": [
    {
     "output_type": "execute_result",
     "data": {
      "text/plain": [
       "      month_year  street_number street_direction street_name suffix  \\\n",
       "0       11/10/20           2402                W      CARMEN    AVE   \n",
       "1       11/10/20              6                N    MICHIGAN    AVE   \n",
       "2       11/10/20           4949                W     BELMONT    AVE   \n",
       "3       11/10/20           3204                N    LAWNDALE    AVE   \n",
       "4       11/10/20           3634                N     PAULINA     ST   \n",
       "...          ...            ...              ...         ...    ...   \n",
       "53249     1/4/16           1221                W        31ST     ST   \n",
       "53250     1/4/16           6233                S  UNIVERSITY    AVE   \n",
       "53251     1/4/16           4802                S   PRINCETON    AVE   \n",
       "53252     1/4/16            555                W       111TH     ST   \n",
       "53253     1/4/16           6440                S       HOYNE    AVE   \n",
       "\n",
       "       community_area  census_tract  ward        lat        lng  \\\n",
       "0                 4.0       40201.0  40.0  41.974206 -87.689310   \n",
       "1                32.0      320100.0  42.0  41.882248 -87.624517   \n",
       "2                19.0      190200.0  31.0  41.938660 -87.751331   \n",
       "3                21.0      831100.0  30.0  41.939387 -87.720001   \n",
       "4                 6.0       60300.0  47.0  41.948010 -87.671466   \n",
       "...               ...           ...   ...        ...        ...   \n",
       "53249            60.0      600900.0  11.0  41.837793 -87.656840   \n",
       "53250            42.0      420300.0  20.0  41.781331 -87.597698   \n",
       "53251            37.0      835600.0   3.0  41.807090 -87.633458   \n",
       "53252            49.0      491200.0  34.0  41.692308 -87.637307   \n",
       "53253            67.0      671400.0  16.0  41.776271 -87.676410   \n",
       "\n",
       "                          permit_type  \n",
       "0           PERMIT - NEW CONSTRUCTION  \n",
       "1      PERMIT - RENOVATION/ALTERATION  \n",
       "2      PERMIT - RENOVATION/ALTERATION  \n",
       "3           PERMIT - NEW CONSTRUCTION  \n",
       "4      PERMIT - RENOVATION/ALTERATION  \n",
       "...                               ...  \n",
       "53249  PERMIT - RENOVATION/ALTERATION  \n",
       "53250  PERMIT - RENOVATION/ALTERATION  \n",
       "53251  PERMIT - RENOVATION/ALTERATION  \n",
       "53252  PERMIT - RENOVATION/ALTERATION  \n",
       "53253  PERMIT - RENOVATION/ALTERATION  \n",
       "\n",
       "[52423 rows x 11 columns]"
      ],
      "text/html": "<div>\n<style scoped>\n    .dataframe tbody tr th:only-of-type {\n        vertical-align: middle;\n    }\n\n    .dataframe tbody tr th {\n        vertical-align: top;\n    }\n\n    .dataframe thead th {\n        text-align: right;\n    }\n</style>\n<table border=\"1\" class=\"dataframe\">\n  <thead>\n    <tr style=\"text-align: right;\">\n      <th></th>\n      <th>month_year</th>\n      <th>street_number</th>\n      <th>street_direction</th>\n      <th>street_name</th>\n      <th>suffix</th>\n      <th>community_area</th>\n      <th>census_tract</th>\n      <th>ward</th>\n      <th>lat</th>\n      <th>lng</th>\n      <th>permit_type</th>\n    </tr>\n  </thead>\n  <tbody>\n    <tr>\n      <th>0</th>\n      <td>11/10/20</td>\n      <td>2402</td>\n      <td>W</td>\n      <td>CARMEN</td>\n      <td>AVE</td>\n      <td>4.0</td>\n      <td>40201.0</td>\n      <td>40.0</td>\n      <td>41.974206</td>\n      <td>-87.689310</td>\n      <td>PERMIT - NEW CONSTRUCTION</td>\n    </tr>\n    <tr>\n      <th>1</th>\n      <td>11/10/20</td>\n      <td>6</td>\n      <td>N</td>\n      <td>MICHIGAN</td>\n      <td>AVE</td>\n      <td>32.0</td>\n      <td>320100.0</td>\n      <td>42.0</td>\n      <td>41.882248</td>\n      <td>-87.624517</td>\n      <td>PERMIT - RENOVATION/ALTERATION</td>\n    </tr>\n    <tr>\n      <th>2</th>\n      <td>11/10/20</td>\n      <td>4949</td>\n      <td>W</td>\n      <td>BELMONT</td>\n      <td>AVE</td>\n      <td>19.0</td>\n      <td>190200.0</td>\n      <td>31.0</td>\n      <td>41.938660</td>\n      <td>-87.751331</td>\n      <td>PERMIT - RENOVATION/ALTERATION</td>\n    </tr>\n    <tr>\n      <th>3</th>\n      <td>11/10/20</td>\n      <td>3204</td>\n      <td>N</td>\n      <td>LAWNDALE</td>\n      <td>AVE</td>\n      <td>21.0</td>\n      <td>831100.0</td>\n      <td>30.0</td>\n      <td>41.939387</td>\n      <td>-87.720001</td>\n      <td>PERMIT - NEW CONSTRUCTION</td>\n    </tr>\n    <tr>\n      <th>4</th>\n      <td>11/10/20</td>\n      <td>3634</td>\n      <td>N</td>\n      <td>PAULINA</td>\n      <td>ST</td>\n      <td>6.0</td>\n      <td>60300.0</td>\n      <td>47.0</td>\n      <td>41.948010</td>\n      <td>-87.671466</td>\n      <td>PERMIT - RENOVATION/ALTERATION</td>\n    </tr>\n    <tr>\n      <th>...</th>\n      <td>...</td>\n      <td>...</td>\n      <td>...</td>\n      <td>...</td>\n      <td>...</td>\n      <td>...</td>\n      <td>...</td>\n      <td>...</td>\n      <td>...</td>\n      <td>...</td>\n      <td>...</td>\n    </tr>\n    <tr>\n      <th>53249</th>\n      <td>1/4/16</td>\n      <td>1221</td>\n      <td>W</td>\n      <td>31ST</td>\n      <td>ST</td>\n      <td>60.0</td>\n      <td>600900.0</td>\n      <td>11.0</td>\n      <td>41.837793</td>\n      <td>-87.656840</td>\n      <td>PERMIT - RENOVATION/ALTERATION</td>\n    </tr>\n    <tr>\n      <th>53250</th>\n      <td>1/4/16</td>\n      <td>6233</td>\n      <td>S</td>\n      <td>UNIVERSITY</td>\n      <td>AVE</td>\n      <td>42.0</td>\n      <td>420300.0</td>\n      <td>20.0</td>\n      <td>41.781331</td>\n      <td>-87.597698</td>\n      <td>PERMIT - RENOVATION/ALTERATION</td>\n    </tr>\n    <tr>\n      <th>53251</th>\n      <td>1/4/16</td>\n      <td>4802</td>\n      <td>S</td>\n      <td>PRINCETON</td>\n      <td>AVE</td>\n      <td>37.0</td>\n      <td>835600.0</td>\n      <td>3.0</td>\n      <td>41.807090</td>\n      <td>-87.633458</td>\n      <td>PERMIT - RENOVATION/ALTERATION</td>\n    </tr>\n    <tr>\n      <th>53252</th>\n      <td>1/4/16</td>\n      <td>555</td>\n      <td>W</td>\n      <td>111TH</td>\n      <td>ST</td>\n      <td>49.0</td>\n      <td>491200.0</td>\n      <td>34.0</td>\n      <td>41.692308</td>\n      <td>-87.637307</td>\n      <td>PERMIT - RENOVATION/ALTERATION</td>\n    </tr>\n    <tr>\n      <th>53253</th>\n      <td>1/4/16</td>\n      <td>6440</td>\n      <td>S</td>\n      <td>HOYNE</td>\n      <td>AVE</td>\n      <td>67.0</td>\n      <td>671400.0</td>\n      <td>16.0</td>\n      <td>41.776271</td>\n      <td>-87.676410</td>\n      <td>PERMIT - RENOVATION/ALTERATION</td>\n    </tr>\n  </tbody>\n</table>\n<p>52423 rows × 11 columns</p>\n</div>"
     },
     "metadata": {},
     "execution_count": 69
    }
   ],
   "source": [
    "chi_hist_permitsREW_df"
   ]
  },
  {
   "cell_type": "code",
   "execution_count": 70,
   "metadata": {},
   "outputs": [
    {
     "output_type": "execute_result",
     "data": {
      "text/plain": [
       "         lat    lng\n",
       "0      41.97 -87.69\n",
       "1      41.88 -87.62\n",
       "2      41.94 -87.75\n",
       "3      41.94 -87.72\n",
       "4      41.95 -87.67\n",
       "...      ...    ...\n",
       "39895  41.68 -87.70\n",
       "40618  41.73 -87.74\n",
       "44007  41.77 -87.77\n",
       "46188  41.67 -87.57\n",
       "49745  41.97 -87.85\n",
       "\n",
       "[661 rows x 2 columns]"
      ],
      "text/html": "<div>\n<style scoped>\n    .dataframe tbody tr th:only-of-type {\n        vertical-align: middle;\n    }\n\n    .dataframe tbody tr th {\n        vertical-align: top;\n    }\n\n    .dataframe thead th {\n        text-align: right;\n    }\n</style>\n<table border=\"1\" class=\"dataframe\">\n  <thead>\n    <tr style=\"text-align: right;\">\n      <th></th>\n      <th>lat</th>\n      <th>lng</th>\n    </tr>\n  </thead>\n  <tbody>\n    <tr>\n      <th>0</th>\n      <td>41.97</td>\n      <td>-87.69</td>\n    </tr>\n    <tr>\n      <th>1</th>\n      <td>41.88</td>\n      <td>-87.62</td>\n    </tr>\n    <tr>\n      <th>2</th>\n      <td>41.94</td>\n      <td>-87.75</td>\n    </tr>\n    <tr>\n      <th>3</th>\n      <td>41.94</td>\n      <td>-87.72</td>\n    </tr>\n    <tr>\n      <th>4</th>\n      <td>41.95</td>\n      <td>-87.67</td>\n    </tr>\n    <tr>\n      <th>...</th>\n      <td>...</td>\n      <td>...</td>\n    </tr>\n    <tr>\n      <th>39895</th>\n      <td>41.68</td>\n      <td>-87.70</td>\n    </tr>\n    <tr>\n      <th>40618</th>\n      <td>41.73</td>\n      <td>-87.74</td>\n    </tr>\n    <tr>\n      <th>44007</th>\n      <td>41.77</td>\n      <td>-87.77</td>\n    </tr>\n    <tr>\n      <th>46188</th>\n      <td>41.67</td>\n      <td>-87.57</td>\n    </tr>\n    <tr>\n      <th>49745</th>\n      <td>41.97</td>\n      <td>-87.85</td>\n    </tr>\n  </tbody>\n</table>\n<p>661 rows × 2 columns</p>\n</div>"
     },
     "metadata": {},
     "execution_count": 70
    }
   ],
   "source": [
    "permitLtLn_df = chi_hist_permitsREW_df[[\"lat\",\"lng\"]]\n",
    "permitLtLn_df[\"lat\"] = permitLtLn_df[\"lat\"].round(2)\n",
    "permitLtLn_df[\"lng\"] = permitLtLn_df[\"lng\"].round(2)\n",
    "permitLtLn_df = permitLtLn_df.drop_duplicates()\n",
    "permitLtLn_df"
   ]
  },
  {
   "cell_type": "code",
   "execution_count": 71,
   "metadata": {},
   "outputs": [
    {
     "output_type": "error",
     "ename": "KeyboardInterrupt",
     "evalue": "",
     "traceback": [
      "\u001b[1;31m---------------------------------------------------------------------------\u001b[0m",
      "\u001b[1;31mKeyboardInterrupt\u001b[0m                         Traceback (most recent call last)",
      "\u001b[1;32m<ipython-input-71-8b40d792bcf8>\u001b[0m in \u001b[0;36m<module>\u001b[1;34m\u001b[0m\n\u001b[0;32m     14\u001b[0m     \u001b[1;34m'Lon'\u001b[0m\u001b[1;33m:\u001b[0m \u001b[0mpermitLtLn_df\u001b[0m\u001b[1;33m[\u001b[0m\u001b[1;34m\"lng\"\u001b[0m\u001b[1;33m]\u001b[0m\u001b[1;33m\u001b[0m\u001b[1;33m\u001b[0m\u001b[0m\n\u001b[0;32m     15\u001b[0m })\n\u001b[1;32m---> 16\u001b[1;33m \u001b[0mzipcodes\u001b[0m \u001b[1;33m=\u001b[0m \u001b[0mzip_df\u001b[0m\u001b[1;33m.\u001b[0m\u001b[0mapply\u001b[0m\u001b[1;33m(\u001b[0m\u001b[0mget_zipcode\u001b[0m\u001b[1;33m,\u001b[0m \u001b[0maxis\u001b[0m\u001b[1;33m=\u001b[0m\u001b[1;36m1\u001b[0m\u001b[1;33m,\u001b[0m \u001b[0mgeolocator\u001b[0m\u001b[1;33m=\u001b[0m\u001b[0mgeolocator\u001b[0m\u001b[1;33m,\u001b[0m \u001b[0mlat_field\u001b[0m\u001b[1;33m=\u001b[0m\u001b[1;34m'Lat'\u001b[0m\u001b[1;33m,\u001b[0m \u001b[0mlon_field\u001b[0m\u001b[1;33m=\u001b[0m\u001b[1;34m'Lon'\u001b[0m\u001b[1;33m)\u001b[0m\u001b[1;33m\u001b[0m\u001b[1;33m\u001b[0m\u001b[0m\n\u001b[0m",
      "\u001b[1;32m~\\anaconda3\\lib\\site-packages\\pandas\\core\\frame.py\u001b[0m in \u001b[0;36mapply\u001b[1;34m(self, func, axis, raw, result_type, args, **kwds)\u001b[0m\n\u001b[0;32m   6876\u001b[0m             \u001b[0mkwds\u001b[0m\u001b[1;33m=\u001b[0m\u001b[0mkwds\u001b[0m\u001b[1;33m,\u001b[0m\u001b[1;33m\u001b[0m\u001b[1;33m\u001b[0m\u001b[0m\n\u001b[0;32m   6877\u001b[0m         )\n\u001b[1;32m-> 6878\u001b[1;33m         \u001b[1;32mreturn\u001b[0m \u001b[0mop\u001b[0m\u001b[1;33m.\u001b[0m\u001b[0mget_result\u001b[0m\u001b[1;33m(\u001b[0m\u001b[1;33m)\u001b[0m\u001b[1;33m\u001b[0m\u001b[1;33m\u001b[0m\u001b[0m\n\u001b[0m\u001b[0;32m   6879\u001b[0m \u001b[1;33m\u001b[0m\u001b[0m\n\u001b[0;32m   6880\u001b[0m     \u001b[1;32mdef\u001b[0m \u001b[0mapplymap\u001b[0m\u001b[1;33m(\u001b[0m\u001b[0mself\u001b[0m\u001b[1;33m,\u001b[0m \u001b[0mfunc\u001b[0m\u001b[1;33m)\u001b[0m \u001b[1;33m->\u001b[0m \u001b[1;34m\"DataFrame\"\u001b[0m\u001b[1;33m:\u001b[0m\u001b[1;33m\u001b[0m\u001b[1;33m\u001b[0m\u001b[0m\n",
      "\u001b[1;32m~\\anaconda3\\lib\\site-packages\\pandas\\core\\apply.py\u001b[0m in \u001b[0;36mget_result\u001b[1;34m(self)\u001b[0m\n\u001b[0;32m    184\u001b[0m             \u001b[1;32mreturn\u001b[0m \u001b[0mself\u001b[0m\u001b[1;33m.\u001b[0m\u001b[0mapply_raw\u001b[0m\u001b[1;33m(\u001b[0m\u001b[1;33m)\u001b[0m\u001b[1;33m\u001b[0m\u001b[1;33m\u001b[0m\u001b[0m\n\u001b[0;32m    185\u001b[0m \u001b[1;33m\u001b[0m\u001b[0m\n\u001b[1;32m--> 186\u001b[1;33m         \u001b[1;32mreturn\u001b[0m \u001b[0mself\u001b[0m\u001b[1;33m.\u001b[0m\u001b[0mapply_standard\u001b[0m\u001b[1;33m(\u001b[0m\u001b[1;33m)\u001b[0m\u001b[1;33m\u001b[0m\u001b[1;33m\u001b[0m\u001b[0m\n\u001b[0m\u001b[0;32m    187\u001b[0m \u001b[1;33m\u001b[0m\u001b[0m\n\u001b[0;32m    188\u001b[0m     \u001b[1;32mdef\u001b[0m \u001b[0mapply_empty_result\u001b[0m\u001b[1;33m(\u001b[0m\u001b[0mself\u001b[0m\u001b[1;33m)\u001b[0m\u001b[1;33m:\u001b[0m\u001b[1;33m\u001b[0m\u001b[1;33m\u001b[0m\u001b[0m\n",
      "\u001b[1;32m~\\anaconda3\\lib\\site-packages\\pandas\\core\\apply.py\u001b[0m in \u001b[0;36mapply_standard\u001b[1;34m(self)\u001b[0m\n\u001b[0;32m    294\u001b[0m             \u001b[1;32mtry\u001b[0m\u001b[1;33m:\u001b[0m\u001b[1;33m\u001b[0m\u001b[1;33m\u001b[0m\u001b[0m\n\u001b[0;32m    295\u001b[0m                 result = libreduction.compute_reduction(\n\u001b[1;32m--> 296\u001b[1;33m                     \u001b[0mvalues\u001b[0m\u001b[1;33m,\u001b[0m \u001b[0mself\u001b[0m\u001b[1;33m.\u001b[0m\u001b[0mf\u001b[0m\u001b[1;33m,\u001b[0m \u001b[0maxis\u001b[0m\u001b[1;33m=\u001b[0m\u001b[0mself\u001b[0m\u001b[1;33m.\u001b[0m\u001b[0maxis\u001b[0m\u001b[1;33m,\u001b[0m \u001b[0mdummy\u001b[0m\u001b[1;33m=\u001b[0m\u001b[0mdummy\u001b[0m\u001b[1;33m,\u001b[0m \u001b[0mlabels\u001b[0m\u001b[1;33m=\u001b[0m\u001b[0mlabels\u001b[0m\u001b[1;33m\u001b[0m\u001b[1;33m\u001b[0m\u001b[0m\n\u001b[0m\u001b[0;32m    297\u001b[0m                 )\n\u001b[0;32m    298\u001b[0m             \u001b[1;32mexcept\u001b[0m \u001b[0mValueError\u001b[0m \u001b[1;32mas\u001b[0m \u001b[0merr\u001b[0m\u001b[1;33m:\u001b[0m\u001b[1;33m\u001b[0m\u001b[1;33m\u001b[0m\u001b[0m\n",
      "\u001b[1;32mpandas\\_libs\\reduction.pyx\u001b[0m in \u001b[0;36mpandas._libs.reduction.compute_reduction\u001b[1;34m()\u001b[0m\n",
      "\u001b[1;32mpandas\\_libs\\reduction.pyx\u001b[0m in \u001b[0;36mpandas._libs.reduction.Reducer.get_result\u001b[1;34m()\u001b[0m\n",
      "\u001b[1;32m~\\anaconda3\\lib\\site-packages\\pandas\\core\\apply.py\u001b[0m in \u001b[0;36mf\u001b[1;34m(x)\u001b[0m\n\u001b[0;32m    111\u001b[0m \u001b[1;33m\u001b[0m\u001b[0m\n\u001b[0;32m    112\u001b[0m             \u001b[1;32mdef\u001b[0m \u001b[0mf\u001b[0m\u001b[1;33m(\u001b[0m\u001b[0mx\u001b[0m\u001b[1;33m)\u001b[0m\u001b[1;33m:\u001b[0m\u001b[1;33m\u001b[0m\u001b[1;33m\u001b[0m\u001b[0m\n\u001b[1;32m--> 113\u001b[1;33m                 \u001b[1;32mreturn\u001b[0m \u001b[0mfunc\u001b[0m\u001b[1;33m(\u001b[0m\u001b[0mx\u001b[0m\u001b[1;33m,\u001b[0m \u001b[1;33m*\u001b[0m\u001b[0margs\u001b[0m\u001b[1;33m,\u001b[0m \u001b[1;33m**\u001b[0m\u001b[0mkwds\u001b[0m\u001b[1;33m)\u001b[0m\u001b[1;33m\u001b[0m\u001b[1;33m\u001b[0m\u001b[0m\n\u001b[0m\u001b[0;32m    114\u001b[0m \u001b[1;33m\u001b[0m\u001b[0m\n\u001b[0;32m    115\u001b[0m         \u001b[1;32melse\u001b[0m\u001b[1;33m:\u001b[0m\u001b[1;33m\u001b[0m\u001b[1;33m\u001b[0m\u001b[0m\n",
      "\u001b[1;32m<ipython-input-71-8b40d792bcf8>\u001b[0m in \u001b[0;36mget_zipcode\u001b[1;34m(df, geolocator, lat_field, lon_field)\u001b[0m\n\u001b[0;32m      4\u001b[0m \u001b[1;33m\u001b[0m\u001b[0m\n\u001b[0;32m      5\u001b[0m \u001b[1;32mdef\u001b[0m \u001b[0mget_zipcode\u001b[0m\u001b[1;33m(\u001b[0m\u001b[0mdf\u001b[0m\u001b[1;33m,\u001b[0m \u001b[0mgeolocator\u001b[0m\u001b[1;33m,\u001b[0m \u001b[0mlat_field\u001b[0m\u001b[1;33m,\u001b[0m \u001b[0mlon_field\u001b[0m\u001b[1;33m)\u001b[0m\u001b[1;33m:\u001b[0m\u001b[1;33m\u001b[0m\u001b[1;33m\u001b[0m\u001b[0m\n\u001b[1;32m----> 6\u001b[1;33m     \u001b[0mlocation\u001b[0m \u001b[1;33m=\u001b[0m \u001b[0mgeolocator\u001b[0m\u001b[1;33m.\u001b[0m\u001b[0mreverse\u001b[0m\u001b[1;33m(\u001b[0m\u001b[1;33m(\u001b[0m\u001b[0mdf\u001b[0m\u001b[1;33m[\u001b[0m\u001b[0mlat_field\u001b[0m\u001b[1;33m]\u001b[0m\u001b[1;33m,\u001b[0m \u001b[0mdf\u001b[0m\u001b[1;33m[\u001b[0m\u001b[0mlon_field\u001b[0m\u001b[1;33m]\u001b[0m\u001b[1;33m)\u001b[0m\u001b[1;33m)\u001b[0m\u001b[1;33m\u001b[0m\u001b[1;33m\u001b[0m\u001b[0m\n\u001b[0m\u001b[0;32m      7\u001b[0m     \u001b[1;32mreturn\u001b[0m \u001b[0mlocation\u001b[0m\u001b[1;33m.\u001b[0m\u001b[0mraw\u001b[0m\u001b[1;33m[\u001b[0m\u001b[1;34m'address'\u001b[0m\u001b[1;33m]\u001b[0m\u001b[1;31m#['postcode']\u001b[0m\u001b[1;33m\u001b[0m\u001b[1;33m\u001b[0m\u001b[0m\n\u001b[0;32m      8\u001b[0m \u001b[1;33m\u001b[0m\u001b[0m\n",
      "\u001b[1;32m~\\anaconda3\\lib\\site-packages\\geopy\\geocoders\\nominatim.py\u001b[0m in \u001b[0;36mreverse\u001b[1;34m(self, query, exactly_one, timeout, language, addressdetails, zoom)\u001b[0m\n\u001b[0;32m    357\u001b[0m         \u001b[0mlogger\u001b[0m\u001b[1;33m.\u001b[0m\u001b[0mdebug\u001b[0m\u001b[1;33m(\u001b[0m\u001b[1;34m\"%s.reverse: %s\"\u001b[0m\u001b[1;33m,\u001b[0m \u001b[0mself\u001b[0m\u001b[1;33m.\u001b[0m\u001b[0m__class__\u001b[0m\u001b[1;33m.\u001b[0m\u001b[0m__name__\u001b[0m\u001b[1;33m,\u001b[0m \u001b[0murl\u001b[0m\u001b[1;33m)\u001b[0m\u001b[1;33m\u001b[0m\u001b[1;33m\u001b[0m\u001b[0m\n\u001b[0;32m    358\u001b[0m         \u001b[0mcallback\u001b[0m \u001b[1;33m=\u001b[0m \u001b[0mpartial\u001b[0m\u001b[1;33m(\u001b[0m\u001b[0mself\u001b[0m\u001b[1;33m.\u001b[0m\u001b[0m_parse_json\u001b[0m\u001b[1;33m,\u001b[0m \u001b[0mexactly_one\u001b[0m\u001b[1;33m=\u001b[0m\u001b[0mexactly_one\u001b[0m\u001b[1;33m)\u001b[0m\u001b[1;33m\u001b[0m\u001b[1;33m\u001b[0m\u001b[0m\n\u001b[1;32m--> 359\u001b[1;33m         \u001b[1;32mreturn\u001b[0m \u001b[0mself\u001b[0m\u001b[1;33m.\u001b[0m\u001b[0m_call_geocoder\u001b[0m\u001b[1;33m(\u001b[0m\u001b[0murl\u001b[0m\u001b[1;33m,\u001b[0m \u001b[0mcallback\u001b[0m\u001b[1;33m,\u001b[0m \u001b[0mtimeout\u001b[0m\u001b[1;33m=\u001b[0m\u001b[0mtimeout\u001b[0m\u001b[1;33m)\u001b[0m\u001b[1;33m\u001b[0m\u001b[1;33m\u001b[0m\u001b[0m\n\u001b[0m\u001b[0;32m    360\u001b[0m \u001b[1;33m\u001b[0m\u001b[0m\n\u001b[0;32m    361\u001b[0m     \u001b[1;32mdef\u001b[0m \u001b[0m_parse_code\u001b[0m\u001b[1;33m(\u001b[0m\u001b[0mself\u001b[0m\u001b[1;33m,\u001b[0m \u001b[0mplace\u001b[0m\u001b[1;33m)\u001b[0m\u001b[1;33m:\u001b[0m\u001b[1;33m\u001b[0m\u001b[1;33m\u001b[0m\u001b[0m\n",
      "\u001b[1;32m~\\anaconda3\\lib\\site-packages\\geopy\\geocoders\\base.py\u001b[0m in \u001b[0;36m_call_geocoder\u001b[1;34m(self, url, callback, timeout, is_json, headers)\u001b[0m\n\u001b[0;32m    358\u001b[0m         \u001b[1;32mtry\u001b[0m\u001b[1;33m:\u001b[0m\u001b[1;33m\u001b[0m\u001b[1;33m\u001b[0m\u001b[0m\n\u001b[0;32m    359\u001b[0m             \u001b[1;32mif\u001b[0m \u001b[0mis_json\u001b[0m\u001b[1;33m:\u001b[0m\u001b[1;33m\u001b[0m\u001b[1;33m\u001b[0m\u001b[0m\n\u001b[1;32m--> 360\u001b[1;33m                 \u001b[0mresult\u001b[0m \u001b[1;33m=\u001b[0m \u001b[0mself\u001b[0m\u001b[1;33m.\u001b[0m\u001b[0madapter\u001b[0m\u001b[1;33m.\u001b[0m\u001b[0mget_json\u001b[0m\u001b[1;33m(\u001b[0m\u001b[0murl\u001b[0m\u001b[1;33m,\u001b[0m \u001b[0mtimeout\u001b[0m\u001b[1;33m=\u001b[0m\u001b[0mtimeout\u001b[0m\u001b[1;33m,\u001b[0m \u001b[0mheaders\u001b[0m\u001b[1;33m=\u001b[0m\u001b[0mreq_headers\u001b[0m\u001b[1;33m)\u001b[0m\u001b[1;33m\u001b[0m\u001b[1;33m\u001b[0m\u001b[0m\n\u001b[0m\u001b[0;32m    361\u001b[0m             \u001b[1;32melse\u001b[0m\u001b[1;33m:\u001b[0m\u001b[1;33m\u001b[0m\u001b[1;33m\u001b[0m\u001b[0m\n\u001b[0;32m    362\u001b[0m                 \u001b[0mresult\u001b[0m \u001b[1;33m=\u001b[0m \u001b[0mself\u001b[0m\u001b[1;33m.\u001b[0m\u001b[0madapter\u001b[0m\u001b[1;33m.\u001b[0m\u001b[0mget_text\u001b[0m\u001b[1;33m(\u001b[0m\u001b[0murl\u001b[0m\u001b[1;33m,\u001b[0m \u001b[0mtimeout\u001b[0m\u001b[1;33m=\u001b[0m\u001b[0mtimeout\u001b[0m\u001b[1;33m,\u001b[0m \u001b[0mheaders\u001b[0m\u001b[1;33m=\u001b[0m\u001b[0mreq_headers\u001b[0m\u001b[1;33m)\u001b[0m\u001b[1;33m\u001b[0m\u001b[1;33m\u001b[0m\u001b[0m\n",
      "\u001b[1;32m~\\anaconda3\\lib\\site-packages\\geopy\\adapters.py\u001b[0m in \u001b[0;36mget_json\u001b[1;34m(self, url, timeout, headers)\u001b[0m\n\u001b[0;32m    371\u001b[0m \u001b[1;33m\u001b[0m\u001b[0m\n\u001b[0;32m    372\u001b[0m     \u001b[1;32mdef\u001b[0m \u001b[0mget_json\u001b[0m\u001b[1;33m(\u001b[0m\u001b[0mself\u001b[0m\u001b[1;33m,\u001b[0m \u001b[0murl\u001b[0m\u001b[1;33m,\u001b[0m \u001b[1;33m*\u001b[0m\u001b[1;33m,\u001b[0m \u001b[0mtimeout\u001b[0m\u001b[1;33m,\u001b[0m \u001b[0mheaders\u001b[0m\u001b[1;33m)\u001b[0m\u001b[1;33m:\u001b[0m\u001b[1;33m\u001b[0m\u001b[1;33m\u001b[0m\u001b[0m\n\u001b[1;32m--> 373\u001b[1;33m         \u001b[0mresp\u001b[0m \u001b[1;33m=\u001b[0m \u001b[0mself\u001b[0m\u001b[1;33m.\u001b[0m\u001b[0m_request\u001b[0m\u001b[1;33m(\u001b[0m\u001b[0murl\u001b[0m\u001b[1;33m,\u001b[0m \u001b[0mtimeout\u001b[0m\u001b[1;33m=\u001b[0m\u001b[0mtimeout\u001b[0m\u001b[1;33m,\u001b[0m \u001b[0mheaders\u001b[0m\u001b[1;33m=\u001b[0m\u001b[0mheaders\u001b[0m\u001b[1;33m)\u001b[0m\u001b[1;33m\u001b[0m\u001b[1;33m\u001b[0m\u001b[0m\n\u001b[0m\u001b[0;32m    374\u001b[0m         \u001b[1;32mtry\u001b[0m\u001b[1;33m:\u001b[0m\u001b[1;33m\u001b[0m\u001b[1;33m\u001b[0m\u001b[0m\n\u001b[0;32m    375\u001b[0m             \u001b[1;32mreturn\u001b[0m \u001b[0mresp\u001b[0m\u001b[1;33m.\u001b[0m\u001b[0mjson\u001b[0m\u001b[1;33m(\u001b[0m\u001b[1;33m)\u001b[0m\u001b[1;33m\u001b[0m\u001b[1;33m\u001b[0m\u001b[0m\n",
      "\u001b[1;32m~\\anaconda3\\lib\\site-packages\\geopy\\adapters.py\u001b[0m in \u001b[0;36m_request\u001b[1;34m(self, url, timeout, headers)\u001b[0m\n\u001b[0;32m    381\u001b[0m     \u001b[1;32mdef\u001b[0m \u001b[0m_request\u001b[0m\u001b[1;33m(\u001b[0m\u001b[0mself\u001b[0m\u001b[1;33m,\u001b[0m \u001b[0murl\u001b[0m\u001b[1;33m,\u001b[0m \u001b[1;33m*\u001b[0m\u001b[1;33m,\u001b[0m \u001b[0mtimeout\u001b[0m\u001b[1;33m,\u001b[0m \u001b[0mheaders\u001b[0m\u001b[1;33m)\u001b[0m\u001b[1;33m:\u001b[0m\u001b[1;33m\u001b[0m\u001b[1;33m\u001b[0m\u001b[0m\n\u001b[0;32m    382\u001b[0m         \u001b[1;32mtry\u001b[0m\u001b[1;33m:\u001b[0m\u001b[1;33m\u001b[0m\u001b[1;33m\u001b[0m\u001b[0m\n\u001b[1;32m--> 383\u001b[1;33m             \u001b[0mresp\u001b[0m \u001b[1;33m=\u001b[0m \u001b[0mself\u001b[0m\u001b[1;33m.\u001b[0m\u001b[0msession\u001b[0m\u001b[1;33m.\u001b[0m\u001b[0mget\u001b[0m\u001b[1;33m(\u001b[0m\u001b[0murl\u001b[0m\u001b[1;33m,\u001b[0m \u001b[0mtimeout\u001b[0m\u001b[1;33m=\u001b[0m\u001b[0mtimeout\u001b[0m\u001b[1;33m,\u001b[0m \u001b[0mheaders\u001b[0m\u001b[1;33m=\u001b[0m\u001b[0mheaders\u001b[0m\u001b[1;33m)\u001b[0m\u001b[1;33m\u001b[0m\u001b[1;33m\u001b[0m\u001b[0m\n\u001b[0m\u001b[0;32m    384\u001b[0m         \u001b[1;32mexcept\u001b[0m \u001b[0mException\u001b[0m \u001b[1;32mas\u001b[0m \u001b[0merror\u001b[0m\u001b[1;33m:\u001b[0m\u001b[1;33m\u001b[0m\u001b[1;33m\u001b[0m\u001b[0m\n\u001b[0;32m    385\u001b[0m             \u001b[0mmessage\u001b[0m \u001b[1;33m=\u001b[0m \u001b[0mstr\u001b[0m\u001b[1;33m(\u001b[0m\u001b[0merror\u001b[0m\u001b[1;33m)\u001b[0m\u001b[1;33m\u001b[0m\u001b[1;33m\u001b[0m\u001b[0m\n",
      "\u001b[1;32m~\\anaconda3\\lib\\site-packages\\requests\\sessions.py\u001b[0m in \u001b[0;36mget\u001b[1;34m(self, url, **kwargs)\u001b[0m\n\u001b[0;32m    544\u001b[0m \u001b[1;33m\u001b[0m\u001b[0m\n\u001b[0;32m    545\u001b[0m         \u001b[0mkwargs\u001b[0m\u001b[1;33m.\u001b[0m\u001b[0msetdefault\u001b[0m\u001b[1;33m(\u001b[0m\u001b[1;34m'allow_redirects'\u001b[0m\u001b[1;33m,\u001b[0m \u001b[1;32mTrue\u001b[0m\u001b[1;33m)\u001b[0m\u001b[1;33m\u001b[0m\u001b[1;33m\u001b[0m\u001b[0m\n\u001b[1;32m--> 546\u001b[1;33m         \u001b[1;32mreturn\u001b[0m \u001b[0mself\u001b[0m\u001b[1;33m.\u001b[0m\u001b[0mrequest\u001b[0m\u001b[1;33m(\u001b[0m\u001b[1;34m'GET'\u001b[0m\u001b[1;33m,\u001b[0m \u001b[0murl\u001b[0m\u001b[1;33m,\u001b[0m \u001b[1;33m**\u001b[0m\u001b[0mkwargs\u001b[0m\u001b[1;33m)\u001b[0m\u001b[1;33m\u001b[0m\u001b[1;33m\u001b[0m\u001b[0m\n\u001b[0m\u001b[0;32m    547\u001b[0m \u001b[1;33m\u001b[0m\u001b[0m\n\u001b[0;32m    548\u001b[0m     \u001b[1;32mdef\u001b[0m \u001b[0moptions\u001b[0m\u001b[1;33m(\u001b[0m\u001b[0mself\u001b[0m\u001b[1;33m,\u001b[0m \u001b[0murl\u001b[0m\u001b[1;33m,\u001b[0m \u001b[1;33m**\u001b[0m\u001b[0mkwargs\u001b[0m\u001b[1;33m)\u001b[0m\u001b[1;33m:\u001b[0m\u001b[1;33m\u001b[0m\u001b[1;33m\u001b[0m\u001b[0m\n",
      "\u001b[1;32m~\\anaconda3\\lib\\site-packages\\requests\\sessions.py\u001b[0m in \u001b[0;36mrequest\u001b[1;34m(self, method, url, params, data, headers, cookies, files, auth, timeout, allow_redirects, proxies, hooks, stream, verify, cert, json)\u001b[0m\n\u001b[0;32m    531\u001b[0m         }\n\u001b[0;32m    532\u001b[0m         \u001b[0msend_kwargs\u001b[0m\u001b[1;33m.\u001b[0m\u001b[0mupdate\u001b[0m\u001b[1;33m(\u001b[0m\u001b[0msettings\u001b[0m\u001b[1;33m)\u001b[0m\u001b[1;33m\u001b[0m\u001b[1;33m\u001b[0m\u001b[0m\n\u001b[1;32m--> 533\u001b[1;33m         \u001b[0mresp\u001b[0m \u001b[1;33m=\u001b[0m \u001b[0mself\u001b[0m\u001b[1;33m.\u001b[0m\u001b[0msend\u001b[0m\u001b[1;33m(\u001b[0m\u001b[0mprep\u001b[0m\u001b[1;33m,\u001b[0m \u001b[1;33m**\u001b[0m\u001b[0msend_kwargs\u001b[0m\u001b[1;33m)\u001b[0m\u001b[1;33m\u001b[0m\u001b[1;33m\u001b[0m\u001b[0m\n\u001b[0m\u001b[0;32m    534\u001b[0m \u001b[1;33m\u001b[0m\u001b[0m\n\u001b[0;32m    535\u001b[0m         \u001b[1;32mreturn\u001b[0m \u001b[0mresp\u001b[0m\u001b[1;33m\u001b[0m\u001b[1;33m\u001b[0m\u001b[0m\n",
      "\u001b[1;32m~\\anaconda3\\lib\\site-packages\\requests\\sessions.py\u001b[0m in \u001b[0;36msend\u001b[1;34m(self, request, **kwargs)\u001b[0m\n\u001b[0;32m    644\u001b[0m \u001b[1;33m\u001b[0m\u001b[0m\n\u001b[0;32m    645\u001b[0m         \u001b[1;31m# Send the request\u001b[0m\u001b[1;33m\u001b[0m\u001b[1;33m\u001b[0m\u001b[1;33m\u001b[0m\u001b[0m\n\u001b[1;32m--> 646\u001b[1;33m         \u001b[0mr\u001b[0m \u001b[1;33m=\u001b[0m \u001b[0madapter\u001b[0m\u001b[1;33m.\u001b[0m\u001b[0msend\u001b[0m\u001b[1;33m(\u001b[0m\u001b[0mrequest\u001b[0m\u001b[1;33m,\u001b[0m \u001b[1;33m**\u001b[0m\u001b[0mkwargs\u001b[0m\u001b[1;33m)\u001b[0m\u001b[1;33m\u001b[0m\u001b[1;33m\u001b[0m\u001b[0m\n\u001b[0m\u001b[0;32m    647\u001b[0m \u001b[1;33m\u001b[0m\u001b[0m\n\u001b[0;32m    648\u001b[0m         \u001b[1;31m# Total elapsed time of the request (approximately)\u001b[0m\u001b[1;33m\u001b[0m\u001b[1;33m\u001b[0m\u001b[1;33m\u001b[0m\u001b[0m\n",
      "\u001b[1;32m~\\anaconda3\\lib\\site-packages\\requests\\adapters.py\u001b[0m in \u001b[0;36msend\u001b[1;34m(self, request, stream, timeout, verify, cert, proxies)\u001b[0m\n\u001b[0;32m    447\u001b[0m                     \u001b[0mdecode_content\u001b[0m\u001b[1;33m=\u001b[0m\u001b[1;32mFalse\u001b[0m\u001b[1;33m,\u001b[0m\u001b[1;33m\u001b[0m\u001b[1;33m\u001b[0m\u001b[0m\n\u001b[0;32m    448\u001b[0m                     \u001b[0mretries\u001b[0m\u001b[1;33m=\u001b[0m\u001b[0mself\u001b[0m\u001b[1;33m.\u001b[0m\u001b[0mmax_retries\u001b[0m\u001b[1;33m,\u001b[0m\u001b[1;33m\u001b[0m\u001b[1;33m\u001b[0m\u001b[0m\n\u001b[1;32m--> 449\u001b[1;33m                     \u001b[0mtimeout\u001b[0m\u001b[1;33m=\u001b[0m\u001b[0mtimeout\u001b[0m\u001b[1;33m\u001b[0m\u001b[1;33m\u001b[0m\u001b[0m\n\u001b[0m\u001b[0;32m    450\u001b[0m                 )\n\u001b[0;32m    451\u001b[0m \u001b[1;33m\u001b[0m\u001b[0m\n",
      "\u001b[1;32m~\\anaconda3\\lib\\site-packages\\urllib3\\connectionpool.py\u001b[0m in \u001b[0;36murlopen\u001b[1;34m(self, method, url, body, headers, retries, redirect, assert_same_host, timeout, pool_timeout, release_conn, chunked, body_pos, **response_kw)\u001b[0m\n\u001b[0;32m    670\u001b[0m                 \u001b[0mbody\u001b[0m\u001b[1;33m=\u001b[0m\u001b[0mbody\u001b[0m\u001b[1;33m,\u001b[0m\u001b[1;33m\u001b[0m\u001b[1;33m\u001b[0m\u001b[0m\n\u001b[0;32m    671\u001b[0m                 \u001b[0mheaders\u001b[0m\u001b[1;33m=\u001b[0m\u001b[0mheaders\u001b[0m\u001b[1;33m,\u001b[0m\u001b[1;33m\u001b[0m\u001b[1;33m\u001b[0m\u001b[0m\n\u001b[1;32m--> 672\u001b[1;33m                 \u001b[0mchunked\u001b[0m\u001b[1;33m=\u001b[0m\u001b[0mchunked\u001b[0m\u001b[1;33m,\u001b[0m\u001b[1;33m\u001b[0m\u001b[1;33m\u001b[0m\u001b[0m\n\u001b[0m\u001b[0;32m    673\u001b[0m             )\n\u001b[0;32m    674\u001b[0m \u001b[1;33m\u001b[0m\u001b[0m\n",
      "\u001b[1;32m~\\anaconda3\\lib\\site-packages\\urllib3\\connectionpool.py\u001b[0m in \u001b[0;36m_make_request\u001b[1;34m(self, conn, method, url, timeout, chunked, **httplib_request_kw)\u001b[0m\n\u001b[0;32m    419\u001b[0m                     \u001b[1;31m# Python 3 (including for exceptions like SystemExit).\u001b[0m\u001b[1;33m\u001b[0m\u001b[1;33m\u001b[0m\u001b[1;33m\u001b[0m\u001b[0m\n\u001b[0;32m    420\u001b[0m                     \u001b[1;31m# Otherwise it looks like a bug in the code.\u001b[0m\u001b[1;33m\u001b[0m\u001b[1;33m\u001b[0m\u001b[1;33m\u001b[0m\u001b[0m\n\u001b[1;32m--> 421\u001b[1;33m                     \u001b[0msix\u001b[0m\u001b[1;33m.\u001b[0m\u001b[0mraise_from\u001b[0m\u001b[1;33m(\u001b[0m\u001b[0me\u001b[0m\u001b[1;33m,\u001b[0m \u001b[1;32mNone\u001b[0m\u001b[1;33m)\u001b[0m\u001b[1;33m\u001b[0m\u001b[1;33m\u001b[0m\u001b[0m\n\u001b[0m\u001b[0;32m    422\u001b[0m         \u001b[1;32mexcept\u001b[0m \u001b[1;33m(\u001b[0m\u001b[0mSocketTimeout\u001b[0m\u001b[1;33m,\u001b[0m \u001b[0mBaseSSLError\u001b[0m\u001b[1;33m,\u001b[0m \u001b[0mSocketError\u001b[0m\u001b[1;33m)\u001b[0m \u001b[1;32mas\u001b[0m \u001b[0me\u001b[0m\u001b[1;33m:\u001b[0m\u001b[1;33m\u001b[0m\u001b[1;33m\u001b[0m\u001b[0m\n\u001b[0;32m    423\u001b[0m             \u001b[0mself\u001b[0m\u001b[1;33m.\u001b[0m\u001b[0m_raise_timeout\u001b[0m\u001b[1;33m(\u001b[0m\u001b[0merr\u001b[0m\u001b[1;33m=\u001b[0m\u001b[0me\u001b[0m\u001b[1;33m,\u001b[0m \u001b[0murl\u001b[0m\u001b[1;33m=\u001b[0m\u001b[0murl\u001b[0m\u001b[1;33m,\u001b[0m \u001b[0mtimeout_value\u001b[0m\u001b[1;33m=\u001b[0m\u001b[0mread_timeout\u001b[0m\u001b[1;33m)\u001b[0m\u001b[1;33m\u001b[0m\u001b[1;33m\u001b[0m\u001b[0m\n",
      "\u001b[1;32m~\\anaconda3\\lib\\site-packages\\urllib3\\packages\\six.py\u001b[0m in \u001b[0;36mraise_from\u001b[1;34m(value, from_value)\u001b[0m\n",
      "\u001b[1;32m~\\anaconda3\\lib\\site-packages\\urllib3\\connectionpool.py\u001b[0m in \u001b[0;36m_make_request\u001b[1;34m(self, conn, method, url, timeout, chunked, **httplib_request_kw)\u001b[0m\n\u001b[0;32m    414\u001b[0m                 \u001b[1;31m# Python 3\u001b[0m\u001b[1;33m\u001b[0m\u001b[1;33m\u001b[0m\u001b[1;33m\u001b[0m\u001b[0m\n\u001b[0;32m    415\u001b[0m                 \u001b[1;32mtry\u001b[0m\u001b[1;33m:\u001b[0m\u001b[1;33m\u001b[0m\u001b[1;33m\u001b[0m\u001b[0m\n\u001b[1;32m--> 416\u001b[1;33m                     \u001b[0mhttplib_response\u001b[0m \u001b[1;33m=\u001b[0m \u001b[0mconn\u001b[0m\u001b[1;33m.\u001b[0m\u001b[0mgetresponse\u001b[0m\u001b[1;33m(\u001b[0m\u001b[1;33m)\u001b[0m\u001b[1;33m\u001b[0m\u001b[1;33m\u001b[0m\u001b[0m\n\u001b[0m\u001b[0;32m    417\u001b[0m                 \u001b[1;32mexcept\u001b[0m \u001b[0mBaseException\u001b[0m \u001b[1;32mas\u001b[0m \u001b[0me\u001b[0m\u001b[1;33m:\u001b[0m\u001b[1;33m\u001b[0m\u001b[1;33m\u001b[0m\u001b[0m\n\u001b[0;32m    418\u001b[0m                     \u001b[1;31m# Remove the TypeError from the exception chain in\u001b[0m\u001b[1;33m\u001b[0m\u001b[1;33m\u001b[0m\u001b[1;33m\u001b[0m\u001b[0m\n",
      "\u001b[1;32m~\\anaconda3\\lib\\http\\client.py\u001b[0m in \u001b[0;36mgetresponse\u001b[1;34m(self)\u001b[0m\n\u001b[0;32m   1342\u001b[0m         \u001b[1;32mtry\u001b[0m\u001b[1;33m:\u001b[0m\u001b[1;33m\u001b[0m\u001b[1;33m\u001b[0m\u001b[0m\n\u001b[0;32m   1343\u001b[0m             \u001b[1;32mtry\u001b[0m\u001b[1;33m:\u001b[0m\u001b[1;33m\u001b[0m\u001b[1;33m\u001b[0m\u001b[0m\n\u001b[1;32m-> 1344\u001b[1;33m                 \u001b[0mresponse\u001b[0m\u001b[1;33m.\u001b[0m\u001b[0mbegin\u001b[0m\u001b[1;33m(\u001b[0m\u001b[1;33m)\u001b[0m\u001b[1;33m\u001b[0m\u001b[1;33m\u001b[0m\u001b[0m\n\u001b[0m\u001b[0;32m   1345\u001b[0m             \u001b[1;32mexcept\u001b[0m \u001b[0mConnectionError\u001b[0m\u001b[1;33m:\u001b[0m\u001b[1;33m\u001b[0m\u001b[1;33m\u001b[0m\u001b[0m\n\u001b[0;32m   1346\u001b[0m                 \u001b[0mself\u001b[0m\u001b[1;33m.\u001b[0m\u001b[0mclose\u001b[0m\u001b[1;33m(\u001b[0m\u001b[1;33m)\u001b[0m\u001b[1;33m\u001b[0m\u001b[1;33m\u001b[0m\u001b[0m\n",
      "\u001b[1;32m~\\anaconda3\\lib\\http\\client.py\u001b[0m in \u001b[0;36mbegin\u001b[1;34m(self)\u001b[0m\n\u001b[0;32m    304\u001b[0m         \u001b[1;31m# read until we get a non-100 response\u001b[0m\u001b[1;33m\u001b[0m\u001b[1;33m\u001b[0m\u001b[1;33m\u001b[0m\u001b[0m\n\u001b[0;32m    305\u001b[0m         \u001b[1;32mwhile\u001b[0m \u001b[1;32mTrue\u001b[0m\u001b[1;33m:\u001b[0m\u001b[1;33m\u001b[0m\u001b[1;33m\u001b[0m\u001b[0m\n\u001b[1;32m--> 306\u001b[1;33m             \u001b[0mversion\u001b[0m\u001b[1;33m,\u001b[0m \u001b[0mstatus\u001b[0m\u001b[1;33m,\u001b[0m \u001b[0mreason\u001b[0m \u001b[1;33m=\u001b[0m \u001b[0mself\u001b[0m\u001b[1;33m.\u001b[0m\u001b[0m_read_status\u001b[0m\u001b[1;33m(\u001b[0m\u001b[1;33m)\u001b[0m\u001b[1;33m\u001b[0m\u001b[1;33m\u001b[0m\u001b[0m\n\u001b[0m\u001b[0;32m    307\u001b[0m             \u001b[1;32mif\u001b[0m \u001b[0mstatus\u001b[0m \u001b[1;33m!=\u001b[0m \u001b[0mCONTINUE\u001b[0m\u001b[1;33m:\u001b[0m\u001b[1;33m\u001b[0m\u001b[1;33m\u001b[0m\u001b[0m\n\u001b[0;32m    308\u001b[0m                 \u001b[1;32mbreak\u001b[0m\u001b[1;33m\u001b[0m\u001b[1;33m\u001b[0m\u001b[0m\n",
      "\u001b[1;32m~\\anaconda3\\lib\\http\\client.py\u001b[0m in \u001b[0;36m_read_status\u001b[1;34m(self)\u001b[0m\n\u001b[0;32m    265\u001b[0m \u001b[1;33m\u001b[0m\u001b[0m\n\u001b[0;32m    266\u001b[0m     \u001b[1;32mdef\u001b[0m \u001b[0m_read_status\u001b[0m\u001b[1;33m(\u001b[0m\u001b[0mself\u001b[0m\u001b[1;33m)\u001b[0m\u001b[1;33m:\u001b[0m\u001b[1;33m\u001b[0m\u001b[1;33m\u001b[0m\u001b[0m\n\u001b[1;32m--> 267\u001b[1;33m         \u001b[0mline\u001b[0m \u001b[1;33m=\u001b[0m \u001b[0mstr\u001b[0m\u001b[1;33m(\u001b[0m\u001b[0mself\u001b[0m\u001b[1;33m.\u001b[0m\u001b[0mfp\u001b[0m\u001b[1;33m.\u001b[0m\u001b[0mreadline\u001b[0m\u001b[1;33m(\u001b[0m\u001b[0m_MAXLINE\u001b[0m \u001b[1;33m+\u001b[0m \u001b[1;36m1\u001b[0m\u001b[1;33m)\u001b[0m\u001b[1;33m,\u001b[0m \u001b[1;34m\"iso-8859-1\"\u001b[0m\u001b[1;33m)\u001b[0m\u001b[1;33m\u001b[0m\u001b[1;33m\u001b[0m\u001b[0m\n\u001b[0m\u001b[0;32m    268\u001b[0m         \u001b[1;32mif\u001b[0m \u001b[0mlen\u001b[0m\u001b[1;33m(\u001b[0m\u001b[0mline\u001b[0m\u001b[1;33m)\u001b[0m \u001b[1;33m>\u001b[0m \u001b[0m_MAXLINE\u001b[0m\u001b[1;33m:\u001b[0m\u001b[1;33m\u001b[0m\u001b[1;33m\u001b[0m\u001b[0m\n\u001b[0;32m    269\u001b[0m             \u001b[1;32mraise\u001b[0m \u001b[0mLineTooLong\u001b[0m\u001b[1;33m(\u001b[0m\u001b[1;34m\"status line\"\u001b[0m\u001b[1;33m)\u001b[0m\u001b[1;33m\u001b[0m\u001b[1;33m\u001b[0m\u001b[0m\n",
      "\u001b[1;32m~\\anaconda3\\lib\\socket.py\u001b[0m in \u001b[0;36mreadinto\u001b[1;34m(self, b)\u001b[0m\n\u001b[0;32m    587\u001b[0m         \u001b[1;32mwhile\u001b[0m \u001b[1;32mTrue\u001b[0m\u001b[1;33m:\u001b[0m\u001b[1;33m\u001b[0m\u001b[1;33m\u001b[0m\u001b[0m\n\u001b[0;32m    588\u001b[0m             \u001b[1;32mtry\u001b[0m\u001b[1;33m:\u001b[0m\u001b[1;33m\u001b[0m\u001b[1;33m\u001b[0m\u001b[0m\n\u001b[1;32m--> 589\u001b[1;33m                 \u001b[1;32mreturn\u001b[0m \u001b[0mself\u001b[0m\u001b[1;33m.\u001b[0m\u001b[0m_sock\u001b[0m\u001b[1;33m.\u001b[0m\u001b[0mrecv_into\u001b[0m\u001b[1;33m(\u001b[0m\u001b[0mb\u001b[0m\u001b[1;33m)\u001b[0m\u001b[1;33m\u001b[0m\u001b[1;33m\u001b[0m\u001b[0m\n\u001b[0m\u001b[0;32m    590\u001b[0m             \u001b[1;32mexcept\u001b[0m \u001b[0mtimeout\u001b[0m\u001b[1;33m:\u001b[0m\u001b[1;33m\u001b[0m\u001b[1;33m\u001b[0m\u001b[0m\n\u001b[0;32m    591\u001b[0m                 \u001b[0mself\u001b[0m\u001b[1;33m.\u001b[0m\u001b[0m_timeout_occurred\u001b[0m \u001b[1;33m=\u001b[0m \u001b[1;32mTrue\u001b[0m\u001b[1;33m\u001b[0m\u001b[1;33m\u001b[0m\u001b[0m\n",
      "\u001b[1;32m~\\anaconda3\\lib\\site-packages\\urllib3\\contrib\\pyopenssl.py\u001b[0m in \u001b[0;36mrecv_into\u001b[1;34m(self, *args, **kwargs)\u001b[0m\n\u001b[0;32m    323\u001b[0m                 \u001b[1;32mraise\u001b[0m\u001b[1;33m\u001b[0m\u001b[1;33m\u001b[0m\u001b[0m\n\u001b[0;32m    324\u001b[0m         \u001b[1;32mexcept\u001b[0m \u001b[0mOpenSSL\u001b[0m\u001b[1;33m.\u001b[0m\u001b[0mSSL\u001b[0m\u001b[1;33m.\u001b[0m\u001b[0mWantReadError\u001b[0m\u001b[1;33m:\u001b[0m\u001b[1;33m\u001b[0m\u001b[1;33m\u001b[0m\u001b[0m\n\u001b[1;32m--> 325\u001b[1;33m             \u001b[1;32mif\u001b[0m \u001b[1;32mnot\u001b[0m \u001b[0mutil\u001b[0m\u001b[1;33m.\u001b[0m\u001b[0mwait_for_read\u001b[0m\u001b[1;33m(\u001b[0m\u001b[0mself\u001b[0m\u001b[1;33m.\u001b[0m\u001b[0msocket\u001b[0m\u001b[1;33m,\u001b[0m \u001b[0mself\u001b[0m\u001b[1;33m.\u001b[0m\u001b[0msocket\u001b[0m\u001b[1;33m.\u001b[0m\u001b[0mgettimeout\u001b[0m\u001b[1;33m(\u001b[0m\u001b[1;33m)\u001b[0m\u001b[1;33m)\u001b[0m\u001b[1;33m:\u001b[0m\u001b[1;33m\u001b[0m\u001b[1;33m\u001b[0m\u001b[0m\n\u001b[0m\u001b[0;32m    326\u001b[0m                 \u001b[1;32mraise\u001b[0m \u001b[0mtimeout\u001b[0m\u001b[1;33m(\u001b[0m\u001b[1;34m\"The read operation timed out\"\u001b[0m\u001b[1;33m)\u001b[0m\u001b[1;33m\u001b[0m\u001b[1;33m\u001b[0m\u001b[0m\n\u001b[0;32m    327\u001b[0m             \u001b[1;32melse\u001b[0m\u001b[1;33m:\u001b[0m\u001b[1;33m\u001b[0m\u001b[1;33m\u001b[0m\u001b[0m\n",
      "\u001b[1;32m~\\anaconda3\\lib\\site-packages\\urllib3\\util\\wait.py\u001b[0m in \u001b[0;36mwait_for_read\u001b[1;34m(sock, timeout)\u001b[0m\n\u001b[0;32m    144\u001b[0m     \u001b[0mReturns\u001b[0m \u001b[1;32mTrue\u001b[0m \u001b[1;32mif\u001b[0m \u001b[0mthe\u001b[0m \u001b[0msocket\u001b[0m \u001b[1;32mis\u001b[0m \u001b[0mreadable\u001b[0m\u001b[1;33m,\u001b[0m \u001b[1;32mor\u001b[0m \u001b[1;32mFalse\u001b[0m \u001b[1;32mif\u001b[0m \u001b[0mthe\u001b[0m \u001b[0mtimeout\u001b[0m \u001b[0mexpired\u001b[0m\u001b[1;33m.\u001b[0m\u001b[1;33m\u001b[0m\u001b[1;33m\u001b[0m\u001b[0m\n\u001b[0;32m    145\u001b[0m     \"\"\"\n\u001b[1;32m--> 146\u001b[1;33m     \u001b[1;32mreturn\u001b[0m \u001b[0mwait_for_socket\u001b[0m\u001b[1;33m(\u001b[0m\u001b[0msock\u001b[0m\u001b[1;33m,\u001b[0m \u001b[0mread\u001b[0m\u001b[1;33m=\u001b[0m\u001b[1;32mTrue\u001b[0m\u001b[1;33m,\u001b[0m \u001b[0mtimeout\u001b[0m\u001b[1;33m=\u001b[0m\u001b[0mtimeout\u001b[0m\u001b[1;33m)\u001b[0m\u001b[1;33m\u001b[0m\u001b[1;33m\u001b[0m\u001b[0m\n\u001b[0m\u001b[0;32m    147\u001b[0m \u001b[1;33m\u001b[0m\u001b[0m\n\u001b[0;32m    148\u001b[0m \u001b[1;33m\u001b[0m\u001b[0m\n",
      "\u001b[1;32m~\\anaconda3\\lib\\site-packages\\urllib3\\util\\wait.py\u001b[0m in \u001b[0;36mselect_wait_for_socket\u001b[1;34m(sock, read, write, timeout)\u001b[0m\n\u001b[0;32m     84\u001b[0m     \u001b[1;31m# thing.)\u001b[0m\u001b[1;33m\u001b[0m\u001b[1;33m\u001b[0m\u001b[1;33m\u001b[0m\u001b[0m\n\u001b[0;32m     85\u001b[0m     \u001b[0mfn\u001b[0m \u001b[1;33m=\u001b[0m \u001b[0mpartial\u001b[0m\u001b[1;33m(\u001b[0m\u001b[0mselect\u001b[0m\u001b[1;33m.\u001b[0m\u001b[0mselect\u001b[0m\u001b[1;33m,\u001b[0m \u001b[0mrcheck\u001b[0m\u001b[1;33m,\u001b[0m \u001b[0mwcheck\u001b[0m\u001b[1;33m,\u001b[0m \u001b[0mwcheck\u001b[0m\u001b[1;33m)\u001b[0m\u001b[1;33m\u001b[0m\u001b[1;33m\u001b[0m\u001b[0m\n\u001b[1;32m---> 86\u001b[1;33m     \u001b[0mrready\u001b[0m\u001b[1;33m,\u001b[0m \u001b[0mwready\u001b[0m\u001b[1;33m,\u001b[0m \u001b[0mxready\u001b[0m \u001b[1;33m=\u001b[0m \u001b[0m_retry_on_intr\u001b[0m\u001b[1;33m(\u001b[0m\u001b[0mfn\u001b[0m\u001b[1;33m,\u001b[0m \u001b[0mtimeout\u001b[0m\u001b[1;33m)\u001b[0m\u001b[1;33m\u001b[0m\u001b[1;33m\u001b[0m\u001b[0m\n\u001b[0m\u001b[0;32m     87\u001b[0m     \u001b[1;32mreturn\u001b[0m \u001b[0mbool\u001b[0m\u001b[1;33m(\u001b[0m\u001b[0mrready\u001b[0m \u001b[1;32mor\u001b[0m \u001b[0mwready\u001b[0m \u001b[1;32mor\u001b[0m \u001b[0mxready\u001b[0m\u001b[1;33m)\u001b[0m\u001b[1;33m\u001b[0m\u001b[1;33m\u001b[0m\u001b[0m\n\u001b[0;32m     88\u001b[0m \u001b[1;33m\u001b[0m\u001b[0m\n",
      "\u001b[1;32m~\\anaconda3\\lib\\site-packages\\urllib3\\util\\wait.py\u001b[0m in \u001b[0;36m_retry_on_intr\u001b[1;34m(fn, timeout)\u001b[0m\n\u001b[0;32m     41\u001b[0m     \u001b[1;31m# Modern Python, that retries syscalls by default\u001b[0m\u001b[1;33m\u001b[0m\u001b[1;33m\u001b[0m\u001b[1;33m\u001b[0m\u001b[0m\n\u001b[0;32m     42\u001b[0m     \u001b[1;32mdef\u001b[0m \u001b[0m_retry_on_intr\u001b[0m\u001b[1;33m(\u001b[0m\u001b[0mfn\u001b[0m\u001b[1;33m,\u001b[0m \u001b[0mtimeout\u001b[0m\u001b[1;33m)\u001b[0m\u001b[1;33m:\u001b[0m\u001b[1;33m\u001b[0m\u001b[1;33m\u001b[0m\u001b[0m\n\u001b[1;32m---> 43\u001b[1;33m         \u001b[1;32mreturn\u001b[0m \u001b[0mfn\u001b[0m\u001b[1;33m(\u001b[0m\u001b[0mtimeout\u001b[0m\u001b[1;33m)\u001b[0m\u001b[1;33m\u001b[0m\u001b[1;33m\u001b[0m\u001b[0m\n\u001b[0m\u001b[0;32m     44\u001b[0m \u001b[1;33m\u001b[0m\u001b[0m\n\u001b[0;32m     45\u001b[0m \u001b[1;33m\u001b[0m\u001b[0m\n",
      "\u001b[1;31mKeyboardInterrupt\u001b[0m: "
     ]
    }
   ],
   "source": [
    "# import geopy  #DO NOT RUN THIS CELL\n",
    "# import pandas as pd\n",
    "\n",
    "\n",
    "# def get_zipcode(df, geolocator, lat_field, lon_field):\n",
    "#     location = geolocator.reverse((df[lat_field], df[lon_field]))\n",
    "#     return location.raw['address']#['postcode']\n",
    "\n",
    "\n",
    "# geolocator = geopy.Nominatim(user_agent=\"rewelling09@gmail.com\")\n",
    "\n",
    "# zip_df = pd.DataFrame({\n",
    "#     'Lat': permitLtLn_df[\"lat\"],\n",
    "#     'Lon': permitLtLn_df[\"lng\"]\n",
    "# })\n",
    "# zipcodes = zip_df.apply(get_zipcode, axis=1, geolocator=geolocator, lat_field='Lat', lon_field='Lon')"
   ]
  },
  {
   "cell_type": "code",
   "execution_count": 26,
   "metadata": {},
   "outputs": [
    {
     "output_type": "execute_result",
     "data": {
      "text/plain": [
       "0        {'house_number': '2422', 'road': 'West Gunniso...\n",
       "1        {'neighbourhood': 'Loop', 'city': 'Chicago', '...\n",
       "2        {'house_number': '4912', 'road': 'West Melrose...\n",
       "3        {'house_number': '3224', 'road': 'North Lawnda...\n",
       "4        {'house_number': '3739', 'road': 'North Marshf...\n",
       "                               ...                        \n",
       "39895    {'amenity': 'Merrionette Park Police Departmen...\n",
       "40618    {'house_number': '4730', 'road': 'West 89th Pl...\n",
       "44007    {'road': 'West 69th Street', 'village': 'Bedfo...\n",
       "46188    {'amenity': 'Auto Warehousing Company', 'road'...\n",
       "49745    {'road': 'Des Plaines Blue Unpaved Trail', 'ne...\n",
       "Length: 661, dtype: object"
      ]
     },
     "metadata": {},
     "execution_count": 26
    }
   ],
   "source": [
    "zipcodes"
   ]
  },
  {
   "cell_type": "code",
   "execution_count": 27,
   "metadata": {},
   "outputs": [
    {
     "output_type": "execute_result",
     "data": {
      "text/plain": [
       "         lat    lng                                             detail\n",
       "0      41.97 -87.69  {'house_number': '2422', 'road': 'West Gunniso...\n",
       "1      41.88 -87.62  {'neighbourhood': 'Loop', 'city': 'Chicago', '...\n",
       "2      41.94 -87.75  {'house_number': '4912', 'road': 'West Melrose...\n",
       "3      41.94 -87.72  {'house_number': '3224', 'road': 'North Lawnda...\n",
       "4      41.95 -87.67  {'house_number': '3739', 'road': 'North Marshf...\n",
       "...      ...    ...                                                ...\n",
       "39895  41.68 -87.70  {'amenity': 'Merrionette Park Police Departmen...\n",
       "40618  41.73 -87.74  {'house_number': '4730', 'road': 'West 89th Pl...\n",
       "44007  41.77 -87.77  {'road': 'West 69th Street', 'village': 'Bedfo...\n",
       "46188  41.67 -87.57  {'amenity': 'Auto Warehousing Company', 'road'...\n",
       "49745  41.97 -87.85  {'road': 'Des Plaines Blue Unpaved Trail', 'ne...\n",
       "\n",
       "[661 rows x 3 columns]"
      ],
      "text/html": "<div>\n<style scoped>\n    .dataframe tbody tr th:only-of-type {\n        vertical-align: middle;\n    }\n\n    .dataframe tbody tr th {\n        vertical-align: top;\n    }\n\n    .dataframe thead th {\n        text-align: right;\n    }\n</style>\n<table border=\"1\" class=\"dataframe\">\n  <thead>\n    <tr style=\"text-align: right;\">\n      <th></th>\n      <th>lat</th>\n      <th>lng</th>\n      <th>detail</th>\n    </tr>\n  </thead>\n  <tbody>\n    <tr>\n      <th>0</th>\n      <td>41.97</td>\n      <td>-87.69</td>\n      <td>{'house_number': '2422', 'road': 'West Gunniso...</td>\n    </tr>\n    <tr>\n      <th>1</th>\n      <td>41.88</td>\n      <td>-87.62</td>\n      <td>{'neighbourhood': 'Loop', 'city': 'Chicago', '...</td>\n    </tr>\n    <tr>\n      <th>2</th>\n      <td>41.94</td>\n      <td>-87.75</td>\n      <td>{'house_number': '4912', 'road': 'West Melrose...</td>\n    </tr>\n    <tr>\n      <th>3</th>\n      <td>41.94</td>\n      <td>-87.72</td>\n      <td>{'house_number': '3224', 'road': 'North Lawnda...</td>\n    </tr>\n    <tr>\n      <th>4</th>\n      <td>41.95</td>\n      <td>-87.67</td>\n      <td>{'house_number': '3739', 'road': 'North Marshf...</td>\n    </tr>\n    <tr>\n      <th>...</th>\n      <td>...</td>\n      <td>...</td>\n      <td>...</td>\n    </tr>\n    <tr>\n      <th>39895</th>\n      <td>41.68</td>\n      <td>-87.70</td>\n      <td>{'amenity': 'Merrionette Park Police Departmen...</td>\n    </tr>\n    <tr>\n      <th>40618</th>\n      <td>41.73</td>\n      <td>-87.74</td>\n      <td>{'house_number': '4730', 'road': 'West 89th Pl...</td>\n    </tr>\n    <tr>\n      <th>44007</th>\n      <td>41.77</td>\n      <td>-87.77</td>\n      <td>{'road': 'West 69th Street', 'village': 'Bedfo...</td>\n    </tr>\n    <tr>\n      <th>46188</th>\n      <td>41.67</td>\n      <td>-87.57</td>\n      <td>{'amenity': 'Auto Warehousing Company', 'road'...</td>\n    </tr>\n    <tr>\n      <th>49745</th>\n      <td>41.97</td>\n      <td>-87.85</td>\n      <td>{'road': 'Des Plaines Blue Unpaved Trail', 'ne...</td>\n    </tr>\n  </tbody>\n</table>\n<p>661 rows × 3 columns</p>\n</div>"
     },
     "metadata": {},
     "execution_count": 27
    }
   ],
   "source": [
    "permitLtLn_df[\"detail\"] = ''\n",
    "permitLtLn_df[\"detail\"] = zipcodes\n",
    "permitLtLn_df"
   ]
  },
  {
   "cell_type": "code",
   "execution_count": 28,
   "metadata": {},
   "outputs": [],
   "source": [
    "permitLtLn_df.to_csv('permitLtLn_df.csv', index=False)"
   ]
  },
  {
   "cell_type": "code",
   "execution_count": 72,
   "metadata": {},
   "outputs": [
    {
     "output_type": "execute_result",
     "data": {
      "text/plain": [
       "     lat    lng                                             detail      Zip\n",
       "0  41.92 -87.67  {'road': 'North Elston Avenue', 'neighbourhood...  60647.0\n",
       "1  42.00 -87.71  {'house_number': '6519-6525', 'road': 'North K...  60712.0\n",
       "2  41.89 -87.70  {'amenity': 'Recycling Drop-Off Center', 'road...  60622.0\n",
       "3  41.70 -87.53  {'house_number': '10729', 'road': 'South Avenu...  46394.0\n",
       "4  42.00 -87.94  {'house_number': '1869', 'road': 'South Elmhur...  60007.0"
      ],
      "text/html": "<div>\n<style scoped>\n    .dataframe tbody tr th:only-of-type {\n        vertical-align: middle;\n    }\n\n    .dataframe tbody tr th {\n        vertical-align: top;\n    }\n\n    .dataframe thead th {\n        text-align: right;\n    }\n</style>\n<table border=\"1\" class=\"dataframe\">\n  <thead>\n    <tr style=\"text-align: right;\">\n      <th></th>\n      <th>lat</th>\n      <th>lng</th>\n      <th>detail</th>\n      <th>Zip</th>\n    </tr>\n  </thead>\n  <tbody>\n    <tr>\n      <th>0</th>\n      <td>41.92</td>\n      <td>-87.67</td>\n      <td>{'road': 'North Elston Avenue', 'neighbourhood...</td>\n      <td>60647.0</td>\n    </tr>\n    <tr>\n      <th>1</th>\n      <td>42.00</td>\n      <td>-87.71</td>\n      <td>{'house_number': '6519-6525', 'road': 'North K...</td>\n      <td>60712.0</td>\n    </tr>\n    <tr>\n      <th>2</th>\n      <td>41.89</td>\n      <td>-87.70</td>\n      <td>{'amenity': 'Recycling Drop-Off Center', 'road...</td>\n      <td>60622.0</td>\n    </tr>\n    <tr>\n      <th>3</th>\n      <td>41.70</td>\n      <td>-87.53</td>\n      <td>{'house_number': '10729', 'road': 'South Avenu...</td>\n      <td>46394.0</td>\n    </tr>\n    <tr>\n      <th>4</th>\n      <td>42.00</td>\n      <td>-87.94</td>\n      <td>{'house_number': '1869', 'road': 'South Elmhur...</td>\n      <td>60007.0</td>\n    </tr>\n  </tbody>\n</table>\n</div>"
     },
     "metadata": {},
     "execution_count": 72
    }
   ],
   "source": [
    "permitLoc = \"permitLtLn_df.csv\"\n",
    "permitLoc_df = pd.read_csv(permitLoc,encoding='latin-1')\n",
    "permitLoc_df.head()"
   ]
  },
  {
   "cell_type": "code",
   "execution_count": 73,
   "metadata": {},
   "outputs": [],
   "source": [
    "permitLoc_df = permitLoc_df[[\"lat\", \"lng\", \"Zip\"]]"
   ]
  },
  {
   "cell_type": "code",
   "execution_count": 74,
   "metadata": {},
   "outputs": [
    {
     "output_type": "execute_result",
     "data": {
      "text/plain": [
       "      month_year  street_number street_direction street_name suffix  \\\n",
       "0       11/10/20           2402                W      CARMEN    AVE   \n",
       "1       11/10/20              6                N    MICHIGAN    AVE   \n",
       "2       11/10/20           4949                W     BELMONT    AVE   \n",
       "3       11/10/20           3204                N    LAWNDALE    AVE   \n",
       "4       11/10/20           3634                N     PAULINA     ST   \n",
       "...          ...            ...              ...         ...    ...   \n",
       "53249     1/4/16           1221                W        31ST     ST   \n",
       "53250     1/4/16           6233                S  UNIVERSITY    AVE   \n",
       "53251     1/4/16           4802                S   PRINCETON    AVE   \n",
       "53252     1/4/16            555                W       111TH     ST   \n",
       "53253     1/4/16           6440                S       HOYNE    AVE   \n",
       "\n",
       "       community_area  census_tract  ward    lat    lng  \\\n",
       "0                 4.0       40201.0  40.0  41.97 -87.69   \n",
       "1                32.0      320100.0  42.0  41.88 -87.62   \n",
       "2                19.0      190200.0  31.0  41.94 -87.75   \n",
       "3                21.0      831100.0  30.0  41.94 -87.72   \n",
       "4                 6.0       60300.0  47.0  41.95 -87.67   \n",
       "...               ...           ...   ...    ...    ...   \n",
       "53249            60.0      600900.0  11.0  41.84 -87.66   \n",
       "53250            42.0      420300.0  20.0  41.78 -87.60   \n",
       "53251            37.0      835600.0   3.0  41.81 -87.63   \n",
       "53252            49.0      491200.0  34.0  41.69 -87.64   \n",
       "53253            67.0      671400.0  16.0  41.78 -87.68   \n",
       "\n",
       "                          permit_type  \n",
       "0           PERMIT - NEW CONSTRUCTION  \n",
       "1      PERMIT - RENOVATION/ALTERATION  \n",
       "2      PERMIT - RENOVATION/ALTERATION  \n",
       "3           PERMIT - NEW CONSTRUCTION  \n",
       "4      PERMIT - RENOVATION/ALTERATION  \n",
       "...                               ...  \n",
       "53249  PERMIT - RENOVATION/ALTERATION  \n",
       "53250  PERMIT - RENOVATION/ALTERATION  \n",
       "53251  PERMIT - RENOVATION/ALTERATION  \n",
       "53252  PERMIT - RENOVATION/ALTERATION  \n",
       "53253  PERMIT - RENOVATION/ALTERATION  \n",
       "\n",
       "[52423 rows x 11 columns]"
      ],
      "text/html": "<div>\n<style scoped>\n    .dataframe tbody tr th:only-of-type {\n        vertical-align: middle;\n    }\n\n    .dataframe tbody tr th {\n        vertical-align: top;\n    }\n\n    .dataframe thead th {\n        text-align: right;\n    }\n</style>\n<table border=\"1\" class=\"dataframe\">\n  <thead>\n    <tr style=\"text-align: right;\">\n      <th></th>\n      <th>month_year</th>\n      <th>street_number</th>\n      <th>street_direction</th>\n      <th>street_name</th>\n      <th>suffix</th>\n      <th>community_area</th>\n      <th>census_tract</th>\n      <th>ward</th>\n      <th>lat</th>\n      <th>lng</th>\n      <th>permit_type</th>\n    </tr>\n  </thead>\n  <tbody>\n    <tr>\n      <th>0</th>\n      <td>11/10/20</td>\n      <td>2402</td>\n      <td>W</td>\n      <td>CARMEN</td>\n      <td>AVE</td>\n      <td>4.0</td>\n      <td>40201.0</td>\n      <td>40.0</td>\n      <td>41.97</td>\n      <td>-87.69</td>\n      <td>PERMIT - NEW CONSTRUCTION</td>\n    </tr>\n    <tr>\n      <th>1</th>\n      <td>11/10/20</td>\n      <td>6</td>\n      <td>N</td>\n      <td>MICHIGAN</td>\n      <td>AVE</td>\n      <td>32.0</td>\n      <td>320100.0</td>\n      <td>42.0</td>\n      <td>41.88</td>\n      <td>-87.62</td>\n      <td>PERMIT - RENOVATION/ALTERATION</td>\n    </tr>\n    <tr>\n      <th>2</th>\n      <td>11/10/20</td>\n      <td>4949</td>\n      <td>W</td>\n      <td>BELMONT</td>\n      <td>AVE</td>\n      <td>19.0</td>\n      <td>190200.0</td>\n      <td>31.0</td>\n      <td>41.94</td>\n      <td>-87.75</td>\n      <td>PERMIT - RENOVATION/ALTERATION</td>\n    </tr>\n    <tr>\n      <th>3</th>\n      <td>11/10/20</td>\n      <td>3204</td>\n      <td>N</td>\n      <td>LAWNDALE</td>\n      <td>AVE</td>\n      <td>21.0</td>\n      <td>831100.0</td>\n      <td>30.0</td>\n      <td>41.94</td>\n      <td>-87.72</td>\n      <td>PERMIT - NEW CONSTRUCTION</td>\n    </tr>\n    <tr>\n      <th>4</th>\n      <td>11/10/20</td>\n      <td>3634</td>\n      <td>N</td>\n      <td>PAULINA</td>\n      <td>ST</td>\n      <td>6.0</td>\n      <td>60300.0</td>\n      <td>47.0</td>\n      <td>41.95</td>\n      <td>-87.67</td>\n      <td>PERMIT - RENOVATION/ALTERATION</td>\n    </tr>\n    <tr>\n      <th>...</th>\n      <td>...</td>\n      <td>...</td>\n      <td>...</td>\n      <td>...</td>\n      <td>...</td>\n      <td>...</td>\n      <td>...</td>\n      <td>...</td>\n      <td>...</td>\n      <td>...</td>\n      <td>...</td>\n    </tr>\n    <tr>\n      <th>53249</th>\n      <td>1/4/16</td>\n      <td>1221</td>\n      <td>W</td>\n      <td>31ST</td>\n      <td>ST</td>\n      <td>60.0</td>\n      <td>600900.0</td>\n      <td>11.0</td>\n      <td>41.84</td>\n      <td>-87.66</td>\n      <td>PERMIT - RENOVATION/ALTERATION</td>\n    </tr>\n    <tr>\n      <th>53250</th>\n      <td>1/4/16</td>\n      <td>6233</td>\n      <td>S</td>\n      <td>UNIVERSITY</td>\n      <td>AVE</td>\n      <td>42.0</td>\n      <td>420300.0</td>\n      <td>20.0</td>\n      <td>41.78</td>\n      <td>-87.60</td>\n      <td>PERMIT - RENOVATION/ALTERATION</td>\n    </tr>\n    <tr>\n      <th>53251</th>\n      <td>1/4/16</td>\n      <td>4802</td>\n      <td>S</td>\n      <td>PRINCETON</td>\n      <td>AVE</td>\n      <td>37.0</td>\n      <td>835600.0</td>\n      <td>3.0</td>\n      <td>41.81</td>\n      <td>-87.63</td>\n      <td>PERMIT - RENOVATION/ALTERATION</td>\n    </tr>\n    <tr>\n      <th>53252</th>\n      <td>1/4/16</td>\n      <td>555</td>\n      <td>W</td>\n      <td>111TH</td>\n      <td>ST</td>\n      <td>49.0</td>\n      <td>491200.0</td>\n      <td>34.0</td>\n      <td>41.69</td>\n      <td>-87.64</td>\n      <td>PERMIT - RENOVATION/ALTERATION</td>\n    </tr>\n    <tr>\n      <th>53253</th>\n      <td>1/4/16</td>\n      <td>6440</td>\n      <td>S</td>\n      <td>HOYNE</td>\n      <td>AVE</td>\n      <td>67.0</td>\n      <td>671400.0</td>\n      <td>16.0</td>\n      <td>41.78</td>\n      <td>-87.68</td>\n      <td>PERMIT - RENOVATION/ALTERATION</td>\n    </tr>\n  </tbody>\n</table>\n<p>52423 rows × 11 columns</p>\n</div>"
     },
     "metadata": {},
     "execution_count": 74
    }
   ],
   "source": [
    "chi_hist_permitsREW_df[\"lat\"] = chi_hist_permitsREW_df[\"lat\"].round(2)\n",
    "chi_hist_permitsREW_df[\"lng\"] = chi_hist_permitsREW_df[\"lng\"].round(2)\n",
    "chi_hist_permitsREW_df"
   ]
  },
  {
   "cell_type": "code",
   "execution_count": 75,
   "metadata": {},
   "outputs": [
    {
     "output_type": "execute_result",
     "data": {
      "text/plain": [
       "      month_year  street_number street_direction street_name suffix  \\\n",
       "0       11/10/20           2402                W      CARMEN    AVE   \n",
       "1       11/10/20              6                N    MICHIGAN    AVE   \n",
       "2       11/10/20           4949                W     BELMONT    AVE   \n",
       "3       11/10/20           3204                N    LAWNDALE    AVE   \n",
       "4       11/10/20           3634                N     PAULINA     ST   \n",
       "...          ...            ...              ...         ...    ...   \n",
       "52418     1/4/16           1221                W        31ST     ST   \n",
       "52419     1/4/16           6233                S  UNIVERSITY    AVE   \n",
       "52420     1/4/16           4802                S   PRINCETON    AVE   \n",
       "52421     1/4/16            555                W       111TH     ST   \n",
       "52422     1/4/16           6440                S       HOYNE    AVE   \n",
       "\n",
       "       community_area  census_tract  ward    lat    lng  \\\n",
       "0                 4.0       40201.0  40.0  41.97 -87.69   \n",
       "1                32.0      320100.0  42.0  41.88 -87.62   \n",
       "2                19.0      190200.0  31.0  41.94 -87.75   \n",
       "3                21.0      831100.0  30.0  41.94 -87.72   \n",
       "4                 6.0       60300.0  47.0  41.95 -87.67   \n",
       "...               ...           ...   ...    ...    ...   \n",
       "52418            60.0      600900.0  11.0  41.84 -87.66   \n",
       "52419            42.0      420300.0  20.0  41.78 -87.60   \n",
       "52420            37.0      835600.0   3.0  41.81 -87.63   \n",
       "52421            49.0      491200.0  34.0  41.69 -87.64   \n",
       "52422            67.0      671400.0  16.0  41.78 -87.68   \n",
       "\n",
       "                          permit_type      Zip  \n",
       "0           PERMIT - NEW CONSTRUCTION  60625.0  \n",
       "1      PERMIT - RENOVATION/ALTERATION      NaN  \n",
       "2      PERMIT - RENOVATION/ALTERATION  60641.0  \n",
       "3           PERMIT - NEW CONSTRUCTION  60618.0  \n",
       "4      PERMIT - RENOVATION/ALTERATION  60613.0  \n",
       "...                               ...      ...  \n",
       "52418  PERMIT - RENOVATION/ALTERATION  60608.0  \n",
       "52419  PERMIT - RENOVATION/ALTERATION  60637.0  \n",
       "52420  PERMIT - RENOVATION/ALTERATION  60609.0  \n",
       "52421  PERMIT - RENOVATION/ALTERATION  60628.0  \n",
       "52422  PERMIT - RENOVATION/ALTERATION  60636.0  \n",
       "\n",
       "[52423 rows x 12 columns]"
      ],
      "text/html": "<div>\n<style scoped>\n    .dataframe tbody tr th:only-of-type {\n        vertical-align: middle;\n    }\n\n    .dataframe tbody tr th {\n        vertical-align: top;\n    }\n\n    .dataframe thead th {\n        text-align: right;\n    }\n</style>\n<table border=\"1\" class=\"dataframe\">\n  <thead>\n    <tr style=\"text-align: right;\">\n      <th></th>\n      <th>month_year</th>\n      <th>street_number</th>\n      <th>street_direction</th>\n      <th>street_name</th>\n      <th>suffix</th>\n      <th>community_area</th>\n      <th>census_tract</th>\n      <th>ward</th>\n      <th>lat</th>\n      <th>lng</th>\n      <th>permit_type</th>\n      <th>Zip</th>\n    </tr>\n  </thead>\n  <tbody>\n    <tr>\n      <th>0</th>\n      <td>11/10/20</td>\n      <td>2402</td>\n      <td>W</td>\n      <td>CARMEN</td>\n      <td>AVE</td>\n      <td>4.0</td>\n      <td>40201.0</td>\n      <td>40.0</td>\n      <td>41.97</td>\n      <td>-87.69</td>\n      <td>PERMIT - NEW CONSTRUCTION</td>\n      <td>60625.0</td>\n    </tr>\n    <tr>\n      <th>1</th>\n      <td>11/10/20</td>\n      <td>6</td>\n      <td>N</td>\n      <td>MICHIGAN</td>\n      <td>AVE</td>\n      <td>32.0</td>\n      <td>320100.0</td>\n      <td>42.0</td>\n      <td>41.88</td>\n      <td>-87.62</td>\n      <td>PERMIT - RENOVATION/ALTERATION</td>\n      <td>NaN</td>\n    </tr>\n    <tr>\n      <th>2</th>\n      <td>11/10/20</td>\n      <td>4949</td>\n      <td>W</td>\n      <td>BELMONT</td>\n      <td>AVE</td>\n      <td>19.0</td>\n      <td>190200.0</td>\n      <td>31.0</td>\n      <td>41.94</td>\n      <td>-87.75</td>\n      <td>PERMIT - RENOVATION/ALTERATION</td>\n      <td>60641.0</td>\n    </tr>\n    <tr>\n      <th>3</th>\n      <td>11/10/20</td>\n      <td>3204</td>\n      <td>N</td>\n      <td>LAWNDALE</td>\n      <td>AVE</td>\n      <td>21.0</td>\n      <td>831100.0</td>\n      <td>30.0</td>\n      <td>41.94</td>\n      <td>-87.72</td>\n      <td>PERMIT - NEW CONSTRUCTION</td>\n      <td>60618.0</td>\n    </tr>\n    <tr>\n      <th>4</th>\n      <td>11/10/20</td>\n      <td>3634</td>\n      <td>N</td>\n      <td>PAULINA</td>\n      <td>ST</td>\n      <td>6.0</td>\n      <td>60300.0</td>\n      <td>47.0</td>\n      <td>41.95</td>\n      <td>-87.67</td>\n      <td>PERMIT - RENOVATION/ALTERATION</td>\n      <td>60613.0</td>\n    </tr>\n    <tr>\n      <th>...</th>\n      <td>...</td>\n      <td>...</td>\n      <td>...</td>\n      <td>...</td>\n      <td>...</td>\n      <td>...</td>\n      <td>...</td>\n      <td>...</td>\n      <td>...</td>\n      <td>...</td>\n      <td>...</td>\n      <td>...</td>\n    </tr>\n    <tr>\n      <th>52418</th>\n      <td>1/4/16</td>\n      <td>1221</td>\n      <td>W</td>\n      <td>31ST</td>\n      <td>ST</td>\n      <td>60.0</td>\n      <td>600900.0</td>\n      <td>11.0</td>\n      <td>41.84</td>\n      <td>-87.66</td>\n      <td>PERMIT - RENOVATION/ALTERATION</td>\n      <td>60608.0</td>\n    </tr>\n    <tr>\n      <th>52419</th>\n      <td>1/4/16</td>\n      <td>6233</td>\n      <td>S</td>\n      <td>UNIVERSITY</td>\n      <td>AVE</td>\n      <td>42.0</td>\n      <td>420300.0</td>\n      <td>20.0</td>\n      <td>41.78</td>\n      <td>-87.60</td>\n      <td>PERMIT - RENOVATION/ALTERATION</td>\n      <td>60637.0</td>\n    </tr>\n    <tr>\n      <th>52420</th>\n      <td>1/4/16</td>\n      <td>4802</td>\n      <td>S</td>\n      <td>PRINCETON</td>\n      <td>AVE</td>\n      <td>37.0</td>\n      <td>835600.0</td>\n      <td>3.0</td>\n      <td>41.81</td>\n      <td>-87.63</td>\n      <td>PERMIT - RENOVATION/ALTERATION</td>\n      <td>60609.0</td>\n    </tr>\n    <tr>\n      <th>52421</th>\n      <td>1/4/16</td>\n      <td>555</td>\n      <td>W</td>\n      <td>111TH</td>\n      <td>ST</td>\n      <td>49.0</td>\n      <td>491200.0</td>\n      <td>34.0</td>\n      <td>41.69</td>\n      <td>-87.64</td>\n      <td>PERMIT - RENOVATION/ALTERATION</td>\n      <td>60628.0</td>\n    </tr>\n    <tr>\n      <th>52422</th>\n      <td>1/4/16</td>\n      <td>6440</td>\n      <td>S</td>\n      <td>HOYNE</td>\n      <td>AVE</td>\n      <td>67.0</td>\n      <td>671400.0</td>\n      <td>16.0</td>\n      <td>41.78</td>\n      <td>-87.68</td>\n      <td>PERMIT - RENOVATION/ALTERATION</td>\n      <td>60636.0</td>\n    </tr>\n  </tbody>\n</table>\n<p>52423 rows × 12 columns</p>\n</div>"
     },
     "metadata": {},
     "execution_count": 75
    }
   ],
   "source": [
    "chi_hist_permitsREW_df = pd.merge(chi_hist_permitsREW_df, permitLoc_df,  how='left', left_on=['lat','lng'], right_on = ['lat','lng'])\n",
    "chi_hist_permitsREW_df"
   ]
  },
  {
   "cell_type": "code",
   "execution_count": 76,
   "metadata": {},
   "outputs": [
    {
     "output_type": "execute_result",
     "data": {
      "text/plain": [
       "      month_year  street_number street_direction street_name suffix  \\\n",
       "0       11/10/20           2402                W      CARMEN    AVE   \n",
       "2       11/10/20           4949                W     BELMONT    AVE   \n",
       "3       11/10/20           3204                N    LAWNDALE    AVE   \n",
       "4       11/10/20           3634                N     PAULINA     ST   \n",
       "5       11/10/20           3917                W        EDDY     ST   \n",
       "...          ...            ...              ...         ...    ...   \n",
       "52418     1/4/16           1221                W        31ST     ST   \n",
       "52419     1/4/16           6233                S  UNIVERSITY    AVE   \n",
       "52420     1/4/16           4802                S   PRINCETON    AVE   \n",
       "52421     1/4/16            555                W       111TH     ST   \n",
       "52422     1/4/16           6440                S       HOYNE    AVE   \n",
       "\n",
       "       community_area  census_tract  ward    lat    lng  \\\n",
       "0                 4.0       40201.0  40.0  41.97 -87.69   \n",
       "2                19.0      190200.0  31.0  41.94 -87.75   \n",
       "3                21.0      831100.0  30.0  41.94 -87.72   \n",
       "4                 6.0       60300.0  47.0  41.95 -87.67   \n",
       "5                21.0      831100.0  30.0  41.95 -87.73   \n",
       "...               ...           ...   ...    ...    ...   \n",
       "52418            60.0      600900.0  11.0  41.84 -87.66   \n",
       "52419            42.0      420300.0  20.0  41.78 -87.60   \n",
       "52420            37.0      835600.0   3.0  41.81 -87.63   \n",
       "52421            49.0      491200.0  34.0  41.69 -87.64   \n",
       "52422            67.0      671400.0  16.0  41.78 -87.68   \n",
       "\n",
       "                          permit_type      Zip  \n",
       "0           PERMIT - NEW CONSTRUCTION  60625.0  \n",
       "2      PERMIT - RENOVATION/ALTERATION  60641.0  \n",
       "3           PERMIT - NEW CONSTRUCTION  60618.0  \n",
       "4      PERMIT - RENOVATION/ALTERATION  60613.0  \n",
       "5           PERMIT - NEW CONSTRUCTION  60641.0  \n",
       "...                               ...      ...  \n",
       "52418  PERMIT - RENOVATION/ALTERATION  60608.0  \n",
       "52419  PERMIT - RENOVATION/ALTERATION  60637.0  \n",
       "52420  PERMIT - RENOVATION/ALTERATION  60609.0  \n",
       "52421  PERMIT - RENOVATION/ALTERATION  60628.0  \n",
       "52422  PERMIT - RENOVATION/ALTERATION  60636.0  \n",
       "\n",
       "[50414 rows x 12 columns]"
      ],
      "text/html": "<div>\n<style scoped>\n    .dataframe tbody tr th:only-of-type {\n        vertical-align: middle;\n    }\n\n    .dataframe tbody tr th {\n        vertical-align: top;\n    }\n\n    .dataframe thead th {\n        text-align: right;\n    }\n</style>\n<table border=\"1\" class=\"dataframe\">\n  <thead>\n    <tr style=\"text-align: right;\">\n      <th></th>\n      <th>month_year</th>\n      <th>street_number</th>\n      <th>street_direction</th>\n      <th>street_name</th>\n      <th>suffix</th>\n      <th>community_area</th>\n      <th>census_tract</th>\n      <th>ward</th>\n      <th>lat</th>\n      <th>lng</th>\n      <th>permit_type</th>\n      <th>Zip</th>\n    </tr>\n  </thead>\n  <tbody>\n    <tr>\n      <th>0</th>\n      <td>11/10/20</td>\n      <td>2402</td>\n      <td>W</td>\n      <td>CARMEN</td>\n      <td>AVE</td>\n      <td>4.0</td>\n      <td>40201.0</td>\n      <td>40.0</td>\n      <td>41.97</td>\n      <td>-87.69</td>\n      <td>PERMIT - NEW CONSTRUCTION</td>\n      <td>60625.0</td>\n    </tr>\n    <tr>\n      <th>2</th>\n      <td>11/10/20</td>\n      <td>4949</td>\n      <td>W</td>\n      <td>BELMONT</td>\n      <td>AVE</td>\n      <td>19.0</td>\n      <td>190200.0</td>\n      <td>31.0</td>\n      <td>41.94</td>\n      <td>-87.75</td>\n      <td>PERMIT - RENOVATION/ALTERATION</td>\n      <td>60641.0</td>\n    </tr>\n    <tr>\n      <th>3</th>\n      <td>11/10/20</td>\n      <td>3204</td>\n      <td>N</td>\n      <td>LAWNDALE</td>\n      <td>AVE</td>\n      <td>21.0</td>\n      <td>831100.0</td>\n      <td>30.0</td>\n      <td>41.94</td>\n      <td>-87.72</td>\n      <td>PERMIT - NEW CONSTRUCTION</td>\n      <td>60618.0</td>\n    </tr>\n    <tr>\n      <th>4</th>\n      <td>11/10/20</td>\n      <td>3634</td>\n      <td>N</td>\n      <td>PAULINA</td>\n      <td>ST</td>\n      <td>6.0</td>\n      <td>60300.0</td>\n      <td>47.0</td>\n      <td>41.95</td>\n      <td>-87.67</td>\n      <td>PERMIT - RENOVATION/ALTERATION</td>\n      <td>60613.0</td>\n    </tr>\n    <tr>\n      <th>5</th>\n      <td>11/10/20</td>\n      <td>3917</td>\n      <td>W</td>\n      <td>EDDY</td>\n      <td>ST</td>\n      <td>21.0</td>\n      <td>831100.0</td>\n      <td>30.0</td>\n      <td>41.95</td>\n      <td>-87.73</td>\n      <td>PERMIT - NEW CONSTRUCTION</td>\n      <td>60641.0</td>\n    </tr>\n    <tr>\n      <th>...</th>\n      <td>...</td>\n      <td>...</td>\n      <td>...</td>\n      <td>...</td>\n      <td>...</td>\n      <td>...</td>\n      <td>...</td>\n      <td>...</td>\n      <td>...</td>\n      <td>...</td>\n      <td>...</td>\n      <td>...</td>\n    </tr>\n    <tr>\n      <th>52418</th>\n      <td>1/4/16</td>\n      <td>1221</td>\n      <td>W</td>\n      <td>31ST</td>\n      <td>ST</td>\n      <td>60.0</td>\n      <td>600900.0</td>\n      <td>11.0</td>\n      <td>41.84</td>\n      <td>-87.66</td>\n      <td>PERMIT - RENOVATION/ALTERATION</td>\n      <td>60608.0</td>\n    </tr>\n    <tr>\n      <th>52419</th>\n      <td>1/4/16</td>\n      <td>6233</td>\n      <td>S</td>\n      <td>UNIVERSITY</td>\n      <td>AVE</td>\n      <td>42.0</td>\n      <td>420300.0</td>\n      <td>20.0</td>\n      <td>41.78</td>\n      <td>-87.60</td>\n      <td>PERMIT - RENOVATION/ALTERATION</td>\n      <td>60637.0</td>\n    </tr>\n    <tr>\n      <th>52420</th>\n      <td>1/4/16</td>\n      <td>4802</td>\n      <td>S</td>\n      <td>PRINCETON</td>\n      <td>AVE</td>\n      <td>37.0</td>\n      <td>835600.0</td>\n      <td>3.0</td>\n      <td>41.81</td>\n      <td>-87.63</td>\n      <td>PERMIT - RENOVATION/ALTERATION</td>\n      <td>60609.0</td>\n    </tr>\n    <tr>\n      <th>52421</th>\n      <td>1/4/16</td>\n      <td>555</td>\n      <td>W</td>\n      <td>111TH</td>\n      <td>ST</td>\n      <td>49.0</td>\n      <td>491200.0</td>\n      <td>34.0</td>\n      <td>41.69</td>\n      <td>-87.64</td>\n      <td>PERMIT - RENOVATION/ALTERATION</td>\n      <td>60628.0</td>\n    </tr>\n    <tr>\n      <th>52422</th>\n      <td>1/4/16</td>\n      <td>6440</td>\n      <td>S</td>\n      <td>HOYNE</td>\n      <td>AVE</td>\n      <td>67.0</td>\n      <td>671400.0</td>\n      <td>16.0</td>\n      <td>41.78</td>\n      <td>-87.68</td>\n      <td>PERMIT - RENOVATION/ALTERATION</td>\n      <td>60636.0</td>\n    </tr>\n  </tbody>\n</table>\n<p>50414 rows × 12 columns</p>\n</div>"
     },
     "metadata": {},
     "execution_count": 76
    }
   ],
   "source": [
    "chi_hist_permitsREW_df.dropna(subset = [\"Zip\"], inplace=True)\n",
    "chi_hist_permitsREW_df"
   ]
  },
  {
   "cell_type": "code",
   "execution_count": 77,
   "metadata": {},
   "outputs": [
    {
     "output_type": "execute_result",
     "data": {
      "text/plain": [
       "   Unnamed: 0      Date  zipcode  total_num_crimes  total_num_noise\n",
       "0           0  1/1/2001    46394                 1                0\n",
       "1           1  1/1/2001    60176                 1                0\n",
       "2           2  1/1/2001    60202                 6                0\n",
       "3           3  1/1/2001    60302                27                0\n",
       "4           4  1/1/2001    60409                 6                0"
      ],
      "text/html": "<div>\n<style scoped>\n    .dataframe tbody tr th:only-of-type {\n        vertical-align: middle;\n    }\n\n    .dataframe tbody tr th {\n        vertical-align: top;\n    }\n\n    .dataframe thead th {\n        text-align: right;\n    }\n</style>\n<table border=\"1\" class=\"dataframe\">\n  <thead>\n    <tr style=\"text-align: right;\">\n      <th></th>\n      <th>Unnamed: 0</th>\n      <th>Date</th>\n      <th>zipcode</th>\n      <th>total_num_crimes</th>\n      <th>total_num_noise</th>\n    </tr>\n  </thead>\n  <tbody>\n    <tr>\n      <th>0</th>\n      <td>0</td>\n      <td>1/1/2001</td>\n      <td>46394</td>\n      <td>1</td>\n      <td>0</td>\n    </tr>\n    <tr>\n      <th>1</th>\n      <td>1</td>\n      <td>1/1/2001</td>\n      <td>60176</td>\n      <td>1</td>\n      <td>0</td>\n    </tr>\n    <tr>\n      <th>2</th>\n      <td>2</td>\n      <td>1/1/2001</td>\n      <td>60202</td>\n      <td>6</td>\n      <td>0</td>\n    </tr>\n    <tr>\n      <th>3</th>\n      <td>3</td>\n      <td>1/1/2001</td>\n      <td>60302</td>\n      <td>27</td>\n      <td>0</td>\n    </tr>\n    <tr>\n      <th>4</th>\n      <td>4</td>\n      <td>1/1/2001</td>\n      <td>60409</td>\n      <td>6</td>\n      <td>0</td>\n    </tr>\n  </tbody>\n</table>\n</div>"
     },
     "metadata": {},
     "execution_count": 77
    }
   ],
   "source": [
    "crimeData = \"Uncleaned Data/crimeNoiseCt_df.csv\"\n",
    "crimeData_df = pd.read_csv(crimeData,encoding='latin-1')\n",
    "crimeData_df.head()"
   ]
  },
  {
   "cell_type": "code",
   "execution_count": 78,
   "metadata": {},
   "outputs": [
    {
     "output_type": "execute_result",
     "data": {
      "text/plain": [
       "       month_year  street_number street_direction street_name suffix  \\\n",
       "0      11/10/2020           2402                W      CARMEN    AVE   \n",
       "2      11/10/2020           4949                W     BELMONT    AVE   \n",
       "3      11/10/2020           3204                N    LAWNDALE    AVE   \n",
       "4      11/10/2020           3634                N     PAULINA     ST   \n",
       "5      11/10/2020           3917                W        EDDY     ST   \n",
       "...           ...            ...              ...         ...    ...   \n",
       "52418    1/4/2016           1221                W        31ST     ST   \n",
       "52419    1/4/2016           6233                S  UNIVERSITY    AVE   \n",
       "52420    1/4/2016           4802                S   PRINCETON    AVE   \n",
       "52421    1/4/2016            555                W       111TH     ST   \n",
       "52422    1/4/2016           6440                S       HOYNE    AVE   \n",
       "\n",
       "       community_area  census_tract  ward    lat    lng  \\\n",
       "0                 4.0       40201.0  40.0  41.97 -87.69   \n",
       "2                19.0      190200.0  31.0  41.94 -87.75   \n",
       "3                21.0      831100.0  30.0  41.94 -87.72   \n",
       "4                 6.0       60300.0  47.0  41.95 -87.67   \n",
       "5                21.0      831100.0  30.0  41.95 -87.73   \n",
       "...               ...           ...   ...    ...    ...   \n",
       "52418            60.0      600900.0  11.0  41.84 -87.66   \n",
       "52419            42.0      420300.0  20.0  41.78 -87.60   \n",
       "52420            37.0      835600.0   3.0  41.81 -87.63   \n",
       "52421            49.0      491200.0  34.0  41.69 -87.64   \n",
       "52422            67.0      671400.0  16.0  41.78 -87.68   \n",
       "\n",
       "                          permit_type      Zip  \n",
       "0           PERMIT - NEW CONSTRUCTION  60625.0  \n",
       "2      PERMIT - RENOVATION/ALTERATION  60641.0  \n",
       "3           PERMIT - NEW CONSTRUCTION  60618.0  \n",
       "4      PERMIT - RENOVATION/ALTERATION  60613.0  \n",
       "5           PERMIT - NEW CONSTRUCTION  60641.0  \n",
       "...                               ...      ...  \n",
       "52418  PERMIT - RENOVATION/ALTERATION  60608.0  \n",
       "52419  PERMIT - RENOVATION/ALTERATION  60637.0  \n",
       "52420  PERMIT - RENOVATION/ALTERATION  60609.0  \n",
       "52421  PERMIT - RENOVATION/ALTERATION  60628.0  \n",
       "52422  PERMIT - RENOVATION/ALTERATION  60636.0  \n",
       "\n",
       "[50414 rows x 12 columns]"
      ],
      "text/html": "<div>\n<style scoped>\n    .dataframe tbody tr th:only-of-type {\n        vertical-align: middle;\n    }\n\n    .dataframe tbody tr th {\n        vertical-align: top;\n    }\n\n    .dataframe thead th {\n        text-align: right;\n    }\n</style>\n<table border=\"1\" class=\"dataframe\">\n  <thead>\n    <tr style=\"text-align: right;\">\n      <th></th>\n      <th>month_year</th>\n      <th>street_number</th>\n      <th>street_direction</th>\n      <th>street_name</th>\n      <th>suffix</th>\n      <th>community_area</th>\n      <th>census_tract</th>\n      <th>ward</th>\n      <th>lat</th>\n      <th>lng</th>\n      <th>permit_type</th>\n      <th>Zip</th>\n    </tr>\n  </thead>\n  <tbody>\n    <tr>\n      <th>0</th>\n      <td>11/10/2020</td>\n      <td>2402</td>\n      <td>W</td>\n      <td>CARMEN</td>\n      <td>AVE</td>\n      <td>4.0</td>\n      <td>40201.0</td>\n      <td>40.0</td>\n      <td>41.97</td>\n      <td>-87.69</td>\n      <td>PERMIT - NEW CONSTRUCTION</td>\n      <td>60625.0</td>\n    </tr>\n    <tr>\n      <th>2</th>\n      <td>11/10/2020</td>\n      <td>4949</td>\n      <td>W</td>\n      <td>BELMONT</td>\n      <td>AVE</td>\n      <td>19.0</td>\n      <td>190200.0</td>\n      <td>31.0</td>\n      <td>41.94</td>\n      <td>-87.75</td>\n      <td>PERMIT - RENOVATION/ALTERATION</td>\n      <td>60641.0</td>\n    </tr>\n    <tr>\n      <th>3</th>\n      <td>11/10/2020</td>\n      <td>3204</td>\n      <td>N</td>\n      <td>LAWNDALE</td>\n      <td>AVE</td>\n      <td>21.0</td>\n      <td>831100.0</td>\n      <td>30.0</td>\n      <td>41.94</td>\n      <td>-87.72</td>\n      <td>PERMIT - NEW CONSTRUCTION</td>\n      <td>60618.0</td>\n    </tr>\n    <tr>\n      <th>4</th>\n      <td>11/10/2020</td>\n      <td>3634</td>\n      <td>N</td>\n      <td>PAULINA</td>\n      <td>ST</td>\n      <td>6.0</td>\n      <td>60300.0</td>\n      <td>47.0</td>\n      <td>41.95</td>\n      <td>-87.67</td>\n      <td>PERMIT - RENOVATION/ALTERATION</td>\n      <td>60613.0</td>\n    </tr>\n    <tr>\n      <th>5</th>\n      <td>11/10/2020</td>\n      <td>3917</td>\n      <td>W</td>\n      <td>EDDY</td>\n      <td>ST</td>\n      <td>21.0</td>\n      <td>831100.0</td>\n      <td>30.0</td>\n      <td>41.95</td>\n      <td>-87.73</td>\n      <td>PERMIT - NEW CONSTRUCTION</td>\n      <td>60641.0</td>\n    </tr>\n    <tr>\n      <th>...</th>\n      <td>...</td>\n      <td>...</td>\n      <td>...</td>\n      <td>...</td>\n      <td>...</td>\n      <td>...</td>\n      <td>...</td>\n      <td>...</td>\n      <td>...</td>\n      <td>...</td>\n      <td>...</td>\n      <td>...</td>\n    </tr>\n    <tr>\n      <th>52418</th>\n      <td>1/4/2016</td>\n      <td>1221</td>\n      <td>W</td>\n      <td>31ST</td>\n      <td>ST</td>\n      <td>60.0</td>\n      <td>600900.0</td>\n      <td>11.0</td>\n      <td>41.84</td>\n      <td>-87.66</td>\n      <td>PERMIT - RENOVATION/ALTERATION</td>\n      <td>60608.0</td>\n    </tr>\n    <tr>\n      <th>52419</th>\n      <td>1/4/2016</td>\n      <td>6233</td>\n      <td>S</td>\n      <td>UNIVERSITY</td>\n      <td>AVE</td>\n      <td>42.0</td>\n      <td>420300.0</td>\n      <td>20.0</td>\n      <td>41.78</td>\n      <td>-87.60</td>\n      <td>PERMIT - RENOVATION/ALTERATION</td>\n      <td>60637.0</td>\n    </tr>\n    <tr>\n      <th>52420</th>\n      <td>1/4/2016</td>\n      <td>4802</td>\n      <td>S</td>\n      <td>PRINCETON</td>\n      <td>AVE</td>\n      <td>37.0</td>\n      <td>835600.0</td>\n      <td>3.0</td>\n      <td>41.81</td>\n      <td>-87.63</td>\n      <td>PERMIT - RENOVATION/ALTERATION</td>\n      <td>60609.0</td>\n    </tr>\n    <tr>\n      <th>52421</th>\n      <td>1/4/2016</td>\n      <td>555</td>\n      <td>W</td>\n      <td>111TH</td>\n      <td>ST</td>\n      <td>49.0</td>\n      <td>491200.0</td>\n      <td>34.0</td>\n      <td>41.69</td>\n      <td>-87.64</td>\n      <td>PERMIT - RENOVATION/ALTERATION</td>\n      <td>60628.0</td>\n    </tr>\n    <tr>\n      <th>52422</th>\n      <td>1/4/2016</td>\n      <td>6440</td>\n      <td>S</td>\n      <td>HOYNE</td>\n      <td>AVE</td>\n      <td>67.0</td>\n      <td>671400.0</td>\n      <td>16.0</td>\n      <td>41.78</td>\n      <td>-87.68</td>\n      <td>PERMIT - RENOVATION/ALTERATION</td>\n      <td>60636.0</td>\n    </tr>\n  </tbody>\n</table>\n<p>50414 rows × 12 columns</p>\n</div>"
     },
     "metadata": {},
     "execution_count": 78
    }
   ],
   "source": [
    "chi_hist_permitsREW_df['month_year'] = pd.to_datetime(chi_hist_permitsREW_df['month_year'])\n",
    "chi_hist_permitsREW_df['month_year'] = chi_hist_permitsREW_df['month_year'].dt.strftime('%#m/%#d/%Y')\n",
    "chi_hist_permitsREW_df"
   ]
  },
  {
   "cell_type": "code",
   "execution_count": 79,
   "metadata": {},
   "outputs": [
    {
     "output_type": "execute_result",
     "data": {
      "text/plain": [
       "month_year           object\n",
       "street_number         int64\n",
       "street_direction     object\n",
       "street_name          object\n",
       "suffix               object\n",
       "community_area      float64\n",
       "census_tract        float64\n",
       "ward                float64\n",
       "lat                 float64\n",
       "lng                 float64\n",
       "permit_type          object\n",
       "Zip                 float64\n",
       "dtype: object"
      ]
     },
     "metadata": {},
     "execution_count": 79
    }
   ],
   "source": [
    "chi_hist_permitsREW_df.dtypes"
   ]
  },
  {
   "cell_type": "code",
   "execution_count": 80,
   "metadata": {},
   "outputs": [
    {
     "output_type": "execute_result",
     "data": {
      "text/plain": [
       "       month_year  street_number street_direction street_name suffix  \\\n",
       "0      11/10/2020           2402                W      CARMEN    AVE   \n",
       "1      11/10/2020           4949                W     BELMONT    AVE   \n",
       "2      11/10/2020           3204                N    LAWNDALE    AVE   \n",
       "3      11/10/2020           3634                N     PAULINA     ST   \n",
       "4      11/10/2020           3917                W        EDDY     ST   \n",
       "...           ...            ...              ...         ...    ...   \n",
       "50409    1/4/2016           1221                W        31ST     ST   \n",
       "50410    1/4/2016           6233                S  UNIVERSITY    AVE   \n",
       "50411    1/4/2016           4802                S   PRINCETON    AVE   \n",
       "50412    1/4/2016            555                W       111TH     ST   \n",
       "50413    1/4/2016           6440                S       HOYNE    AVE   \n",
       "\n",
       "       community_area  census_tract  ward    lat    lng  \\\n",
       "0                 4.0       40201.0  40.0  41.97 -87.69   \n",
       "1                19.0      190200.0  31.0  41.94 -87.75   \n",
       "2                21.0      831100.0  30.0  41.94 -87.72   \n",
       "3                 6.0       60300.0  47.0  41.95 -87.67   \n",
       "4                21.0      831100.0  30.0  41.95 -87.73   \n",
       "...               ...           ...   ...    ...    ...   \n",
       "50409            60.0      600900.0  11.0  41.84 -87.66   \n",
       "50410            42.0      420300.0  20.0  41.78 -87.60   \n",
       "50411            37.0      835600.0   3.0  41.81 -87.63   \n",
       "50412            49.0      491200.0  34.0  41.69 -87.64   \n",
       "50413            67.0      671400.0  16.0  41.78 -87.68   \n",
       "\n",
       "                          permit_type      Zip  Unnamed: 0      Date  zipcode  \\\n",
       "0           PERMIT - NEW CONSTRUCTION  60625.0         NaN       NaN      NaN   \n",
       "1      PERMIT - RENOVATION/ALTERATION  60641.0         NaN       NaN      NaN   \n",
       "2           PERMIT - NEW CONSTRUCTION  60618.0         NaN       NaN      NaN   \n",
       "3      PERMIT - RENOVATION/ALTERATION  60613.0         NaN       NaN      NaN   \n",
       "4           PERMIT - NEW CONSTRUCTION  60641.0         NaN       NaN      NaN   \n",
       "...                               ...      ...         ...       ...      ...   \n",
       "50409  PERMIT - RENOVATION/ALTERATION  60608.0     32731.0  1/4/2016  60608.0   \n",
       "50410  PERMIT - RENOVATION/ALTERATION  60637.0     32758.0  1/4/2016  60637.0   \n",
       "50411  PERMIT - RENOVATION/ALTERATION  60609.0     32732.0  1/4/2016  60609.0   \n",
       "50412  PERMIT - RENOVATION/ALTERATION  60628.0     32750.0  1/4/2016  60628.0   \n",
       "50413  PERMIT - RENOVATION/ALTERATION  60636.0     32757.0  1/4/2016  60636.0   \n",
       "\n",
       "       total_num_crimes  total_num_noise  \n",
       "0                   NaN              NaN  \n",
       "1                   NaN              NaN  \n",
       "2                   NaN              NaN  \n",
       "3                   NaN              NaN  \n",
       "4                   NaN              NaN  \n",
       "...                 ...              ...  \n",
       "50409              12.0              0.0  \n",
       "50410              19.0              0.0  \n",
       "50411               6.0              0.0  \n",
       "50412              31.0              0.0  \n",
       "50413              31.0              0.0  \n",
       "\n",
       "[50414 rows x 17 columns]"
      ],
      "text/html": "<div>\n<style scoped>\n    .dataframe tbody tr th:only-of-type {\n        vertical-align: middle;\n    }\n\n    .dataframe tbody tr th {\n        vertical-align: top;\n    }\n\n    .dataframe thead th {\n        text-align: right;\n    }\n</style>\n<table border=\"1\" class=\"dataframe\">\n  <thead>\n    <tr style=\"text-align: right;\">\n      <th></th>\n      <th>month_year</th>\n      <th>street_number</th>\n      <th>street_direction</th>\n      <th>street_name</th>\n      <th>suffix</th>\n      <th>community_area</th>\n      <th>census_tract</th>\n      <th>ward</th>\n      <th>lat</th>\n      <th>lng</th>\n      <th>permit_type</th>\n      <th>Zip</th>\n      <th>Unnamed: 0</th>\n      <th>Date</th>\n      <th>zipcode</th>\n      <th>total_num_crimes</th>\n      <th>total_num_noise</th>\n    </tr>\n  </thead>\n  <tbody>\n    <tr>\n      <th>0</th>\n      <td>11/10/2020</td>\n      <td>2402</td>\n      <td>W</td>\n      <td>CARMEN</td>\n      <td>AVE</td>\n      <td>4.0</td>\n      <td>40201.0</td>\n      <td>40.0</td>\n      <td>41.97</td>\n      <td>-87.69</td>\n      <td>PERMIT - NEW CONSTRUCTION</td>\n      <td>60625.0</td>\n      <td>NaN</td>\n      <td>NaN</td>\n      <td>NaN</td>\n      <td>NaN</td>\n      <td>NaN</td>\n    </tr>\n    <tr>\n      <th>1</th>\n      <td>11/10/2020</td>\n      <td>4949</td>\n      <td>W</td>\n      <td>BELMONT</td>\n      <td>AVE</td>\n      <td>19.0</td>\n      <td>190200.0</td>\n      <td>31.0</td>\n      <td>41.94</td>\n      <td>-87.75</td>\n      <td>PERMIT - RENOVATION/ALTERATION</td>\n      <td>60641.0</td>\n      <td>NaN</td>\n      <td>NaN</td>\n      <td>NaN</td>\n      <td>NaN</td>\n      <td>NaN</td>\n    </tr>\n    <tr>\n      <th>2</th>\n      <td>11/10/2020</td>\n      <td>3204</td>\n      <td>N</td>\n      <td>LAWNDALE</td>\n      <td>AVE</td>\n      <td>21.0</td>\n      <td>831100.0</td>\n      <td>30.0</td>\n      <td>41.94</td>\n      <td>-87.72</td>\n      <td>PERMIT - NEW CONSTRUCTION</td>\n      <td>60618.0</td>\n      <td>NaN</td>\n      <td>NaN</td>\n      <td>NaN</td>\n      <td>NaN</td>\n      <td>NaN</td>\n    </tr>\n    <tr>\n      <th>3</th>\n      <td>11/10/2020</td>\n      <td>3634</td>\n      <td>N</td>\n      <td>PAULINA</td>\n      <td>ST</td>\n      <td>6.0</td>\n      <td>60300.0</td>\n      <td>47.0</td>\n      <td>41.95</td>\n      <td>-87.67</td>\n      <td>PERMIT - RENOVATION/ALTERATION</td>\n      <td>60613.0</td>\n      <td>NaN</td>\n      <td>NaN</td>\n      <td>NaN</td>\n      <td>NaN</td>\n      <td>NaN</td>\n    </tr>\n    <tr>\n      <th>4</th>\n      <td>11/10/2020</td>\n      <td>3917</td>\n      <td>W</td>\n      <td>EDDY</td>\n      <td>ST</td>\n      <td>21.0</td>\n      <td>831100.0</td>\n      <td>30.0</td>\n      <td>41.95</td>\n      <td>-87.73</td>\n      <td>PERMIT - NEW CONSTRUCTION</td>\n      <td>60641.0</td>\n      <td>NaN</td>\n      <td>NaN</td>\n      <td>NaN</td>\n      <td>NaN</td>\n      <td>NaN</td>\n    </tr>\n    <tr>\n      <th>...</th>\n      <td>...</td>\n      <td>...</td>\n      <td>...</td>\n      <td>...</td>\n      <td>...</td>\n      <td>...</td>\n      <td>...</td>\n      <td>...</td>\n      <td>...</td>\n      <td>...</td>\n      <td>...</td>\n      <td>...</td>\n      <td>...</td>\n      <td>...</td>\n      <td>...</td>\n      <td>...</td>\n      <td>...</td>\n    </tr>\n    <tr>\n      <th>50409</th>\n      <td>1/4/2016</td>\n      <td>1221</td>\n      <td>W</td>\n      <td>31ST</td>\n      <td>ST</td>\n      <td>60.0</td>\n      <td>600900.0</td>\n      <td>11.0</td>\n      <td>41.84</td>\n      <td>-87.66</td>\n      <td>PERMIT - RENOVATION/ALTERATION</td>\n      <td>60608.0</td>\n      <td>32731.0</td>\n      <td>1/4/2016</td>\n      <td>60608.0</td>\n      <td>12.0</td>\n      <td>0.0</td>\n    </tr>\n    <tr>\n      <th>50410</th>\n      <td>1/4/2016</td>\n      <td>6233</td>\n      <td>S</td>\n      <td>UNIVERSITY</td>\n      <td>AVE</td>\n      <td>42.0</td>\n      <td>420300.0</td>\n      <td>20.0</td>\n      <td>41.78</td>\n      <td>-87.60</td>\n      <td>PERMIT - RENOVATION/ALTERATION</td>\n      <td>60637.0</td>\n      <td>32758.0</td>\n      <td>1/4/2016</td>\n      <td>60637.0</td>\n      <td>19.0</td>\n      <td>0.0</td>\n    </tr>\n    <tr>\n      <th>50411</th>\n      <td>1/4/2016</td>\n      <td>4802</td>\n      <td>S</td>\n      <td>PRINCETON</td>\n      <td>AVE</td>\n      <td>37.0</td>\n      <td>835600.0</td>\n      <td>3.0</td>\n      <td>41.81</td>\n      <td>-87.63</td>\n      <td>PERMIT - RENOVATION/ALTERATION</td>\n      <td>60609.0</td>\n      <td>32732.0</td>\n      <td>1/4/2016</td>\n      <td>60609.0</td>\n      <td>6.0</td>\n      <td>0.0</td>\n    </tr>\n    <tr>\n      <th>50412</th>\n      <td>1/4/2016</td>\n      <td>555</td>\n      <td>W</td>\n      <td>111TH</td>\n      <td>ST</td>\n      <td>49.0</td>\n      <td>491200.0</td>\n      <td>34.0</td>\n      <td>41.69</td>\n      <td>-87.64</td>\n      <td>PERMIT - RENOVATION/ALTERATION</td>\n      <td>60628.0</td>\n      <td>32750.0</td>\n      <td>1/4/2016</td>\n      <td>60628.0</td>\n      <td>31.0</td>\n      <td>0.0</td>\n    </tr>\n    <tr>\n      <th>50413</th>\n      <td>1/4/2016</td>\n      <td>6440</td>\n      <td>S</td>\n      <td>HOYNE</td>\n      <td>AVE</td>\n      <td>67.0</td>\n      <td>671400.0</td>\n      <td>16.0</td>\n      <td>41.78</td>\n      <td>-87.68</td>\n      <td>PERMIT - RENOVATION/ALTERATION</td>\n      <td>60636.0</td>\n      <td>32757.0</td>\n      <td>1/4/2016</td>\n      <td>60636.0</td>\n      <td>31.0</td>\n      <td>0.0</td>\n    </tr>\n  </tbody>\n</table>\n<p>50414 rows × 17 columns</p>\n</div>"
     },
     "metadata": {},
     "execution_count": 80
    }
   ],
   "source": [
    "chi_hist_permitsREW_df = pd.merge(chi_hist_permitsREW_df, crimeData_df,  how='left', left_on=['month_year','Zip'], right_on = ['Date','zipcode'])\n",
    "chi_hist_permitsREW_df"
   ]
  },
  {
   "cell_type": "code",
   "execution_count": 81,
   "metadata": {},
   "outputs": [
    {
     "output_type": "execute_result",
     "data": {
      "text/plain": [
       "       month_year  street_number street_direction street_name suffix  \\\n",
       "0      11/10/2020           2402                W      CARMEN    AVE   \n",
       "1      11/10/2020           4949                W     BELMONT    AVE   \n",
       "2      11/10/2020           3204                N    LAWNDALE    AVE   \n",
       "3      11/10/2020           3634                N     PAULINA     ST   \n",
       "4      11/10/2020           3917                W        EDDY     ST   \n",
       "...           ...            ...              ...         ...    ...   \n",
       "50409    1/4/2016           1221                W        31ST     ST   \n",
       "50410    1/4/2016           6233                S  UNIVERSITY    AVE   \n",
       "50411    1/4/2016           4802                S   PRINCETON    AVE   \n",
       "50412    1/4/2016            555                W       111TH     ST   \n",
       "50413    1/4/2016           6440                S       HOYNE    AVE   \n",
       "\n",
       "       community_area  census_tract  ward    lat    lng  \\\n",
       "0                 4.0       40201.0  40.0  41.97 -87.69   \n",
       "1                19.0      190200.0  31.0  41.94 -87.75   \n",
       "2                21.0      831100.0  30.0  41.94 -87.72   \n",
       "3                 6.0       60300.0  47.0  41.95 -87.67   \n",
       "4                21.0      831100.0  30.0  41.95 -87.73   \n",
       "...               ...           ...   ...    ...    ...   \n",
       "50409            60.0      600900.0  11.0  41.84 -87.66   \n",
       "50410            42.0      420300.0  20.0  41.78 -87.60   \n",
       "50411            37.0      835600.0   3.0  41.81 -87.63   \n",
       "50412            49.0      491200.0  34.0  41.69 -87.64   \n",
       "50413            67.0      671400.0  16.0  41.78 -87.68   \n",
       "\n",
       "                          permit_type      Zip  total_num_crimes  \\\n",
       "0           PERMIT - NEW CONSTRUCTION  60625.0               NaN   \n",
       "1      PERMIT - RENOVATION/ALTERATION  60641.0               NaN   \n",
       "2           PERMIT - NEW CONSTRUCTION  60618.0               NaN   \n",
       "3      PERMIT - RENOVATION/ALTERATION  60613.0               NaN   \n",
       "4           PERMIT - NEW CONSTRUCTION  60641.0               NaN   \n",
       "...                               ...      ...               ...   \n",
       "50409  PERMIT - RENOVATION/ALTERATION  60608.0              12.0   \n",
       "50410  PERMIT - RENOVATION/ALTERATION  60637.0              19.0   \n",
       "50411  PERMIT - RENOVATION/ALTERATION  60609.0               6.0   \n",
       "50412  PERMIT - RENOVATION/ALTERATION  60628.0              31.0   \n",
       "50413  PERMIT - RENOVATION/ALTERATION  60636.0              31.0   \n",
       "\n",
       "       total_num_noise  \n",
       "0                  NaN  \n",
       "1                  NaN  \n",
       "2                  NaN  \n",
       "3                  NaN  \n",
       "4                  NaN  \n",
       "...                ...  \n",
       "50409              0.0  \n",
       "50410              0.0  \n",
       "50411              0.0  \n",
       "50412              0.0  \n",
       "50413              0.0  \n",
       "\n",
       "[50414 rows x 14 columns]"
      ],
      "text/html": "<div>\n<style scoped>\n    .dataframe tbody tr th:only-of-type {\n        vertical-align: middle;\n    }\n\n    .dataframe tbody tr th {\n        vertical-align: top;\n    }\n\n    .dataframe thead th {\n        text-align: right;\n    }\n</style>\n<table border=\"1\" class=\"dataframe\">\n  <thead>\n    <tr style=\"text-align: right;\">\n      <th></th>\n      <th>month_year</th>\n      <th>street_number</th>\n      <th>street_direction</th>\n      <th>street_name</th>\n      <th>suffix</th>\n      <th>community_area</th>\n      <th>census_tract</th>\n      <th>ward</th>\n      <th>lat</th>\n      <th>lng</th>\n      <th>permit_type</th>\n      <th>Zip</th>\n      <th>total_num_crimes</th>\n      <th>total_num_noise</th>\n    </tr>\n  </thead>\n  <tbody>\n    <tr>\n      <th>0</th>\n      <td>11/10/2020</td>\n      <td>2402</td>\n      <td>W</td>\n      <td>CARMEN</td>\n      <td>AVE</td>\n      <td>4.0</td>\n      <td>40201.0</td>\n      <td>40.0</td>\n      <td>41.97</td>\n      <td>-87.69</td>\n      <td>PERMIT - NEW CONSTRUCTION</td>\n      <td>60625.0</td>\n      <td>NaN</td>\n      <td>NaN</td>\n    </tr>\n    <tr>\n      <th>1</th>\n      <td>11/10/2020</td>\n      <td>4949</td>\n      <td>W</td>\n      <td>BELMONT</td>\n      <td>AVE</td>\n      <td>19.0</td>\n      <td>190200.0</td>\n      <td>31.0</td>\n      <td>41.94</td>\n      <td>-87.75</td>\n      <td>PERMIT - RENOVATION/ALTERATION</td>\n      <td>60641.0</td>\n      <td>NaN</td>\n      <td>NaN</td>\n    </tr>\n    <tr>\n      <th>2</th>\n      <td>11/10/2020</td>\n      <td>3204</td>\n      <td>N</td>\n      <td>LAWNDALE</td>\n      <td>AVE</td>\n      <td>21.0</td>\n      <td>831100.0</td>\n      <td>30.0</td>\n      <td>41.94</td>\n      <td>-87.72</td>\n      <td>PERMIT - NEW CONSTRUCTION</td>\n      <td>60618.0</td>\n      <td>NaN</td>\n      <td>NaN</td>\n    </tr>\n    <tr>\n      <th>3</th>\n      <td>11/10/2020</td>\n      <td>3634</td>\n      <td>N</td>\n      <td>PAULINA</td>\n      <td>ST</td>\n      <td>6.0</td>\n      <td>60300.0</td>\n      <td>47.0</td>\n      <td>41.95</td>\n      <td>-87.67</td>\n      <td>PERMIT - RENOVATION/ALTERATION</td>\n      <td>60613.0</td>\n      <td>NaN</td>\n      <td>NaN</td>\n    </tr>\n    <tr>\n      <th>4</th>\n      <td>11/10/2020</td>\n      <td>3917</td>\n      <td>W</td>\n      <td>EDDY</td>\n      <td>ST</td>\n      <td>21.0</td>\n      <td>831100.0</td>\n      <td>30.0</td>\n      <td>41.95</td>\n      <td>-87.73</td>\n      <td>PERMIT - NEW CONSTRUCTION</td>\n      <td>60641.0</td>\n      <td>NaN</td>\n      <td>NaN</td>\n    </tr>\n    <tr>\n      <th>...</th>\n      <td>...</td>\n      <td>...</td>\n      <td>...</td>\n      <td>...</td>\n      <td>...</td>\n      <td>...</td>\n      <td>...</td>\n      <td>...</td>\n      <td>...</td>\n      <td>...</td>\n      <td>...</td>\n      <td>...</td>\n      <td>...</td>\n      <td>...</td>\n    </tr>\n    <tr>\n      <th>50409</th>\n      <td>1/4/2016</td>\n      <td>1221</td>\n      <td>W</td>\n      <td>31ST</td>\n      <td>ST</td>\n      <td>60.0</td>\n      <td>600900.0</td>\n      <td>11.0</td>\n      <td>41.84</td>\n      <td>-87.66</td>\n      <td>PERMIT - RENOVATION/ALTERATION</td>\n      <td>60608.0</td>\n      <td>12.0</td>\n      <td>0.0</td>\n    </tr>\n    <tr>\n      <th>50410</th>\n      <td>1/4/2016</td>\n      <td>6233</td>\n      <td>S</td>\n      <td>UNIVERSITY</td>\n      <td>AVE</td>\n      <td>42.0</td>\n      <td>420300.0</td>\n      <td>20.0</td>\n      <td>41.78</td>\n      <td>-87.60</td>\n      <td>PERMIT - RENOVATION/ALTERATION</td>\n      <td>60637.0</td>\n      <td>19.0</td>\n      <td>0.0</td>\n    </tr>\n    <tr>\n      <th>50411</th>\n      <td>1/4/2016</td>\n      <td>4802</td>\n      <td>S</td>\n      <td>PRINCETON</td>\n      <td>AVE</td>\n      <td>37.0</td>\n      <td>835600.0</td>\n      <td>3.0</td>\n      <td>41.81</td>\n      <td>-87.63</td>\n      <td>PERMIT - RENOVATION/ALTERATION</td>\n      <td>60609.0</td>\n      <td>6.0</td>\n      <td>0.0</td>\n    </tr>\n    <tr>\n      <th>50412</th>\n      <td>1/4/2016</td>\n      <td>555</td>\n      <td>W</td>\n      <td>111TH</td>\n      <td>ST</td>\n      <td>49.0</td>\n      <td>491200.0</td>\n      <td>34.0</td>\n      <td>41.69</td>\n      <td>-87.64</td>\n      <td>PERMIT - RENOVATION/ALTERATION</td>\n      <td>60628.0</td>\n      <td>31.0</td>\n      <td>0.0</td>\n    </tr>\n    <tr>\n      <th>50413</th>\n      <td>1/4/2016</td>\n      <td>6440</td>\n      <td>S</td>\n      <td>HOYNE</td>\n      <td>AVE</td>\n      <td>67.0</td>\n      <td>671400.0</td>\n      <td>16.0</td>\n      <td>41.78</td>\n      <td>-87.68</td>\n      <td>PERMIT - RENOVATION/ALTERATION</td>\n      <td>60636.0</td>\n      <td>31.0</td>\n      <td>0.0</td>\n    </tr>\n  </tbody>\n</table>\n<p>50414 rows × 14 columns</p>\n</div>"
     },
     "metadata": {},
     "execution_count": 81
    }
   ],
   "source": [
    "chi_hist_permitsREW_df = chi_hist_permitsREW_df.drop(['Unnamed: 0', 'Date', \"zipcode\"], axis=1)\n",
    "chi_hist_permitsREW_df"
   ]
  },
  {
   "cell_type": "code",
   "execution_count": 82,
   "metadata": {},
   "outputs": [],
   "source": [
    "chi_hist_permitsREW_df.to_csv('chi_hist_permitsREW_df.csv', index=False)\n"
   ]
  },
  {
   "cell_type": "code",
   "execution_count": 94,
   "metadata": {},
   "outputs": [
    {
     "output_type": "execute_result",
     "data": {
      "text/plain": [
       "   month_year  long_date    lat    lng    Zip  total_num_crimes  \\\n",
       "0  11/10/2020  11/1/2020  41.97 -87.69  60625               NaN   \n",
       "1  11/10/2020  11/1/2020  41.94 -87.75  60641               NaN   \n",
       "2  11/10/2020  11/1/2020  41.94 -87.72  60618               NaN   \n",
       "3  11/10/2020  11/1/2020  41.95 -87.67  60613               NaN   \n",
       "4  11/10/2020  11/1/2020  41.95 -87.73  60641               NaN   \n",
       "\n",
       "   total_num_noise  \n",
       "0              NaN  \n",
       "1              NaN  \n",
       "2              NaN  \n",
       "3              NaN  \n",
       "4              NaN  "
      ],
      "text/html": "<div>\n<style scoped>\n    .dataframe tbody tr th:only-of-type {\n        vertical-align: middle;\n    }\n\n    .dataframe tbody tr th {\n        vertical-align: top;\n    }\n\n    .dataframe thead th {\n        text-align: right;\n    }\n</style>\n<table border=\"1\" class=\"dataframe\">\n  <thead>\n    <tr style=\"text-align: right;\">\n      <th></th>\n      <th>month_year</th>\n      <th>long_date</th>\n      <th>lat</th>\n      <th>lng</th>\n      <th>Zip</th>\n      <th>total_num_crimes</th>\n      <th>total_num_noise</th>\n    </tr>\n  </thead>\n  <tbody>\n    <tr>\n      <th>0</th>\n      <td>11/10/2020</td>\n      <td>11/1/2020</td>\n      <td>41.97</td>\n      <td>-87.69</td>\n      <td>60625</td>\n      <td>NaN</td>\n      <td>NaN</td>\n    </tr>\n    <tr>\n      <th>1</th>\n      <td>11/10/2020</td>\n      <td>11/1/2020</td>\n      <td>41.94</td>\n      <td>-87.75</td>\n      <td>60641</td>\n      <td>NaN</td>\n      <td>NaN</td>\n    </tr>\n    <tr>\n      <th>2</th>\n      <td>11/10/2020</td>\n      <td>11/1/2020</td>\n      <td>41.94</td>\n      <td>-87.72</td>\n      <td>60618</td>\n      <td>NaN</td>\n      <td>NaN</td>\n    </tr>\n    <tr>\n      <th>3</th>\n      <td>11/10/2020</td>\n      <td>11/1/2020</td>\n      <td>41.95</td>\n      <td>-87.67</td>\n      <td>60613</td>\n      <td>NaN</td>\n      <td>NaN</td>\n    </tr>\n    <tr>\n      <th>4</th>\n      <td>11/10/2020</td>\n      <td>11/1/2020</td>\n      <td>41.95</td>\n      <td>-87.73</td>\n      <td>60641</td>\n      <td>NaN</td>\n      <td>NaN</td>\n    </tr>\n  </tbody>\n</table>\n</div>"
     },
     "metadata": {},
     "execution_count": 94
    }
   ],
   "source": [
    "chiPermitsClean = \"Data/chi_hist_permitsREWclean_df.csv\"\n",
    "chiPermitsClean_df = pd.read_csv(chiPermitsClean,encoding='latin-1')\n",
    "chiPermitsClean_df.head()"
   ]
  },
  {
   "cell_type": "code",
   "execution_count": 95,
   "metadata": {},
   "outputs": [
    {
     "output_type": "execute_result",
     "data": {
      "text/plain": [
       "      month_year_x  long_date    lat    lng    Zip  total_num_crimes  \\\n",
       "0       11/10/2020  11/1/2020  41.97 -87.69  60625               NaN   \n",
       "1       11/10/2020  11/1/2020  41.94 -87.75  60641               NaN   \n",
       "2       11/10/2020  11/1/2020  41.94 -87.72  60618               NaN   \n",
       "3       11/10/2020  11/1/2020  41.95 -87.67  60613               NaN   \n",
       "4       11/10/2020  11/1/2020  41.95 -87.73  60641               NaN   \n",
       "...            ...        ...    ...    ...    ...               ...   \n",
       "50409     1/4/2016  01/1/2016  41.84 -87.66  60608              12.0   \n",
       "50410     1/4/2016  01/1/2016  41.78 -87.60  60637              19.0   \n",
       "50411     1/4/2016  01/1/2016  41.81 -87.63  60609               6.0   \n",
       "50412     1/4/2016  01/1/2016  41.69 -87.64  60628              31.0   \n",
       "50413     1/4/2016  01/1/2016  41.78 -87.68  60636              31.0   \n",
       "\n",
       "       total_num_noise  month_year_y Full_date short_date  zip_code  \\\n",
       "0                  NaN           NaN       NaN        NaN       NaN   \n",
       "1                  NaN           NaN       NaN        NaN       NaN   \n",
       "2                  NaN           NaN       NaN        NaN       NaN   \n",
       "3                  NaN           NaN       NaN        NaN       NaN   \n",
       "4                  NaN           NaN       NaN        NaN       NaN   \n",
       "...                ...           ...       ...        ...       ...   \n",
       "50409              0.0           NaN       NaN        NaN       NaN   \n",
       "50410              0.0           NaN       NaN        NaN       NaN   \n",
       "50411              0.0           NaN       NaN        NaN       NaN   \n",
       "50412              0.0           NaN       NaN        NaN       NaN   \n",
       "50413              0.0           NaN       NaN        NaN       NaN   \n",
       "\n",
       "      city_state  median_listing_price  active_listing_count  \\\n",
       "0            NaN                   NaN                   NaN   \n",
       "1            NaN                   NaN                   NaN   \n",
       "2            NaN                   NaN                   NaN   \n",
       "3            NaN                   NaN                   NaN   \n",
       "4            NaN                   NaN                   NaN   \n",
       "...          ...                   ...                   ...   \n",
       "50409        NaN                   NaN                   NaN   \n",
       "50410        NaN                   NaN                   NaN   \n",
       "50411        NaN                   NaN                   NaN   \n",
       "50412        NaN                   NaN                   NaN   \n",
       "50413        NaN                   NaN                   NaN   \n",
       "\n",
       "       median_days_on_market  new_listing_count  \\\n",
       "0                        NaN                NaN   \n",
       "1                        NaN                NaN   \n",
       "2                        NaN                NaN   \n",
       "3                        NaN                NaN   \n",
       "4                        NaN                NaN   \n",
       "...                      ...                ...   \n",
       "50409                    NaN                NaN   \n",
       "50410                    NaN                NaN   \n",
       "50411                    NaN                NaN   \n",
       "50412                    NaN                NaN   \n",
       "50413                    NaN                NaN   \n",
       "\n",
       "       median_listing_price_per_square_foot  median_square_feet  \\\n",
       "0                                       NaN                 NaN   \n",
       "1                                       NaN                 NaN   \n",
       "2                                       NaN                 NaN   \n",
       "3                                       NaN                 NaN   \n",
       "4                                       NaN                 NaN   \n",
       "...                                     ...                 ...   \n",
       "50409                                   NaN                 NaN   \n",
       "50410                                   NaN                 NaN   \n",
       "50411                                   NaN                 NaN   \n",
       "50412                                   NaN                 NaN   \n",
       "50413                                   NaN                 NaN   \n",
       "\n",
       "       average_listing_price  total_listing_count  \n",
       "0                        NaN                  NaN  \n",
       "1                        NaN                  NaN  \n",
       "2                        NaN                  NaN  \n",
       "3                        NaN                  NaN  \n",
       "4                        NaN                  NaN  \n",
       "...                      ...                  ...  \n",
       "50409                    NaN                  NaN  \n",
       "50410                    NaN                  NaN  \n",
       "50411                    NaN                  NaN  \n",
       "50412                    NaN                  NaN  \n",
       "50413                    NaN                  NaN  \n",
       "\n",
       "[50414 rows x 20 columns]"
      ],
      "text/html": "<div>\n<style scoped>\n    .dataframe tbody tr th:only-of-type {\n        vertical-align: middle;\n    }\n\n    .dataframe tbody tr th {\n        vertical-align: top;\n    }\n\n    .dataframe thead th {\n        text-align: right;\n    }\n</style>\n<table border=\"1\" class=\"dataframe\">\n  <thead>\n    <tr style=\"text-align: right;\">\n      <th></th>\n      <th>month_year_x</th>\n      <th>long_date</th>\n      <th>lat</th>\n      <th>lng</th>\n      <th>Zip</th>\n      <th>total_num_crimes</th>\n      <th>total_num_noise</th>\n      <th>month_year_y</th>\n      <th>Full_date</th>\n      <th>short_date</th>\n      <th>zip_code</th>\n      <th>city_state</th>\n      <th>median_listing_price</th>\n      <th>active_listing_count</th>\n      <th>median_days_on_market</th>\n      <th>new_listing_count</th>\n      <th>median_listing_price_per_square_foot</th>\n      <th>median_square_feet</th>\n      <th>average_listing_price</th>\n      <th>total_listing_count</th>\n    </tr>\n  </thead>\n  <tbody>\n    <tr>\n      <th>0</th>\n      <td>11/10/2020</td>\n      <td>11/1/2020</td>\n      <td>41.97</td>\n      <td>-87.69</td>\n      <td>60625</td>\n      <td>NaN</td>\n      <td>NaN</td>\n      <td>NaN</td>\n      <td>NaN</td>\n      <td>NaN</td>\n      <td>NaN</td>\n      <td>NaN</td>\n      <td>NaN</td>\n      <td>NaN</td>\n      <td>NaN</td>\n      <td>NaN</td>\n      <td>NaN</td>\n      <td>NaN</td>\n      <td>NaN</td>\n      <td>NaN</td>\n    </tr>\n    <tr>\n      <th>1</th>\n      <td>11/10/2020</td>\n      <td>11/1/2020</td>\n      <td>41.94</td>\n      <td>-87.75</td>\n      <td>60641</td>\n      <td>NaN</td>\n      <td>NaN</td>\n      <td>NaN</td>\n      <td>NaN</td>\n      <td>NaN</td>\n      <td>NaN</td>\n      <td>NaN</td>\n      <td>NaN</td>\n      <td>NaN</td>\n      <td>NaN</td>\n      <td>NaN</td>\n      <td>NaN</td>\n      <td>NaN</td>\n      <td>NaN</td>\n      <td>NaN</td>\n    </tr>\n    <tr>\n      <th>2</th>\n      <td>11/10/2020</td>\n      <td>11/1/2020</td>\n      <td>41.94</td>\n      <td>-87.72</td>\n      <td>60618</td>\n      <td>NaN</td>\n      <td>NaN</td>\n      <td>NaN</td>\n      <td>NaN</td>\n      <td>NaN</td>\n      <td>NaN</td>\n      <td>NaN</td>\n      <td>NaN</td>\n      <td>NaN</td>\n      <td>NaN</td>\n      <td>NaN</td>\n      <td>NaN</td>\n      <td>NaN</td>\n      <td>NaN</td>\n      <td>NaN</td>\n    </tr>\n    <tr>\n      <th>3</th>\n      <td>11/10/2020</td>\n      <td>11/1/2020</td>\n      <td>41.95</td>\n      <td>-87.67</td>\n      <td>60613</td>\n      <td>NaN</td>\n      <td>NaN</td>\n      <td>NaN</td>\n      <td>NaN</td>\n      <td>NaN</td>\n      <td>NaN</td>\n      <td>NaN</td>\n      <td>NaN</td>\n      <td>NaN</td>\n      <td>NaN</td>\n      <td>NaN</td>\n      <td>NaN</td>\n      <td>NaN</td>\n      <td>NaN</td>\n      <td>NaN</td>\n    </tr>\n    <tr>\n      <th>4</th>\n      <td>11/10/2020</td>\n      <td>11/1/2020</td>\n      <td>41.95</td>\n      <td>-87.73</td>\n      <td>60641</td>\n      <td>NaN</td>\n      <td>NaN</td>\n      <td>NaN</td>\n      <td>NaN</td>\n      <td>NaN</td>\n      <td>NaN</td>\n      <td>NaN</td>\n      <td>NaN</td>\n      <td>NaN</td>\n      <td>NaN</td>\n      <td>NaN</td>\n      <td>NaN</td>\n      <td>NaN</td>\n      <td>NaN</td>\n      <td>NaN</td>\n    </tr>\n    <tr>\n      <th>...</th>\n      <td>...</td>\n      <td>...</td>\n      <td>...</td>\n      <td>...</td>\n      <td>...</td>\n      <td>...</td>\n      <td>...</td>\n      <td>...</td>\n      <td>...</td>\n      <td>...</td>\n      <td>...</td>\n      <td>...</td>\n      <td>...</td>\n      <td>...</td>\n      <td>...</td>\n      <td>...</td>\n      <td>...</td>\n      <td>...</td>\n      <td>...</td>\n      <td>...</td>\n    </tr>\n    <tr>\n      <th>50409</th>\n      <td>1/4/2016</td>\n      <td>01/1/2016</td>\n      <td>41.84</td>\n      <td>-87.66</td>\n      <td>60608</td>\n      <td>12.0</td>\n      <td>0.0</td>\n      <td>NaN</td>\n      <td>NaN</td>\n      <td>NaN</td>\n      <td>NaN</td>\n      <td>NaN</td>\n      <td>NaN</td>\n      <td>NaN</td>\n      <td>NaN</td>\n      <td>NaN</td>\n      <td>NaN</td>\n      <td>NaN</td>\n      <td>NaN</td>\n      <td>NaN</td>\n    </tr>\n    <tr>\n      <th>50410</th>\n      <td>1/4/2016</td>\n      <td>01/1/2016</td>\n      <td>41.78</td>\n      <td>-87.60</td>\n      <td>60637</td>\n      <td>19.0</td>\n      <td>0.0</td>\n      <td>NaN</td>\n      <td>NaN</td>\n      <td>NaN</td>\n      <td>NaN</td>\n      <td>NaN</td>\n      <td>NaN</td>\n      <td>NaN</td>\n      <td>NaN</td>\n      <td>NaN</td>\n      <td>NaN</td>\n      <td>NaN</td>\n      <td>NaN</td>\n      <td>NaN</td>\n    </tr>\n    <tr>\n      <th>50411</th>\n      <td>1/4/2016</td>\n      <td>01/1/2016</td>\n      <td>41.81</td>\n      <td>-87.63</td>\n      <td>60609</td>\n      <td>6.0</td>\n      <td>0.0</td>\n      <td>NaN</td>\n      <td>NaN</td>\n      <td>NaN</td>\n      <td>NaN</td>\n      <td>NaN</td>\n      <td>NaN</td>\n      <td>NaN</td>\n      <td>NaN</td>\n      <td>NaN</td>\n      <td>NaN</td>\n      <td>NaN</td>\n      <td>NaN</td>\n      <td>NaN</td>\n    </tr>\n    <tr>\n      <th>50412</th>\n      <td>1/4/2016</td>\n      <td>01/1/2016</td>\n      <td>41.69</td>\n      <td>-87.64</td>\n      <td>60628</td>\n      <td>31.0</td>\n      <td>0.0</td>\n      <td>NaN</td>\n      <td>NaN</td>\n      <td>NaN</td>\n      <td>NaN</td>\n      <td>NaN</td>\n      <td>NaN</td>\n      <td>NaN</td>\n      <td>NaN</td>\n      <td>NaN</td>\n      <td>NaN</td>\n      <td>NaN</td>\n      <td>NaN</td>\n      <td>NaN</td>\n    </tr>\n    <tr>\n      <th>50413</th>\n      <td>1/4/2016</td>\n      <td>01/1/2016</td>\n      <td>41.78</td>\n      <td>-87.68</td>\n      <td>60636</td>\n      <td>31.0</td>\n      <td>0.0</td>\n      <td>NaN</td>\n      <td>NaN</td>\n      <td>NaN</td>\n      <td>NaN</td>\n      <td>NaN</td>\n      <td>NaN</td>\n      <td>NaN</td>\n      <td>NaN</td>\n      <td>NaN</td>\n      <td>NaN</td>\n      <td>NaN</td>\n      <td>NaN</td>\n      <td>NaN</td>\n    </tr>\n  </tbody>\n</table>\n<p>50414 rows × 20 columns</p>\n</div>"
     },
     "metadata": {},
     "execution_count": 95
    }
   ],
   "source": [
    "chiPermitsClean_df = pd.merge(chiPermitsClean_df, chi_hist_zip_df,  how='left', left_on=['long_date','Zip'], right_on = ['Full_date','zip_code'])\n",
    "chiPermitsClean_df"
   ]
  },
  {
   "cell_type": "code",
   "execution_count": 98,
   "metadata": {},
   "outputs": [],
   "source": [
    "chiPermitsClean_df.to_csv('Data/chiPermitsClean_df.csv', index=False)"
   ]
  },
  {
   "cell_type": "code",
   "execution_count": 99,
   "metadata": {},
   "outputs": [
    {
     "output_type": "execute_result",
     "data": {
      "text/plain": [
       "      month_year_x  long_date    lat    lng    Zip  total_num_crimes  \\\n",
       "246     10/31/2020  10/1/2020  41.78 -87.63  60636               1.0   \n",
       "274     10/29/2020  10/1/2020  41.76 -87.57  60617               1.0   \n",
       "283     10/29/2020  10/1/2020  41.95 -87.67  60613               1.0   \n",
       "294     10/28/2020  10/1/2020  41.79 -87.65  60620               1.0   \n",
       "453     10/22/2020  10/1/2020  41.75 -87.61  60619               1.0   \n",
       "...            ...        ...    ...    ...    ...               ...   \n",
       "45266     7/1/2016  07/1/2016  41.97 -87.74  60630               7.0   \n",
       "45267     7/1/2016  07/1/2016  41.78 -87.77  60638              13.0   \n",
       "45268     7/1/2016  07/1/2016  41.78 -87.77  60638              13.0   \n",
       "45269     7/1/2016  07/1/2016  41.79 -87.68  60636              52.0   \n",
       "45270     7/1/2016  07/1/2016  41.79 -87.60  60637              30.0   \n",
       "\n",
       "       total_num_noise  month_year_y  Full_date short_date  zip_code  \\\n",
       "246                0.0      202010.0  10/1/2020    10/2020   60636.0   \n",
       "274                0.0      202010.0  10/1/2020    10/2020   60617.0   \n",
       "283                0.0      202010.0  10/1/2020    10/2020   60613.0   \n",
       "294                0.0      202010.0  10/1/2020    10/2020   60620.0   \n",
       "453                1.0      202010.0  10/1/2020    10/2020   60619.0   \n",
       "...                ...           ...        ...        ...       ...   \n",
       "45266              0.0      201607.0  07/1/2016    07/2016   60630.0   \n",
       "45267              0.0      201607.0  07/1/2016    07/2016   60638.0   \n",
       "45268              0.0      201607.0  07/1/2016    07/2016   60638.0   \n",
       "45269              0.0      201607.0  07/1/2016    07/2016   60636.0   \n",
       "45270              0.0      201607.0  07/1/2016    07/2016   60637.0   \n",
       "\n",
       "        city_state  median_listing_price  active_listing_count  \\\n",
       "246    chicago, il               85050.0                  40.0   \n",
       "274    chicago, il              145050.0                  82.0   \n",
       "283    chicago, il              289050.0                 440.0   \n",
       "294    chicago, il              155050.0                  69.0   \n",
       "453    chicago, il              135050.0                  81.0   \n",
       "...            ...                   ...                   ...   \n",
       "45266  chicago, il              330050.0                 134.0   \n",
       "45267  chicago, il              235050.0                 193.0   \n",
       "45268  chicago, il              235050.0                 193.0   \n",
       "45269  chicago, il               49950.0                  95.0   \n",
       "45270  chicago, il              150950.0                 115.0   \n",
       "\n",
       "       median_days_on_market  new_listing_count  \\\n",
       "246                     49.0               24.0   \n",
       "274                     54.0               48.0   \n",
       "283                     34.0              204.0   \n",
       "294                     44.0               40.0   \n",
       "453                     50.0               60.0   \n",
       "...                      ...                ...   \n",
       "45266                   36.0               84.0   \n",
       "45267                   43.0               92.0   \n",
       "45268                   43.0               92.0   \n",
       "45269                   82.0               24.0   \n",
       "45270                   71.0               36.0   \n",
       "\n",
       "       median_listing_price_per_square_foot  median_square_feet  \\\n",
       "246                               58.823529              1080.0   \n",
       "274                              106.959315              1214.0   \n",
       "283                              216.666667               840.0   \n",
       "294                              102.836879              1275.0   \n",
       "453                               95.238095              1269.0   \n",
       "...                                     ...                 ...   \n",
       "45266                            174.500000              1367.0   \n",
       "45267                            168.445693              1141.0   \n",
       "45268                            168.445693              1141.0   \n",
       "45269                             36.930179              1079.0   \n",
       "45270                             97.899160              1400.0   \n",
       "\n",
       "       average_listing_price  total_listing_count  \n",
       "246                  95477.0                 91.0  \n",
       "274                 151615.0                208.0  \n",
       "283                 436893.0                562.0  \n",
       "294                 159521.0                208.0  \n",
       "453                 140520.0                193.0  \n",
       "...                      ...                  ...  \n",
       "45266               343241.0                252.0  \n",
       "45267               235389.0                337.0  \n",
       "45268               235389.0                337.0  \n",
       "45269                56598.0                114.0  \n",
       "45270               259446.0                168.0  \n",
       "\n",
       "[41707 rows x 20 columns]"
      ],
      "text/html": "<div>\n<style scoped>\n    .dataframe tbody tr th:only-of-type {\n        vertical-align: middle;\n    }\n\n    .dataframe tbody tr th {\n        vertical-align: top;\n    }\n\n    .dataframe thead th {\n        text-align: right;\n    }\n</style>\n<table border=\"1\" class=\"dataframe\">\n  <thead>\n    <tr style=\"text-align: right;\">\n      <th></th>\n      <th>month_year_x</th>\n      <th>long_date</th>\n      <th>lat</th>\n      <th>lng</th>\n      <th>Zip</th>\n      <th>total_num_crimes</th>\n      <th>total_num_noise</th>\n      <th>month_year_y</th>\n      <th>Full_date</th>\n      <th>short_date</th>\n      <th>zip_code</th>\n      <th>city_state</th>\n      <th>median_listing_price</th>\n      <th>active_listing_count</th>\n      <th>median_days_on_market</th>\n      <th>new_listing_count</th>\n      <th>median_listing_price_per_square_foot</th>\n      <th>median_square_feet</th>\n      <th>average_listing_price</th>\n      <th>total_listing_count</th>\n    </tr>\n  </thead>\n  <tbody>\n    <tr>\n      <th>246</th>\n      <td>10/31/2020</td>\n      <td>10/1/2020</td>\n      <td>41.78</td>\n      <td>-87.63</td>\n      <td>60636</td>\n      <td>1.0</td>\n      <td>0.0</td>\n      <td>202010.0</td>\n      <td>10/1/2020</td>\n      <td>10/2020</td>\n      <td>60636.0</td>\n      <td>chicago, il</td>\n      <td>85050.0</td>\n      <td>40.0</td>\n      <td>49.0</td>\n      <td>24.0</td>\n      <td>58.823529</td>\n      <td>1080.0</td>\n      <td>95477.0</td>\n      <td>91.0</td>\n    </tr>\n    <tr>\n      <th>274</th>\n      <td>10/29/2020</td>\n      <td>10/1/2020</td>\n      <td>41.76</td>\n      <td>-87.57</td>\n      <td>60617</td>\n      <td>1.0</td>\n      <td>0.0</td>\n      <td>202010.0</td>\n      <td>10/1/2020</td>\n      <td>10/2020</td>\n      <td>60617.0</td>\n      <td>chicago, il</td>\n      <td>145050.0</td>\n      <td>82.0</td>\n      <td>54.0</td>\n      <td>48.0</td>\n      <td>106.959315</td>\n      <td>1214.0</td>\n      <td>151615.0</td>\n      <td>208.0</td>\n    </tr>\n    <tr>\n      <th>283</th>\n      <td>10/29/2020</td>\n      <td>10/1/2020</td>\n      <td>41.95</td>\n      <td>-87.67</td>\n      <td>60613</td>\n      <td>1.0</td>\n      <td>0.0</td>\n      <td>202010.0</td>\n      <td>10/1/2020</td>\n      <td>10/2020</td>\n      <td>60613.0</td>\n      <td>chicago, il</td>\n      <td>289050.0</td>\n      <td>440.0</td>\n      <td>34.0</td>\n      <td>204.0</td>\n      <td>216.666667</td>\n      <td>840.0</td>\n      <td>436893.0</td>\n      <td>562.0</td>\n    </tr>\n    <tr>\n      <th>294</th>\n      <td>10/28/2020</td>\n      <td>10/1/2020</td>\n      <td>41.79</td>\n      <td>-87.65</td>\n      <td>60620</td>\n      <td>1.0</td>\n      <td>0.0</td>\n      <td>202010.0</td>\n      <td>10/1/2020</td>\n      <td>10/2020</td>\n      <td>60620.0</td>\n      <td>chicago, il</td>\n      <td>155050.0</td>\n      <td>69.0</td>\n      <td>44.0</td>\n      <td>40.0</td>\n      <td>102.836879</td>\n      <td>1275.0</td>\n      <td>159521.0</td>\n      <td>208.0</td>\n    </tr>\n    <tr>\n      <th>453</th>\n      <td>10/22/2020</td>\n      <td>10/1/2020</td>\n      <td>41.75</td>\n      <td>-87.61</td>\n      <td>60619</td>\n      <td>1.0</td>\n      <td>1.0</td>\n      <td>202010.0</td>\n      <td>10/1/2020</td>\n      <td>10/2020</td>\n      <td>60619.0</td>\n      <td>chicago, il</td>\n      <td>135050.0</td>\n      <td>81.0</td>\n      <td>50.0</td>\n      <td>60.0</td>\n      <td>95.238095</td>\n      <td>1269.0</td>\n      <td>140520.0</td>\n      <td>193.0</td>\n    </tr>\n    <tr>\n      <th>...</th>\n      <td>...</td>\n      <td>...</td>\n      <td>...</td>\n      <td>...</td>\n      <td>...</td>\n      <td>...</td>\n      <td>...</td>\n      <td>...</td>\n      <td>...</td>\n      <td>...</td>\n      <td>...</td>\n      <td>...</td>\n      <td>...</td>\n      <td>...</td>\n      <td>...</td>\n      <td>...</td>\n      <td>...</td>\n      <td>...</td>\n      <td>...</td>\n      <td>...</td>\n    </tr>\n    <tr>\n      <th>45266</th>\n      <td>7/1/2016</td>\n      <td>07/1/2016</td>\n      <td>41.97</td>\n      <td>-87.74</td>\n      <td>60630</td>\n      <td>7.0</td>\n      <td>0.0</td>\n      <td>201607.0</td>\n      <td>07/1/2016</td>\n      <td>07/2016</td>\n      <td>60630.0</td>\n      <td>chicago, il</td>\n      <td>330050.0</td>\n      <td>134.0</td>\n      <td>36.0</td>\n      <td>84.0</td>\n      <td>174.500000</td>\n      <td>1367.0</td>\n      <td>343241.0</td>\n      <td>252.0</td>\n    </tr>\n    <tr>\n      <th>45267</th>\n      <td>7/1/2016</td>\n      <td>07/1/2016</td>\n      <td>41.78</td>\n      <td>-87.77</td>\n      <td>60638</td>\n      <td>13.0</td>\n      <td>0.0</td>\n      <td>201607.0</td>\n      <td>07/1/2016</td>\n      <td>07/2016</td>\n      <td>60638.0</td>\n      <td>chicago, il</td>\n      <td>235050.0</td>\n      <td>193.0</td>\n      <td>43.0</td>\n      <td>92.0</td>\n      <td>168.445693</td>\n      <td>1141.0</td>\n      <td>235389.0</td>\n      <td>337.0</td>\n    </tr>\n    <tr>\n      <th>45268</th>\n      <td>7/1/2016</td>\n      <td>07/1/2016</td>\n      <td>41.78</td>\n      <td>-87.77</td>\n      <td>60638</td>\n      <td>13.0</td>\n      <td>0.0</td>\n      <td>201607.0</td>\n      <td>07/1/2016</td>\n      <td>07/2016</td>\n      <td>60638.0</td>\n      <td>chicago, il</td>\n      <td>235050.0</td>\n      <td>193.0</td>\n      <td>43.0</td>\n      <td>92.0</td>\n      <td>168.445693</td>\n      <td>1141.0</td>\n      <td>235389.0</td>\n      <td>337.0</td>\n    </tr>\n    <tr>\n      <th>45269</th>\n      <td>7/1/2016</td>\n      <td>07/1/2016</td>\n      <td>41.79</td>\n      <td>-87.68</td>\n      <td>60636</td>\n      <td>52.0</td>\n      <td>0.0</td>\n      <td>201607.0</td>\n      <td>07/1/2016</td>\n      <td>07/2016</td>\n      <td>60636.0</td>\n      <td>chicago, il</td>\n      <td>49950.0</td>\n      <td>95.0</td>\n      <td>82.0</td>\n      <td>24.0</td>\n      <td>36.930179</td>\n      <td>1079.0</td>\n      <td>56598.0</td>\n      <td>114.0</td>\n    </tr>\n    <tr>\n      <th>45270</th>\n      <td>7/1/2016</td>\n      <td>07/1/2016</td>\n      <td>41.79</td>\n      <td>-87.60</td>\n      <td>60637</td>\n      <td>30.0</td>\n      <td>0.0</td>\n      <td>201607.0</td>\n      <td>07/1/2016</td>\n      <td>07/2016</td>\n      <td>60637.0</td>\n      <td>chicago, il</td>\n      <td>150950.0</td>\n      <td>115.0</td>\n      <td>71.0</td>\n      <td>36.0</td>\n      <td>97.899160</td>\n      <td>1400.0</td>\n      <td>259446.0</td>\n      <td>168.0</td>\n    </tr>\n  </tbody>\n</table>\n<p>41707 rows × 20 columns</p>\n</div>"
     },
     "metadata": {},
     "execution_count": 99
    }
   ],
   "source": [
    "chiPermitsClean_df = chiPermitsClean_df.dropna(how='any')\n",
    "chiPermitsClean_df"
   ]
  },
  {
   "cell_type": "code",
   "execution_count": 100,
   "metadata": {},
   "outputs": [
    {
     "output_type": "execute_result",
     "data": {
      "text/plain": [
       "       long_date    lat    lng    Zip  total_num_crimes  total_num_noise  \\\n",
       "246    10/1/2020  41.78 -87.63  60636               1.0              0.0   \n",
       "274    10/1/2020  41.76 -87.57  60617               1.0              0.0   \n",
       "283    10/1/2020  41.95 -87.67  60613               1.0              0.0   \n",
       "294    10/1/2020  41.79 -87.65  60620               1.0              0.0   \n",
       "453    10/1/2020  41.75 -87.61  60619               1.0              1.0   \n",
       "...          ...    ...    ...    ...               ...              ...   \n",
       "45266  07/1/2016  41.97 -87.74  60630               7.0              0.0   \n",
       "45267  07/1/2016  41.78 -87.77  60638              13.0              0.0   \n",
       "45268  07/1/2016  41.78 -87.77  60638              13.0              0.0   \n",
       "45269  07/1/2016  41.79 -87.68  60636              52.0              0.0   \n",
       "45270  07/1/2016  41.79 -87.60  60637              30.0              0.0   \n",
       "\n",
       "       median_listing_price  active_listing_count  median_days_on_market  \\\n",
       "246                 85050.0                  40.0                   49.0   \n",
       "274                145050.0                  82.0                   54.0   \n",
       "283                289050.0                 440.0                   34.0   \n",
       "294                155050.0                  69.0                   44.0   \n",
       "453                135050.0                  81.0                   50.0   \n",
       "...                     ...                   ...                    ...   \n",
       "45266              330050.0                 134.0                   36.0   \n",
       "45267              235050.0                 193.0                   43.0   \n",
       "45268              235050.0                 193.0                   43.0   \n",
       "45269               49950.0                  95.0                   82.0   \n",
       "45270              150950.0                 115.0                   71.0   \n",
       "\n",
       "       new_listing_count  median_listing_price_per_square_foot  \\\n",
       "246                 24.0                             58.823529   \n",
       "274                 48.0                            106.959315   \n",
       "283                204.0                            216.666667   \n",
       "294                 40.0                            102.836879   \n",
       "453                 60.0                             95.238095   \n",
       "...                  ...                                   ...   \n",
       "45266               84.0                            174.500000   \n",
       "45267               92.0                            168.445693   \n",
       "45268               92.0                            168.445693   \n",
       "45269               24.0                             36.930179   \n",
       "45270               36.0                             97.899160   \n",
       "\n",
       "       median_square_feet  average_listing_price  total_listing_count  \n",
       "246                1080.0                95477.0                 91.0  \n",
       "274                1214.0               151615.0                208.0  \n",
       "283                 840.0               436893.0                562.0  \n",
       "294                1275.0               159521.0                208.0  \n",
       "453                1269.0               140520.0                193.0  \n",
       "...                   ...                    ...                  ...  \n",
       "45266              1367.0               343241.0                252.0  \n",
       "45267              1141.0               235389.0                337.0  \n",
       "45268              1141.0               235389.0                337.0  \n",
       "45269              1079.0                56598.0                114.0  \n",
       "45270              1400.0               259446.0                168.0  \n",
       "\n",
       "[41707 rows x 14 columns]"
      ],
      "text/html": "<div>\n<style scoped>\n    .dataframe tbody tr th:only-of-type {\n        vertical-align: middle;\n    }\n\n    .dataframe tbody tr th {\n        vertical-align: top;\n    }\n\n    .dataframe thead th {\n        text-align: right;\n    }\n</style>\n<table border=\"1\" class=\"dataframe\">\n  <thead>\n    <tr style=\"text-align: right;\">\n      <th></th>\n      <th>long_date</th>\n      <th>lat</th>\n      <th>lng</th>\n      <th>Zip</th>\n      <th>total_num_crimes</th>\n      <th>total_num_noise</th>\n      <th>median_listing_price</th>\n      <th>active_listing_count</th>\n      <th>median_days_on_market</th>\n      <th>new_listing_count</th>\n      <th>median_listing_price_per_square_foot</th>\n      <th>median_square_feet</th>\n      <th>average_listing_price</th>\n      <th>total_listing_count</th>\n    </tr>\n  </thead>\n  <tbody>\n    <tr>\n      <th>246</th>\n      <td>10/1/2020</td>\n      <td>41.78</td>\n      <td>-87.63</td>\n      <td>60636</td>\n      <td>1.0</td>\n      <td>0.0</td>\n      <td>85050.0</td>\n      <td>40.0</td>\n      <td>49.0</td>\n      <td>24.0</td>\n      <td>58.823529</td>\n      <td>1080.0</td>\n      <td>95477.0</td>\n      <td>91.0</td>\n    </tr>\n    <tr>\n      <th>274</th>\n      <td>10/1/2020</td>\n      <td>41.76</td>\n      <td>-87.57</td>\n      <td>60617</td>\n      <td>1.0</td>\n      <td>0.0</td>\n      <td>145050.0</td>\n      <td>82.0</td>\n      <td>54.0</td>\n      <td>48.0</td>\n      <td>106.959315</td>\n      <td>1214.0</td>\n      <td>151615.0</td>\n      <td>208.0</td>\n    </tr>\n    <tr>\n      <th>283</th>\n      <td>10/1/2020</td>\n      <td>41.95</td>\n      <td>-87.67</td>\n      <td>60613</td>\n      <td>1.0</td>\n      <td>0.0</td>\n      <td>289050.0</td>\n      <td>440.0</td>\n      <td>34.0</td>\n      <td>204.0</td>\n      <td>216.666667</td>\n      <td>840.0</td>\n      <td>436893.0</td>\n      <td>562.0</td>\n    </tr>\n    <tr>\n      <th>294</th>\n      <td>10/1/2020</td>\n      <td>41.79</td>\n      <td>-87.65</td>\n      <td>60620</td>\n      <td>1.0</td>\n      <td>0.0</td>\n      <td>155050.0</td>\n      <td>69.0</td>\n      <td>44.0</td>\n      <td>40.0</td>\n      <td>102.836879</td>\n      <td>1275.0</td>\n      <td>159521.0</td>\n      <td>208.0</td>\n    </tr>\n    <tr>\n      <th>453</th>\n      <td>10/1/2020</td>\n      <td>41.75</td>\n      <td>-87.61</td>\n      <td>60619</td>\n      <td>1.0</td>\n      <td>1.0</td>\n      <td>135050.0</td>\n      <td>81.0</td>\n      <td>50.0</td>\n      <td>60.0</td>\n      <td>95.238095</td>\n      <td>1269.0</td>\n      <td>140520.0</td>\n      <td>193.0</td>\n    </tr>\n    <tr>\n      <th>...</th>\n      <td>...</td>\n      <td>...</td>\n      <td>...</td>\n      <td>...</td>\n      <td>...</td>\n      <td>...</td>\n      <td>...</td>\n      <td>...</td>\n      <td>...</td>\n      <td>...</td>\n      <td>...</td>\n      <td>...</td>\n      <td>...</td>\n      <td>...</td>\n    </tr>\n    <tr>\n      <th>45266</th>\n      <td>07/1/2016</td>\n      <td>41.97</td>\n      <td>-87.74</td>\n      <td>60630</td>\n      <td>7.0</td>\n      <td>0.0</td>\n      <td>330050.0</td>\n      <td>134.0</td>\n      <td>36.0</td>\n      <td>84.0</td>\n      <td>174.500000</td>\n      <td>1367.0</td>\n      <td>343241.0</td>\n      <td>252.0</td>\n    </tr>\n    <tr>\n      <th>45267</th>\n      <td>07/1/2016</td>\n      <td>41.78</td>\n      <td>-87.77</td>\n      <td>60638</td>\n      <td>13.0</td>\n      <td>0.0</td>\n      <td>235050.0</td>\n      <td>193.0</td>\n      <td>43.0</td>\n      <td>92.0</td>\n      <td>168.445693</td>\n      <td>1141.0</td>\n      <td>235389.0</td>\n      <td>337.0</td>\n    </tr>\n    <tr>\n      <th>45268</th>\n      <td>07/1/2016</td>\n      <td>41.78</td>\n      <td>-87.77</td>\n      <td>60638</td>\n      <td>13.0</td>\n      <td>0.0</td>\n      <td>235050.0</td>\n      <td>193.0</td>\n      <td>43.0</td>\n      <td>92.0</td>\n      <td>168.445693</td>\n      <td>1141.0</td>\n      <td>235389.0</td>\n      <td>337.0</td>\n    </tr>\n    <tr>\n      <th>45269</th>\n      <td>07/1/2016</td>\n      <td>41.79</td>\n      <td>-87.68</td>\n      <td>60636</td>\n      <td>52.0</td>\n      <td>0.0</td>\n      <td>49950.0</td>\n      <td>95.0</td>\n      <td>82.0</td>\n      <td>24.0</td>\n      <td>36.930179</td>\n      <td>1079.0</td>\n      <td>56598.0</td>\n      <td>114.0</td>\n    </tr>\n    <tr>\n      <th>45270</th>\n      <td>07/1/2016</td>\n      <td>41.79</td>\n      <td>-87.60</td>\n      <td>60637</td>\n      <td>30.0</td>\n      <td>0.0</td>\n      <td>150950.0</td>\n      <td>115.0</td>\n      <td>71.0</td>\n      <td>36.0</td>\n      <td>97.899160</td>\n      <td>1400.0</td>\n      <td>259446.0</td>\n      <td>168.0</td>\n    </tr>\n  </tbody>\n</table>\n<p>41707 rows × 14 columns</p>\n</div>"
     },
     "metadata": {},
     "execution_count": 100
    }
   ],
   "source": [
    "chiPermitsClean_df = chiPermitsClean_df.drop(['month_year_y', 'month_year_x', \"Full_date\", \"short_date\", \"zip_code\", \"city_state\", ], axis=1)\n",
    "chiPermitsClean_df"
   ]
  },
  {
   "cell_type": "code",
   "execution_count": 112,
   "metadata": {},
   "outputs": [
    {
     "output_type": "execute_result",
     "data": {
      "text/plain": [
       "                 permit_count\n",
       "long_date Zip                \n",
       "01/1/2017 60605             5\n",
       "          60607            13\n",
       "          60608            18\n",
       "          60609            13\n",
       "          60610            43\n",
       "...                       ...\n",
       "12/1/2019 60656             4\n",
       "          60657            11\n",
       "          60659             4\n",
       "          60660             4\n",
       "          60661            27\n",
       "\n",
       "[2666 rows x 1 columns]"
      ],
      "text/html": "<div>\n<style scoped>\n    .dataframe tbody tr th:only-of-type {\n        vertical-align: middle;\n    }\n\n    .dataframe tbody tr th {\n        vertical-align: top;\n    }\n\n    .dataframe thead th {\n        text-align: right;\n    }\n</style>\n<table border=\"1\" class=\"dataframe\">\n  <thead>\n    <tr style=\"text-align: right;\">\n      <th></th>\n      <th></th>\n      <th>permit_count</th>\n    </tr>\n    <tr>\n      <th>long_date</th>\n      <th>Zip</th>\n      <th></th>\n    </tr>\n  </thead>\n  <tbody>\n    <tr>\n      <th rowspan=\"5\" valign=\"top\">01/1/2017</th>\n      <th>60605</th>\n      <td>5</td>\n    </tr>\n    <tr>\n      <th>60607</th>\n      <td>13</td>\n    </tr>\n    <tr>\n      <th>60608</th>\n      <td>18</td>\n    </tr>\n    <tr>\n      <th>60609</th>\n      <td>13</td>\n    </tr>\n    <tr>\n      <th>60610</th>\n      <td>43</td>\n    </tr>\n    <tr>\n      <th>...</th>\n      <th>...</th>\n      <td>...</td>\n    </tr>\n    <tr>\n      <th rowspan=\"5\" valign=\"top\">12/1/2019</th>\n      <th>60656</th>\n      <td>4</td>\n    </tr>\n    <tr>\n      <th>60657</th>\n      <td>11</td>\n    </tr>\n    <tr>\n      <th>60659</th>\n      <td>4</td>\n    </tr>\n    <tr>\n      <th>60660</th>\n      <td>4</td>\n    </tr>\n    <tr>\n      <th>60661</th>\n      <td>27</td>\n    </tr>\n  </tbody>\n</table>\n<p>2666 rows × 1 columns</p>\n</div>"
     },
     "metadata": {},
     "execution_count": 112
    }
   ],
   "source": [
    "permitMoCt_df = chiPermitsClean_df.groupby([\"long_date\",\"Zip\"]).count()\n",
    "permitMoCt_df = permitMoCt_df[[\"lat\"]]\n",
    "permitMoCt_df = permitMoCt_df.rename(columns={\"lat\":\"permit_count\"})\n",
    "permitMoCt_df"
   ]
  },
  {
   "cell_type": "code",
   "execution_count": 113,
   "metadata": {},
   "outputs": [],
   "source": [
    "permitMoCt_df.to_csv('Data/permitMoCtFinal_df.csv')"
   ]
  },
  {
   "cell_type": "code",
   "execution_count": null,
   "metadata": {},
   "outputs": [],
   "source": []
  }
 ],
 "metadata": {
  "kernelspec": {
   "display_name": "Python 3",
   "language": "python",
   "name": "python3"
  },
  "language_info": {
   "codemirror_mode": {
    "name": "ipython",
    "version": 3
   },
   "file_extension": ".py",
   "mimetype": "text/x-python",
   "name": "python",
   "nbconvert_exporter": "python",
   "pygments_lexer": "ipython3",
   "version": "3.7.6-final"
  }
 },
 "nbformat": 4,
 "nbformat_minor": 4
}