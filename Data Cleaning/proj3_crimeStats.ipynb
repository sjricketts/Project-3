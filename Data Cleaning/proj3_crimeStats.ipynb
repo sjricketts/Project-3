{
 "metadata": {
  "language_info": {
   "codemirror_mode": {
    "name": "ipython",
    "version": 3
   },
   "file_extension": ".py",
   "mimetype": "text/x-python",
   "name": "python",
   "nbconvert_exporter": "python",
   "pygments_lexer": "ipython3",
   "version": "3.7.6-final"
  },
  "orig_nbformat": 2,
  "kernelspec": {
   "name": "python3",
   "display_name": "Python 3"
  }
 },
 "nbformat": 4,
 "nbformat_minor": 2,
 "cells": [
  {
   "cell_type": "code",
   "execution_count": 54,
   "metadata": {},
   "outputs": [],
   "source": [
    "import pandas as pd\n",
    "import requests\n",
    "import json\n",
    "import numpy as np\n",
    "from pprint import pprint as pp"
   ]
  },
  {
   "cell_type": "code",
   "execution_count": 55,
   "metadata": {},
   "outputs": [
    {
     "output_type": "execute_result",
     "data": {
      "text/plain": [
       "         ID Case Number                    Date                 Block  IUCR  \\\n",
       "0  11034701    JA366925  01/01/2001 11:00:00 AM       016XX E 86TH PL  1153   \n",
       "1  11227287    JB147188  10/08/2017 03:00:00 AM    092XX S RACINE AVE  0281   \n",
       "2  11227583    JB147595  03/28/2017 02:00:00 PM       026XX W 79TH ST  0620   \n",
       "3  11227293    JB147230  09/09/2017 08:17:00 PM  060XX S EBERHART AVE  0810   \n",
       "4  11227634    JB147599  08/26/2017 10:00:00 AM   001XX W RANDOLPH ST  0281   \n",
       "\n",
       "          Primary Type                          Description  \\\n",
       "0   DECEPTIVE PRACTICE  FINANCIAL IDENTITY THEFT OVER $ 300   \n",
       "1  CRIM SEXUAL ASSAULT                       NON-AGGRAVATED   \n",
       "2             BURGLARY                       UNLAWFUL ENTRY   \n",
       "3                THEFT                            OVER $500   \n",
       "4  CRIM SEXUAL ASSAULT                       NON-AGGRAVATED   \n",
       "\n",
       "  Location Description  Arrest  Domestic  ...  Ward  Community Area  FBI Code  \\\n",
       "0            RESIDENCE   False     False  ...   8.0            45.0        11   \n",
       "1            RESIDENCE   False     False  ...  21.0            73.0        02   \n",
       "2                OTHER   False     False  ...  18.0            70.0        05   \n",
       "3            RESIDENCE   False     False  ...  20.0            42.0        06   \n",
       "4          HOTEL/MOTEL   False     False  ...  42.0            32.0        02   \n",
       "\n",
       "   X Coordinate Y Coordinate  Year              Updated On  Latitude  \\\n",
       "0           NaN          NaN  2001  08/05/2017 03:50:08 PM       NaN   \n",
       "1           NaN          NaN  2017  02/11/2018 03:57:41 PM       NaN   \n",
       "2           NaN          NaN  2017  02/11/2018 03:57:41 PM       NaN   \n",
       "3           NaN          NaN  2017  02/11/2018 03:57:41 PM       NaN   \n",
       "4           NaN          NaN  2017  02/11/2018 03:57:41 PM       NaN   \n",
       "\n",
       "  Longitude  Location  \n",
       "0       NaN       NaN  \n",
       "1       NaN       NaN  \n",
       "2       NaN       NaN  \n",
       "3       NaN       NaN  \n",
       "4       NaN       NaN  \n",
       "\n",
       "[5 rows x 22 columns]"
      ],
      "text/html": "<div>\n<style scoped>\n    .dataframe tbody tr th:only-of-type {\n        vertical-align: middle;\n    }\n\n    .dataframe tbody tr th {\n        vertical-align: top;\n    }\n\n    .dataframe thead th {\n        text-align: right;\n    }\n</style>\n<table border=\"1\" class=\"dataframe\">\n  <thead>\n    <tr style=\"text-align: right;\">\n      <th></th>\n      <th>ID</th>\n      <th>Case Number</th>\n      <th>Date</th>\n      <th>Block</th>\n      <th>IUCR</th>\n      <th>Primary Type</th>\n      <th>Description</th>\n      <th>Location Description</th>\n      <th>Arrest</th>\n      <th>Domestic</th>\n      <th>...</th>\n      <th>Ward</th>\n      <th>Community Area</th>\n      <th>FBI Code</th>\n      <th>X Coordinate</th>\n      <th>Y Coordinate</th>\n      <th>Year</th>\n      <th>Updated On</th>\n      <th>Latitude</th>\n      <th>Longitude</th>\n      <th>Location</th>\n    </tr>\n  </thead>\n  <tbody>\n    <tr>\n      <th>0</th>\n      <td>11034701</td>\n      <td>JA366925</td>\n      <td>01/01/2001 11:00:00 AM</td>\n      <td>016XX E 86TH PL</td>\n      <td>1153</td>\n      <td>DECEPTIVE PRACTICE</td>\n      <td>FINANCIAL IDENTITY THEFT OVER $ 300</td>\n      <td>RESIDENCE</td>\n      <td>False</td>\n      <td>False</td>\n      <td>...</td>\n      <td>8.0</td>\n      <td>45.0</td>\n      <td>11</td>\n      <td>NaN</td>\n      <td>NaN</td>\n      <td>2001</td>\n      <td>08/05/2017 03:50:08 PM</td>\n      <td>NaN</td>\n      <td>NaN</td>\n      <td>NaN</td>\n    </tr>\n    <tr>\n      <th>1</th>\n      <td>11227287</td>\n      <td>JB147188</td>\n      <td>10/08/2017 03:00:00 AM</td>\n      <td>092XX S RACINE AVE</td>\n      <td>0281</td>\n      <td>CRIM SEXUAL ASSAULT</td>\n      <td>NON-AGGRAVATED</td>\n      <td>RESIDENCE</td>\n      <td>False</td>\n      <td>False</td>\n      <td>...</td>\n      <td>21.0</td>\n      <td>73.0</td>\n      <td>02</td>\n      <td>NaN</td>\n      <td>NaN</td>\n      <td>2017</td>\n      <td>02/11/2018 03:57:41 PM</td>\n      <td>NaN</td>\n      <td>NaN</td>\n      <td>NaN</td>\n    </tr>\n    <tr>\n      <th>2</th>\n      <td>11227583</td>\n      <td>JB147595</td>\n      <td>03/28/2017 02:00:00 PM</td>\n      <td>026XX W 79TH ST</td>\n      <td>0620</td>\n      <td>BURGLARY</td>\n      <td>UNLAWFUL ENTRY</td>\n      <td>OTHER</td>\n      <td>False</td>\n      <td>False</td>\n      <td>...</td>\n      <td>18.0</td>\n      <td>70.0</td>\n      <td>05</td>\n      <td>NaN</td>\n      <td>NaN</td>\n      <td>2017</td>\n      <td>02/11/2018 03:57:41 PM</td>\n      <td>NaN</td>\n      <td>NaN</td>\n      <td>NaN</td>\n    </tr>\n    <tr>\n      <th>3</th>\n      <td>11227293</td>\n      <td>JB147230</td>\n      <td>09/09/2017 08:17:00 PM</td>\n      <td>060XX S EBERHART AVE</td>\n      <td>0810</td>\n      <td>THEFT</td>\n      <td>OVER $500</td>\n      <td>RESIDENCE</td>\n      <td>False</td>\n      <td>False</td>\n      <td>...</td>\n      <td>20.0</td>\n      <td>42.0</td>\n      <td>06</td>\n      <td>NaN</td>\n      <td>NaN</td>\n      <td>2017</td>\n      <td>02/11/2018 03:57:41 PM</td>\n      <td>NaN</td>\n      <td>NaN</td>\n      <td>NaN</td>\n    </tr>\n    <tr>\n      <th>4</th>\n      <td>11227634</td>\n      <td>JB147599</td>\n      <td>08/26/2017 10:00:00 AM</td>\n      <td>001XX W RANDOLPH ST</td>\n      <td>0281</td>\n      <td>CRIM SEXUAL ASSAULT</td>\n      <td>NON-AGGRAVATED</td>\n      <td>HOTEL/MOTEL</td>\n      <td>False</td>\n      <td>False</td>\n      <td>...</td>\n      <td>42.0</td>\n      <td>32.0</td>\n      <td>02</td>\n      <td>NaN</td>\n      <td>NaN</td>\n      <td>2017</td>\n      <td>02/11/2018 03:57:41 PM</td>\n      <td>NaN</td>\n      <td>NaN</td>\n      <td>NaN</td>\n    </tr>\n  </tbody>\n</table>\n<p>5 rows × 22 columns</p>\n</div>"
     },
     "metadata": {},
     "execution_count": 55
    }
   ],
   "source": [
    "crimeCSV = \"Data/Crimes_-_2001_to_Present.csv\"\n",
    "crime_df = pd.read_csv(crimeCSV,encoding='latin-1')\n",
    "crime_df.head()"
   ]
  },
  {
   "cell_type": "code",
   "execution_count": 56,
   "metadata": {},
   "outputs": [
    {
     "output_type": "execute_result",
     "data": {
      "text/plain": [
       "                     Date                 Block  IUCR         Primary Type  \\\n",
       "0  01/01/2001 11:00:00 AM       016XX E 86TH PL  1153   DECEPTIVE PRACTICE   \n",
       "1  10/08/2017 03:00:00 AM    092XX S RACINE AVE  0281  CRIM SEXUAL ASSAULT   \n",
       "2  03/28/2017 02:00:00 PM       026XX W 79TH ST  0620             BURGLARY   \n",
       "3  09/09/2017 08:17:00 PM  060XX S EBERHART AVE  0810                THEFT   \n",
       "4  08/26/2017 10:00:00 AM   001XX W RANDOLPH ST  0281  CRIM SEXUAL ASSAULT   \n",
       "\n",
       "   Ward  Year  Latitude  Longitude  \n",
       "0   8.0  2001       NaN        NaN  \n",
       "1  21.0  2017       NaN        NaN  \n",
       "2  18.0  2017       NaN        NaN  \n",
       "3  20.0  2017       NaN        NaN  \n",
       "4  42.0  2017       NaN        NaN  "
      ],
      "text/html": "<div>\n<style scoped>\n    .dataframe tbody tr th:only-of-type {\n        vertical-align: middle;\n    }\n\n    .dataframe tbody tr th {\n        vertical-align: top;\n    }\n\n    .dataframe thead th {\n        text-align: right;\n    }\n</style>\n<table border=\"1\" class=\"dataframe\">\n  <thead>\n    <tr style=\"text-align: right;\">\n      <th></th>\n      <th>Date</th>\n      <th>Block</th>\n      <th>IUCR</th>\n      <th>Primary Type</th>\n      <th>Ward</th>\n      <th>Year</th>\n      <th>Latitude</th>\n      <th>Longitude</th>\n    </tr>\n  </thead>\n  <tbody>\n    <tr>\n      <th>0</th>\n      <td>01/01/2001 11:00:00 AM</td>\n      <td>016XX E 86TH PL</td>\n      <td>1153</td>\n      <td>DECEPTIVE PRACTICE</td>\n      <td>8.0</td>\n      <td>2001</td>\n      <td>NaN</td>\n      <td>NaN</td>\n    </tr>\n    <tr>\n      <th>1</th>\n      <td>10/08/2017 03:00:00 AM</td>\n      <td>092XX S RACINE AVE</td>\n      <td>0281</td>\n      <td>CRIM SEXUAL ASSAULT</td>\n      <td>21.0</td>\n      <td>2017</td>\n      <td>NaN</td>\n      <td>NaN</td>\n    </tr>\n    <tr>\n      <th>2</th>\n      <td>03/28/2017 02:00:00 PM</td>\n      <td>026XX W 79TH ST</td>\n      <td>0620</td>\n      <td>BURGLARY</td>\n      <td>18.0</td>\n      <td>2017</td>\n      <td>NaN</td>\n      <td>NaN</td>\n    </tr>\n    <tr>\n      <th>3</th>\n      <td>09/09/2017 08:17:00 PM</td>\n      <td>060XX S EBERHART AVE</td>\n      <td>0810</td>\n      <td>THEFT</td>\n      <td>20.0</td>\n      <td>2017</td>\n      <td>NaN</td>\n      <td>NaN</td>\n    </tr>\n    <tr>\n      <th>4</th>\n      <td>08/26/2017 10:00:00 AM</td>\n      <td>001XX W RANDOLPH ST</td>\n      <td>0281</td>\n      <td>CRIM SEXUAL ASSAULT</td>\n      <td>42.0</td>\n      <td>2017</td>\n      <td>NaN</td>\n      <td>NaN</td>\n    </tr>\n  </tbody>\n</table>\n</div>"
     },
     "metadata": {},
     "execution_count": 56
    }
   ],
   "source": [
    "crime_df = crime_df[[\"Date\", \"Block\", \"IUCR\", \"Primary Type\", \"Ward\", \"Year\", \"Latitude\", \"Longitude\"]]\n",
    "crime_df.head()"
   ]
  },
  {
   "cell_type": "code",
   "execution_count": 57,
   "metadata": {},
   "outputs": [
    {
     "output_type": "execute_result",
     "data": {
      "text/plain": [
       "Date             object\n",
       "Block            object\n",
       "IUCR             object\n",
       "Primary Type     object\n",
       "Ward            float64\n",
       "Year              int64\n",
       "Latitude        float64\n",
       "Longitude       float64\n",
       "dtype: object"
      ]
     },
     "metadata": {},
     "execution_count": 57
    }
   ],
   "source": [
    "crime_df.dtypes"
   ]
  },
  {
   "cell_type": "code",
   "execution_count": 58,
   "metadata": {},
   "outputs": [
    {
     "output_type": "execute_result",
     "data": {
      "text/plain": [
       "<bound method NDFrame.describe of                            Date                 Block  IUCR  \\\n",
       "0        01/01/2001 11:00:00 AM       016XX E 86TH PL  1153   \n",
       "1        10/08/2017 03:00:00 AM    092XX S RACINE AVE  0281   \n",
       "2        03/28/2017 02:00:00 PM       026XX W 79TH ST  0620   \n",
       "3        09/09/2017 08:17:00 PM  060XX S EBERHART AVE  0810   \n",
       "4        08/26/2017 10:00:00 AM   001XX W RANDOLPH ST  0281   \n",
       "...                         ...                   ...   ...   \n",
       "7226618  05/26/2019 05:13:00 PM  036XX W DOUGLAS BLVD  2825   \n",
       "7226619  05/26/2019 06:48:00 AM   013XX W HASTINGS ST  0110   \n",
       "7226620  07/01/2014 07:30:00 AM   063XX S NORMAL BLVD  1153   \n",
       "7226621  11/30/2017 09:00:00 AM   022XX S KOSTNER AVE  1153   \n",
       "7226622  05/26/2019 02:11:00 AM   013XX W HASTINGS ST  0110   \n",
       "\n",
       "                Primary Type  Ward  Year   Latitude  Longitude  \n",
       "0         DECEPTIVE PRACTICE   8.0  2001        NaN        NaN  \n",
       "1        CRIM SEXUAL ASSAULT  21.0  2017        NaN        NaN  \n",
       "2                   BURGLARY  18.0  2017        NaN        NaN  \n",
       "3                      THEFT  20.0  2017        NaN        NaN  \n",
       "4        CRIM SEXUAL ASSAULT  42.0  2017        NaN        NaN  \n",
       "...                      ...   ...   ...        ...        ...  \n",
       "7226618        OTHER OFFENSE  24.0  2019  41.862830 -87.717040  \n",
       "7226619             HOMICIDE  25.0  2019  41.864278 -87.659660  \n",
       "7226620   DECEPTIVE PRACTICE  20.0  2014        NaN        NaN  \n",
       "7226621   DECEPTIVE PRACTICE  22.0  2017        NaN        NaN  \n",
       "7226622             HOMICIDE  25.0  2019  41.864278 -87.659682  \n",
       "\n",
       "[7226623 rows x 8 columns]>"
      ]
     },
     "metadata": {},
     "execution_count": 58
    }
   ],
   "source": [
    "crime_df.describe"
   ]
  },
  {
   "cell_type": "code",
   "execution_count": 59,
   "metadata": {},
   "outputs": [
    {
     "output_type": "execute_result",
     "data": {
      "text/plain": [
       "41.976290    13616\n",
       "41.754593     9857\n",
       "41.883500     7744\n",
       "41.897895     4727\n",
       "41.896889     3311\n",
       "             ...  \n",
       "41.820236        1\n",
       "41.826501        1\n",
       "41.888884        1\n",
       "41.935465        1\n",
       "41.723749        1\n",
       "Name: Latitude, Length: 872910, dtype: int64"
      ]
     },
     "metadata": {},
     "execution_count": 59
    }
   ],
   "source": [
    "crime_df[\"Latitude\"].value_counts()"
   ]
  },
  {
   "cell_type": "code",
   "execution_count": 60,
   "metadata": {},
   "outputs": [
    {
     "output_type": "execute_result",
     "data": {
      "text/plain": [
       "Date                 0\n",
       "Block                0\n",
       "IUCR                 0\n",
       "Primary Type         0\n",
       "Ward            614833\n",
       "Year                 0\n",
       "Latitude         82155\n",
       "Longitude        82155\n",
       "dtype: int64"
      ]
     },
     "metadata": {},
     "execution_count": 60
    }
   ],
   "source": [
    "crime_df.isna().sum()"
   ]
  },
  {
   "cell_type": "code",
   "execution_count": 61,
   "metadata": {},
   "outputs": [
    {
     "output_type": "execute_result",
     "data": {
      "text/plain": [
       "Date                 0\n",
       "Block                0\n",
       "IUCR                 0\n",
       "Primary Type         0\n",
       "Ward            605577\n",
       "Year                 0\n",
       "Latitude             0\n",
       "Longitude            0\n",
       "dtype: int64"
      ]
     },
     "metadata": {},
     "execution_count": 61
    }
   ],
   "source": [
    "crime_df.dropna(subset = [\"Latitude\"], inplace=True)\n",
    "crime_df.isna().sum()"
   ]
  },
  {
   "cell_type": "code",
   "execution_count": 62,
   "metadata": {},
   "outputs": [
    {
     "output_type": "execute_result",
     "data": {
      "text/plain": [
       "<bound method NDFrame.describe of                            Date                 Block  IUCR  \\\n",
       "60280    01/03/2019 07:20:00 PM       0000X W RWY 27R  2890   \n",
       "62198    03/16/2019 05:58:00 PM      001XX N WELLS ST  0460   \n",
       "62538    03/12/2019 10:00:00 PM       008XX E 38TH PL  0820   \n",
       "62570    03/14/2019 06:42:00 PM    074XX N PAULINA ST  0460   \n",
       "62571    03/14/2019 04:03:00 PM       008XX E 38TH PL  5002   \n",
       "...                         ...                   ...   ...   \n",
       "7226615  03/18/2015 04:00:00 AM   036XX W BELMONT AVE  0460   \n",
       "7226616  03/18/2015 05:08:00 PM   043XX N CENTRAL AVE  0560   \n",
       "7226618  05/26/2019 05:13:00 PM  036XX W DOUGLAS BLVD  2825   \n",
       "7226619  05/26/2019 06:48:00 AM   013XX W HASTINGS ST  0110   \n",
       "7226622  05/26/2019 02:11:00 AM   013XX W HASTINGS ST  0110   \n",
       "\n",
       "                   Primary Type  Ward  Year   Latitude  Longitude  \n",
       "60280    PUBLIC PEACE VIOLATION  41.0  2019  42.002816 -87.906094  \n",
       "62198                   BATTERY  42.0  2019  41.883369 -87.633860  \n",
       "62538                     THEFT   4.0  2019  41.825347 -87.606781  \n",
       "62570                   BATTERY  49.0  2019  42.016542 -87.672499  \n",
       "62571             OTHER OFFENSE   4.0  2019  41.825299 -87.606961  \n",
       "...                         ...   ...   ...        ...        ...  \n",
       "7226615                 BATTERY  35.0  2015  41.939208 -87.718022  \n",
       "7226616                 ASSAULT  38.0  2015  41.959944 -87.767226  \n",
       "7226618           OTHER OFFENSE  24.0  2019  41.862830 -87.717040  \n",
       "7226619                HOMICIDE  25.0  2019  41.864278 -87.659660  \n",
       "7226622                HOMICIDE  25.0  2019  41.864278 -87.659682  \n",
       "\n",
       "[7144468 rows x 8 columns]>"
      ]
     },
     "metadata": {},
     "execution_count": 62
    }
   ],
   "source": [
    "crime_df.describe"
   ]
  },
  {
   "cell_type": "code",
   "execution_count": 63,
   "metadata": {},
   "outputs": [
    {
     "output_type": "execute_result",
     "data": {
      "text/plain": [
       "<bound method IndexOpsMixin.value_counts of 60280      42.002816\n",
       "62198      41.883369\n",
       "62538      41.825347\n",
       "62570      42.016542\n",
       "62571      41.825299\n",
       "             ...    \n",
       "7226615    41.939208\n",
       "7226616    41.959944\n",
       "7226618    41.862830\n",
       "7226619    41.864278\n",
       "7226622    41.864278\n",
       "Name: Latitude, Length: 7144468, dtype: float64>"
      ]
     },
     "metadata": {},
     "execution_count": 63
    }
   ],
   "source": [
    "crime_df[\"Latitude\"].value_counts"
   ]
  },
  {
   "cell_type": "code",
   "execution_count": 68,
   "metadata": {},
   "outputs": [
    {
     "output_type": "execute_result",
     "data": {
      "text/plain": [
       "                         Date               Block  IUCR  \\\n",
       "60280  01/03/2019 07:20:00 PM     0000X W RWY 27R  2890   \n",
       "62198  03/16/2019 05:58:00 PM    001XX N WELLS ST  0460   \n",
       "62538  03/12/2019 10:00:00 PM     008XX E 38TH PL  0820   \n",
       "62570  03/14/2019 06:42:00 PM  074XX N PAULINA ST  0460   \n",
       "62571  03/14/2019 04:03:00 PM     008XX E 38TH PL  5002   \n",
       "\n",
       "                 Primary Type  Ward  Year  Latitude  Longitude  \n",
       "60280  PUBLIC PEACE VIOLATION  41.0  2019     42.00     -87.91  \n",
       "62198                 BATTERY  42.0  2019     41.88     -87.63  \n",
       "62538                   THEFT   4.0  2019     41.82     -87.61  \n",
       "62570                 BATTERY  49.0  2019     42.02     -87.67  \n",
       "62571           OTHER OFFENSE   4.0  2019     41.82     -87.61  "
      ],
      "text/html": "<div>\n<style scoped>\n    .dataframe tbody tr th:only-of-type {\n        vertical-align: middle;\n    }\n\n    .dataframe tbody tr th {\n        vertical-align: top;\n    }\n\n    .dataframe thead th {\n        text-align: right;\n    }\n</style>\n<table border=\"1\" class=\"dataframe\">\n  <thead>\n    <tr style=\"text-align: right;\">\n      <th></th>\n      <th>Date</th>\n      <th>Block</th>\n      <th>IUCR</th>\n      <th>Primary Type</th>\n      <th>Ward</th>\n      <th>Year</th>\n      <th>Latitude</th>\n      <th>Longitude</th>\n    </tr>\n  </thead>\n  <tbody>\n    <tr>\n      <th>60280</th>\n      <td>01/03/2019 07:20:00 PM</td>\n      <td>0000X W RWY 27R</td>\n      <td>2890</td>\n      <td>PUBLIC PEACE VIOLATION</td>\n      <td>41.0</td>\n      <td>2019</td>\n      <td>42.00</td>\n      <td>-87.91</td>\n    </tr>\n    <tr>\n      <th>62198</th>\n      <td>03/16/2019 05:58:00 PM</td>\n      <td>001XX N WELLS ST</td>\n      <td>0460</td>\n      <td>BATTERY</td>\n      <td>42.0</td>\n      <td>2019</td>\n      <td>41.88</td>\n      <td>-87.63</td>\n    </tr>\n    <tr>\n      <th>62538</th>\n      <td>03/12/2019 10:00:00 PM</td>\n      <td>008XX E 38TH PL</td>\n      <td>0820</td>\n      <td>THEFT</td>\n      <td>4.0</td>\n      <td>2019</td>\n      <td>41.82</td>\n      <td>-87.61</td>\n    </tr>\n    <tr>\n      <th>62570</th>\n      <td>03/14/2019 06:42:00 PM</td>\n      <td>074XX N PAULINA ST</td>\n      <td>0460</td>\n      <td>BATTERY</td>\n      <td>49.0</td>\n      <td>2019</td>\n      <td>42.02</td>\n      <td>-87.67</td>\n    </tr>\n    <tr>\n      <th>62571</th>\n      <td>03/14/2019 04:03:00 PM</td>\n      <td>008XX E 38TH PL</td>\n      <td>5002</td>\n      <td>OTHER OFFENSE</td>\n      <td>4.0</td>\n      <td>2019</td>\n      <td>41.82</td>\n      <td>-87.61</td>\n    </tr>\n  </tbody>\n</table>\n</div>"
     },
     "metadata": {},
     "execution_count": 68
    }
   ],
   "source": [
    "crime_df[\"Latitude\"] = crime_df[\"Latitude\"].round(2)\n",
    "crime_df[\"Longitude\"] = crime_df[\"Longitude\"].round(2)\n",
    "crime_df.head()\n"
   ]
  },
  {
   "cell_type": "code",
   "execution_count": 69,
   "metadata": {},
   "outputs": [],
   "source": [
    "latLng_df = crime_df[[\"Latitude\", \"Longitude\"]]"
   ]
  },
  {
   "cell_type": "code",
   "execution_count": 70,
   "metadata": {},
   "outputs": [
    {
     "output_type": "execute_result",
     "data": {
      "text/plain": [
       "         Latitude  Longitude\n",
       "60280       42.00     -87.91\n",
       "62198       41.88     -87.63\n",
       "62538       41.82     -87.61\n",
       "62570       42.02     -87.67\n",
       "62644       41.98     -87.80\n",
       "...           ...        ...\n",
       "3149371     41.68     -87.55\n",
       "4565685     41.96     -87.81\n",
       "5913714     41.97     -87.92\n",
       "6671099     41.94     -87.85\n",
       "6870904     41.98     -87.93\n",
       "\n",
       "[741 rows x 2 columns]"
      ],
      "text/html": "<div>\n<style scoped>\n    .dataframe tbody tr th:only-of-type {\n        vertical-align: middle;\n    }\n\n    .dataframe tbody tr th {\n        vertical-align: top;\n    }\n\n    .dataframe thead th {\n        text-align: right;\n    }\n</style>\n<table border=\"1\" class=\"dataframe\">\n  <thead>\n    <tr style=\"text-align: right;\">\n      <th></th>\n      <th>Latitude</th>\n      <th>Longitude</th>\n    </tr>\n  </thead>\n  <tbody>\n    <tr>\n      <th>60280</th>\n      <td>42.00</td>\n      <td>-87.91</td>\n    </tr>\n    <tr>\n      <th>62198</th>\n      <td>41.88</td>\n      <td>-87.63</td>\n    </tr>\n    <tr>\n      <th>62538</th>\n      <td>41.82</td>\n      <td>-87.61</td>\n    </tr>\n    <tr>\n      <th>62570</th>\n      <td>42.02</td>\n      <td>-87.67</td>\n    </tr>\n    <tr>\n      <th>62644</th>\n      <td>41.98</td>\n      <td>-87.80</td>\n    </tr>\n    <tr>\n      <th>...</th>\n      <td>...</td>\n      <td>...</td>\n    </tr>\n    <tr>\n      <th>3149371</th>\n      <td>41.68</td>\n      <td>-87.55</td>\n    </tr>\n    <tr>\n      <th>4565685</th>\n      <td>41.96</td>\n      <td>-87.81</td>\n    </tr>\n    <tr>\n      <th>5913714</th>\n      <td>41.97</td>\n      <td>-87.92</td>\n    </tr>\n    <tr>\n      <th>6671099</th>\n      <td>41.94</td>\n      <td>-87.85</td>\n    </tr>\n    <tr>\n      <th>6870904</th>\n      <td>41.98</td>\n      <td>-87.93</td>\n    </tr>\n  </tbody>\n</table>\n<p>741 rows × 2 columns</p>\n</div>"
     },
     "metadata": {},
     "execution_count": 70
    }
   ],
   "source": [
    "latLng_df = latLng_df.drop_duplicates()\n",
    "latLng_df"
   ]
  },
  {
   "cell_type": "code",
   "execution_count": 72,
   "metadata": {},
   "outputs": [],
   "source": [
    "import geopy\n",
    "import pandas as pd\n",
    "\n",
    "\n",
    "def get_zipcode(df, geolocator, lat_field, lon_field):\n",
    "    location = geolocator.reverse((df[lat_field], df[lon_field]))\n",
    "    return location.raw['address']#['postcode']\n",
    "\n",
    "\n",
    "geolocator = geopy.Nominatim(user_agent=\"rewelling09@gmail.com\")\n",
    "\n",
    "zip_df = pd.DataFrame({\n",
    "    'Lat': latLng_df[\"Latitude\"],\n",
    "    'Lon': latLng_df[\"Longitude\"]\n",
    "})\n",
    "zipcodes = zip_df.apply(get_zipcode, axis=1, geolocator=geolocator, lat_field='Lat', lon_field='Lon')"
   ]
  },
  {
   "cell_type": "code",
   "execution_count": 85,
   "metadata": {},
   "outputs": [
    {
     "output_type": "execute_result",
     "data": {
      "text/plain": [
       "60280      {'aeroway': 'Aircraft Fire Traning Site', 'roa...\n",
       "62198      {'building': 'Marquette Building', 'house_numb...\n",
       "62538      {'house_number': '649-651', 'road': 'East 41st...\n",
       "62570      {'house_number': '7616', 'road': 'North Boswor...\n",
       "62644      {'house_number': '5442', 'road': 'North Newlan...\n",
       "                                 ...                        \n",
       "3149371    {'building': 'South Shore Recycling Plant', 'h...\n",
       "4565685    {'man_made': 'Norridge Water Tower', 'road': '...\n",
       "5913714    {'building': 'Faa Glide Slope Site (9R)', 'roa...\n",
       "6671099    {'leisure': '#7', 'road': 'Des Plaines River T...\n",
       "6870904    {'aeroway': 'O’Hare 21 Deicing Facility & Cros...\n",
       "Length: 741, dtype: object"
      ]
     },
     "metadata": {},
     "execution_count": 85
    }
   ],
   "source": [
    "zipcodes"
   ]
  },
  {
   "cell_type": "code",
   "execution_count": 87,
   "metadata": {},
   "outputs": [],
   "source": [
    "latLng_df[\"detail\"] = ''"
   ]
  },
  {
   "cell_type": "code",
   "execution_count": 88,
   "metadata": {},
   "outputs": [],
   "source": [
    "latLng_df[\"detail\"] = zipcodes"
   ]
  },
  {
   "cell_type": "code",
   "execution_count": 89,
   "metadata": {},
   "outputs": [
    {
     "output_type": "execute_result",
     "data": {
      "text/plain": [
       "         Latitude  Longitude  \\\n",
       "60280       42.00     -87.91   \n",
       "62198       41.88     -87.63   \n",
       "62538       41.82     -87.61   \n",
       "62570       42.02     -87.67   \n",
       "62644       41.98     -87.80   \n",
       "...           ...        ...   \n",
       "3149371     41.68     -87.55   \n",
       "4565685     41.96     -87.81   \n",
       "5913714     41.97     -87.92   \n",
       "6671099     41.94     -87.85   \n",
       "6870904     41.98     -87.93   \n",
       "\n",
       "                                                    detail  \n",
       "60280    {'aeroway': 'Aircraft Fire Traning Site', 'roa...  \n",
       "62198    {'building': 'Marquette Building', 'house_numb...  \n",
       "62538    {'house_number': '649-651', 'road': 'East 41st...  \n",
       "62570    {'house_number': '7616', 'road': 'North Boswor...  \n",
       "62644    {'house_number': '5442', 'road': 'North Newlan...  \n",
       "...                                                    ...  \n",
       "3149371  {'building': 'South Shore Recycling Plant', 'h...  \n",
       "4565685  {'man_made': 'Norridge Water Tower', 'road': '...  \n",
       "5913714  {'building': 'Faa Glide Slope Site (9R)', 'roa...  \n",
       "6671099  {'leisure': '#7', 'road': 'Des Plaines River T...  \n",
       "6870904  {'aeroway': 'O’Hare 21 Deicing Facility & Cros...  \n",
       "\n",
       "[741 rows x 3 columns]"
      ],
      "text/html": "<div>\n<style scoped>\n    .dataframe tbody tr th:only-of-type {\n        vertical-align: middle;\n    }\n\n    .dataframe tbody tr th {\n        vertical-align: top;\n    }\n\n    .dataframe thead th {\n        text-align: right;\n    }\n</style>\n<table border=\"1\" class=\"dataframe\">\n  <thead>\n    <tr style=\"text-align: right;\">\n      <th></th>\n      <th>Latitude</th>\n      <th>Longitude</th>\n      <th>detail</th>\n    </tr>\n  </thead>\n  <tbody>\n    <tr>\n      <th>60280</th>\n      <td>42.00</td>\n      <td>-87.91</td>\n      <td>{'aeroway': 'Aircraft Fire Traning Site', 'roa...</td>\n    </tr>\n    <tr>\n      <th>62198</th>\n      <td>41.88</td>\n      <td>-87.63</td>\n      <td>{'building': 'Marquette Building', 'house_numb...</td>\n    </tr>\n    <tr>\n      <th>62538</th>\n      <td>41.82</td>\n      <td>-87.61</td>\n      <td>{'house_number': '649-651', 'road': 'East 41st...</td>\n    </tr>\n    <tr>\n      <th>62570</th>\n      <td>42.02</td>\n      <td>-87.67</td>\n      <td>{'house_number': '7616', 'road': 'North Boswor...</td>\n    </tr>\n    <tr>\n      <th>62644</th>\n      <td>41.98</td>\n      <td>-87.80</td>\n      <td>{'house_number': '5442', 'road': 'North Newlan...</td>\n    </tr>\n    <tr>\n      <th>...</th>\n      <td>...</td>\n      <td>...</td>\n      <td>...</td>\n    </tr>\n    <tr>\n      <th>3149371</th>\n      <td>41.68</td>\n      <td>-87.55</td>\n      <td>{'building': 'South Shore Recycling Plant', 'h...</td>\n    </tr>\n    <tr>\n      <th>4565685</th>\n      <td>41.96</td>\n      <td>-87.81</td>\n      <td>{'man_made': 'Norridge Water Tower', 'road': '...</td>\n    </tr>\n    <tr>\n      <th>5913714</th>\n      <td>41.97</td>\n      <td>-87.92</td>\n      <td>{'building': 'Faa Glide Slope Site (9R)', 'roa...</td>\n    </tr>\n    <tr>\n      <th>6671099</th>\n      <td>41.94</td>\n      <td>-87.85</td>\n      <td>{'leisure': '#7', 'road': 'Des Plaines River T...</td>\n    </tr>\n    <tr>\n      <th>6870904</th>\n      <td>41.98</td>\n      <td>-87.93</td>\n      <td>{'aeroway': 'O’Hare 21 Deicing Facility &amp; Cros...</td>\n    </tr>\n  </tbody>\n</table>\n<p>741 rows × 3 columns</p>\n</div>"
     },
     "metadata": {},
     "execution_count": 89
    }
   ],
   "source": [
    "latLng_df"
   ]
  },
  {
   "cell_type": "code",
   "execution_count": 90,
   "metadata": {},
   "outputs": [],
   "source": [
    "latLng_df.to_csv('latLng_df.csv', index=False)"
   ]
  },
  {
   "cell_type": "code",
   "execution_count": 92,
   "metadata": {},
   "outputs": [
    {
     "output_type": "execute_result",
     "data": {
      "text/plain": [
       "   Latitude  Longitude                                             detail  \\\n",
       "0     41.70     -87.53  {'house_number': '10729', 'road': 'South Avenu...   \n",
       "1     41.69     -87.53  {'road': 'Burnham Greenway Black Paved Trail',...   \n",
       "2     41.68     -87.53  {'road': 'Burnham Greenway Black Paved Trail',...   \n",
       "3     41.71     -87.53  {'road': 'Chicago Skyway', 'neighbourhood': 'E...   \n",
       "4     42.00     -87.94  {'house_number': '1869', 'road': 'South Elmhur...   \n",
       "\n",
       "       Zip  Unnamed: 4  Unnamed: 5  Unnamed: 6  Unnamed: 7  Unnamed: 8  \\\n",
       "0  46394.0         NaN         NaN         NaN         NaN         NaN   \n",
       "1  46394.0         NaN         NaN         NaN         NaN         NaN   \n",
       "2  46394.0         NaN         NaN         NaN         NaN         NaN   \n",
       "3  46394.0         NaN         NaN         NaN         NaN         NaN   \n",
       "4  60007.0         NaN         NaN         NaN         NaN         NaN   \n",
       "\n",
       "   Unnamed: 9  \n",
       "0         NaN  \n",
       "1         NaN  \n",
       "2         NaN  \n",
       "3         NaN  \n",
       "4         NaN  "
      ],
      "text/html": "<div>\n<style scoped>\n    .dataframe tbody tr th:only-of-type {\n        vertical-align: middle;\n    }\n\n    .dataframe tbody tr th {\n        vertical-align: top;\n    }\n\n    .dataframe thead th {\n        text-align: right;\n    }\n</style>\n<table border=\"1\" class=\"dataframe\">\n  <thead>\n    <tr style=\"text-align: right;\">\n      <th></th>\n      <th>Latitude</th>\n      <th>Longitude</th>\n      <th>detail</th>\n      <th>Zip</th>\n      <th>Unnamed: 4</th>\n      <th>Unnamed: 5</th>\n      <th>Unnamed: 6</th>\n      <th>Unnamed: 7</th>\n      <th>Unnamed: 8</th>\n      <th>Unnamed: 9</th>\n    </tr>\n  </thead>\n  <tbody>\n    <tr>\n      <th>0</th>\n      <td>41.70</td>\n      <td>-87.53</td>\n      <td>{'house_number': '10729', 'road': 'South Avenu...</td>\n      <td>46394.0</td>\n      <td>NaN</td>\n      <td>NaN</td>\n      <td>NaN</td>\n      <td>NaN</td>\n      <td>NaN</td>\n      <td>NaN</td>\n    </tr>\n    <tr>\n      <th>1</th>\n      <td>41.69</td>\n      <td>-87.53</td>\n      <td>{'road': 'Burnham Greenway Black Paved Trail',...</td>\n      <td>46394.0</td>\n      <td>NaN</td>\n      <td>NaN</td>\n      <td>NaN</td>\n      <td>NaN</td>\n      <td>NaN</td>\n      <td>NaN</td>\n    </tr>\n    <tr>\n      <th>2</th>\n      <td>41.68</td>\n      <td>-87.53</td>\n      <td>{'road': 'Burnham Greenway Black Paved Trail',...</td>\n      <td>46394.0</td>\n      <td>NaN</td>\n      <td>NaN</td>\n      <td>NaN</td>\n      <td>NaN</td>\n      <td>NaN</td>\n      <td>NaN</td>\n    </tr>\n    <tr>\n      <th>3</th>\n      <td>41.71</td>\n      <td>-87.53</td>\n      <td>{'road': 'Chicago Skyway', 'neighbourhood': 'E...</td>\n      <td>46394.0</td>\n      <td>NaN</td>\n      <td>NaN</td>\n      <td>NaN</td>\n      <td>NaN</td>\n      <td>NaN</td>\n      <td>NaN</td>\n    </tr>\n    <tr>\n      <th>4</th>\n      <td>42.00</td>\n      <td>-87.94</td>\n      <td>{'house_number': '1869', 'road': 'South Elmhur...</td>\n      <td>60007.0</td>\n      <td>NaN</td>\n      <td>NaN</td>\n      <td>NaN</td>\n      <td>NaN</td>\n      <td>NaN</td>\n      <td>NaN</td>\n    </tr>\n  </tbody>\n</table>\n</div>"
     },
     "metadata": {},
     "execution_count": 92
    }
   ],
   "source": [
    "latLngCSV = \"Data/latLng_df.csv\"\n",
    "zip_df = pd.read_csv(latLngCSV,encoding='latin-1')\n",
    "zip_df.head()"
   ]
  },
  {
   "cell_type": "code",
   "execution_count": 93,
   "metadata": {},
   "outputs": [],
   "source": [
    "crime_df[\"zipcode\"] = \"\""
   ]
  },
  {
   "cell_type": "code",
   "execution_count": 95,
   "metadata": {},
   "outputs": [
    {
     "output_type": "execute_result",
     "data": {
      "text/plain": [
       "                           Date                 Block  IUCR  \\\n",
       "0        01/03/2019 07:20:00 PM       0000X W RWY 27R  2890   \n",
       "1        03/16/2019 05:58:00 PM      001XX N WELLS ST  0460   \n",
       "2        03/12/2019 10:00:00 PM       008XX E 38TH PL  0820   \n",
       "3        03/14/2019 06:42:00 PM    074XX N PAULINA ST  0460   \n",
       "4        03/14/2019 04:03:00 PM       008XX E 38TH PL  5002   \n",
       "...                         ...                   ...   ...   \n",
       "7144463  03/18/2015 04:00:00 AM   036XX W BELMONT AVE  0460   \n",
       "7144464  03/18/2015 05:08:00 PM   043XX N CENTRAL AVE  0560   \n",
       "7144465  05/26/2019 05:13:00 PM  036XX W DOUGLAS BLVD  2825   \n",
       "7144466  05/26/2019 06:48:00 AM   013XX W HASTINGS ST  0110   \n",
       "7144467  05/26/2019 02:11:00 AM   013XX W HASTINGS ST  0110   \n",
       "\n",
       "                   Primary Type  Ward  Year  Latitude  Longitude zipcode  \\\n",
       "0        PUBLIC PEACE VIOLATION  41.0  2019     42.00     -87.91           \n",
       "1                       BATTERY  42.0  2019     41.88     -87.63           \n",
       "2                         THEFT   4.0  2019     41.82     -87.61           \n",
       "3                       BATTERY  49.0  2019     42.02     -87.67           \n",
       "4                 OTHER OFFENSE   4.0  2019     41.82     -87.61           \n",
       "...                         ...   ...   ...       ...        ...     ...   \n",
       "7144463                 BATTERY  35.0  2015     41.94     -87.72           \n",
       "7144464                 ASSAULT  38.0  2015     41.96     -87.77           \n",
       "7144465           OTHER OFFENSE  24.0  2019     41.86     -87.72           \n",
       "7144466                HOMICIDE  25.0  2019     41.86     -87.66           \n",
       "7144467                HOMICIDE  25.0  2019     41.86     -87.66           \n",
       "\n",
       "                                                  detail_x  ...  Unnamed: 8_x  \\\n",
       "0        {'aeroway': 'Aircraft Fire Traning Site', 'roa...  ...           NaN   \n",
       "1        {'building': 'Marquette Building', 'house_numb...  ...           NaN   \n",
       "2        {'house_number': '649-651', 'road': 'East 41st...  ...           NaN   \n",
       "3        {'house_number': '7616', 'road': 'North Boswor...  ...           NaN   \n",
       "4        {'house_number': '649-651', 'road': 'East 41st...  ...           NaN   \n",
       "...                                                    ...  ...           ...   \n",
       "7144463  {'house_number': '3224', 'road': 'North Lawnda...  ...           NaN   \n",
       "7144464  {'amenity': 'Community of Christ', 'house_numb...  ...           NaN   \n",
       "7144465  {'house_number': '1525', 'road': 'South Hamlin...  ...           NaN   \n",
       "7144466  {'house_number': '1343', 'road': 'West 16th St...  ...           NaN   \n",
       "7144467  {'house_number': '1343', 'road': 'West 16th St...  ...           NaN   \n",
       "\n",
       "         Unnamed: 9_x                                           detail_y  \\\n",
       "0                 NaN  {'aeroway': 'Aircraft Fire Traning Site', 'roa...   \n",
       "1                 NaN  {'building': 'Marquette Building', 'house_numb...   \n",
       "2                 NaN  {'house_number': '649-651', 'road': 'East 41st...   \n",
       "3                 NaN  {'house_number': '7616', 'road': 'North Boswor...   \n",
       "4                 NaN  {'house_number': '649-651', 'road': 'East 41st...   \n",
       "...               ...                                                ...   \n",
       "7144463           NaN  {'house_number': '3224', 'road': 'North Lawnda...   \n",
       "7144464           NaN  {'amenity': 'Community of Christ', 'house_numb...   \n",
       "7144465           NaN  {'house_number': '1525', 'road': 'South Hamlin...   \n",
       "7144466           NaN  {'house_number': '1343', 'road': 'West 16th St...   \n",
       "7144467           NaN  {'house_number': '1343', 'road': 'West 16th St...   \n",
       "\n",
       "           Zip_y  Unnamed: 4_y  Unnamed: 5_y  Unnamed: 6_y Unnamed: 7_y  \\\n",
       "0        60018.0           NaN           NaN           NaN          NaN   \n",
       "1        60602.0           NaN           NaN           NaN          NaN   \n",
       "2        60653.0           NaN           NaN           NaN          NaN   \n",
       "3        60626.0           NaN           NaN           NaN          NaN   \n",
       "4        60653.0           NaN           NaN           NaN          NaN   \n",
       "...          ...           ...           ...           ...          ...   \n",
       "7144463  60618.0           NaN           NaN           NaN          NaN   \n",
       "7144464  60630.0           NaN           NaN           NaN          NaN   \n",
       "7144465  60623.0           NaN           NaN           NaN          NaN   \n",
       "7144466  60608.0           NaN           NaN           NaN          NaN   \n",
       "7144467  60608.0           NaN           NaN           NaN          NaN   \n",
       "\n",
       "         Unnamed: 8_y  Unnamed: 9_y  \n",
       "0                 NaN           NaN  \n",
       "1                 NaN           NaN  \n",
       "2                 NaN           NaN  \n",
       "3                 NaN           NaN  \n",
       "4                 NaN           NaN  \n",
       "...               ...           ...  \n",
       "7144463           NaN           NaN  \n",
       "7144464           NaN           NaN  \n",
       "7144465           NaN           NaN  \n",
       "7144466           NaN           NaN  \n",
       "7144467           NaN           NaN  \n",
       "\n",
       "[7144468 rows x 25 columns]"
      ],
      "text/html": "<div>\n<style scoped>\n    .dataframe tbody tr th:only-of-type {\n        vertical-align: middle;\n    }\n\n    .dataframe tbody tr th {\n        vertical-align: top;\n    }\n\n    .dataframe thead th {\n        text-align: right;\n    }\n</style>\n<table border=\"1\" class=\"dataframe\">\n  <thead>\n    <tr style=\"text-align: right;\">\n      <th></th>\n      <th>Date</th>\n      <th>Block</th>\n      <th>IUCR</th>\n      <th>Primary Type</th>\n      <th>Ward</th>\n      <th>Year</th>\n      <th>Latitude</th>\n      <th>Longitude</th>\n      <th>zipcode</th>\n      <th>detail_x</th>\n      <th>...</th>\n      <th>Unnamed: 8_x</th>\n      <th>Unnamed: 9_x</th>\n      <th>detail_y</th>\n      <th>Zip_y</th>\n      <th>Unnamed: 4_y</th>\n      <th>Unnamed: 5_y</th>\n      <th>Unnamed: 6_y</th>\n      <th>Unnamed: 7_y</th>\n      <th>Unnamed: 8_y</th>\n      <th>Unnamed: 9_y</th>\n    </tr>\n  </thead>\n  <tbody>\n    <tr>\n      <th>0</th>\n      <td>01/03/2019 07:20:00 PM</td>\n      <td>0000X W RWY 27R</td>\n      <td>2890</td>\n      <td>PUBLIC PEACE VIOLATION</td>\n      <td>41.0</td>\n      <td>2019</td>\n      <td>42.00</td>\n      <td>-87.91</td>\n      <td></td>\n      <td>{'aeroway': 'Aircraft Fire Traning Site', 'roa...</td>\n      <td>...</td>\n      <td>NaN</td>\n      <td>NaN</td>\n      <td>{'aeroway': 'Aircraft Fire Traning Site', 'roa...</td>\n      <td>60018.0</td>\n      <td>NaN</td>\n      <td>NaN</td>\n      <td>NaN</td>\n      <td>NaN</td>\n      <td>NaN</td>\n      <td>NaN</td>\n    </tr>\n    <tr>\n      <th>1</th>\n      <td>03/16/2019 05:58:00 PM</td>\n      <td>001XX N WELLS ST</td>\n      <td>0460</td>\n      <td>BATTERY</td>\n      <td>42.0</td>\n      <td>2019</td>\n      <td>41.88</td>\n      <td>-87.63</td>\n      <td></td>\n      <td>{'building': 'Marquette Building', 'house_numb...</td>\n      <td>...</td>\n      <td>NaN</td>\n      <td>NaN</td>\n      <td>{'building': 'Marquette Building', 'house_numb...</td>\n      <td>60602.0</td>\n      <td>NaN</td>\n      <td>NaN</td>\n      <td>NaN</td>\n      <td>NaN</td>\n      <td>NaN</td>\n      <td>NaN</td>\n    </tr>\n    <tr>\n      <th>2</th>\n      <td>03/12/2019 10:00:00 PM</td>\n      <td>008XX E 38TH PL</td>\n      <td>0820</td>\n      <td>THEFT</td>\n      <td>4.0</td>\n      <td>2019</td>\n      <td>41.82</td>\n      <td>-87.61</td>\n      <td></td>\n      <td>{'house_number': '649-651', 'road': 'East 41st...</td>\n      <td>...</td>\n      <td>NaN</td>\n      <td>NaN</td>\n      <td>{'house_number': '649-651', 'road': 'East 41st...</td>\n      <td>60653.0</td>\n      <td>NaN</td>\n      <td>NaN</td>\n      <td>NaN</td>\n      <td>NaN</td>\n      <td>NaN</td>\n      <td>NaN</td>\n    </tr>\n    <tr>\n      <th>3</th>\n      <td>03/14/2019 06:42:00 PM</td>\n      <td>074XX N PAULINA ST</td>\n      <td>0460</td>\n      <td>BATTERY</td>\n      <td>49.0</td>\n      <td>2019</td>\n      <td>42.02</td>\n      <td>-87.67</td>\n      <td></td>\n      <td>{'house_number': '7616', 'road': 'North Boswor...</td>\n      <td>...</td>\n      <td>NaN</td>\n      <td>NaN</td>\n      <td>{'house_number': '7616', 'road': 'North Boswor...</td>\n      <td>60626.0</td>\n      <td>NaN</td>\n      <td>NaN</td>\n      <td>NaN</td>\n      <td>NaN</td>\n      <td>NaN</td>\n      <td>NaN</td>\n    </tr>\n    <tr>\n      <th>4</th>\n      <td>03/14/2019 04:03:00 PM</td>\n      <td>008XX E 38TH PL</td>\n      <td>5002</td>\n      <td>OTHER OFFENSE</td>\n      <td>4.0</td>\n      <td>2019</td>\n      <td>41.82</td>\n      <td>-87.61</td>\n      <td></td>\n      <td>{'house_number': '649-651', 'road': 'East 41st...</td>\n      <td>...</td>\n      <td>NaN</td>\n      <td>NaN</td>\n      <td>{'house_number': '649-651', 'road': 'East 41st...</td>\n      <td>60653.0</td>\n      <td>NaN</td>\n      <td>NaN</td>\n      <td>NaN</td>\n      <td>NaN</td>\n      <td>NaN</td>\n      <td>NaN</td>\n    </tr>\n    <tr>\n      <th>...</th>\n      <td>...</td>\n      <td>...</td>\n      <td>...</td>\n      <td>...</td>\n      <td>...</td>\n      <td>...</td>\n      <td>...</td>\n      <td>...</td>\n      <td>...</td>\n      <td>...</td>\n      <td>...</td>\n      <td>...</td>\n      <td>...</td>\n      <td>...</td>\n      <td>...</td>\n      <td>...</td>\n      <td>...</td>\n      <td>...</td>\n      <td>...</td>\n      <td>...</td>\n      <td>...</td>\n    </tr>\n    <tr>\n      <th>7144463</th>\n      <td>03/18/2015 04:00:00 AM</td>\n      <td>036XX W BELMONT AVE</td>\n      <td>0460</td>\n      <td>BATTERY</td>\n      <td>35.0</td>\n      <td>2015</td>\n      <td>41.94</td>\n      <td>-87.72</td>\n      <td></td>\n      <td>{'house_number': '3224', 'road': 'North Lawnda...</td>\n      <td>...</td>\n      <td>NaN</td>\n      <td>NaN</td>\n      <td>{'house_number': '3224', 'road': 'North Lawnda...</td>\n      <td>60618.0</td>\n      <td>NaN</td>\n      <td>NaN</td>\n      <td>NaN</td>\n      <td>NaN</td>\n      <td>NaN</td>\n      <td>NaN</td>\n    </tr>\n    <tr>\n      <th>7144464</th>\n      <td>03/18/2015 05:08:00 PM</td>\n      <td>043XX N CENTRAL AVE</td>\n      <td>0560</td>\n      <td>ASSAULT</td>\n      <td>38.0</td>\n      <td>2015</td>\n      <td>41.96</td>\n      <td>-87.77</td>\n      <td></td>\n      <td>{'amenity': 'Community of Christ', 'house_numb...</td>\n      <td>...</td>\n      <td>NaN</td>\n      <td>NaN</td>\n      <td>{'amenity': 'Community of Christ', 'house_numb...</td>\n      <td>60630.0</td>\n      <td>NaN</td>\n      <td>NaN</td>\n      <td>NaN</td>\n      <td>NaN</td>\n      <td>NaN</td>\n      <td>NaN</td>\n    </tr>\n    <tr>\n      <th>7144465</th>\n      <td>05/26/2019 05:13:00 PM</td>\n      <td>036XX W DOUGLAS BLVD</td>\n      <td>2825</td>\n      <td>OTHER OFFENSE</td>\n      <td>24.0</td>\n      <td>2019</td>\n      <td>41.86</td>\n      <td>-87.72</td>\n      <td></td>\n      <td>{'house_number': '1525', 'road': 'South Hamlin...</td>\n      <td>...</td>\n      <td>NaN</td>\n      <td>NaN</td>\n      <td>{'house_number': '1525', 'road': 'South Hamlin...</td>\n      <td>60623.0</td>\n      <td>NaN</td>\n      <td>NaN</td>\n      <td>NaN</td>\n      <td>NaN</td>\n      <td>NaN</td>\n      <td>NaN</td>\n    </tr>\n    <tr>\n      <th>7144466</th>\n      <td>05/26/2019 06:48:00 AM</td>\n      <td>013XX W HASTINGS ST</td>\n      <td>0110</td>\n      <td>HOMICIDE</td>\n      <td>25.0</td>\n      <td>2019</td>\n      <td>41.86</td>\n      <td>-87.66</td>\n      <td></td>\n      <td>{'house_number': '1343', 'road': 'West 16th St...</td>\n      <td>...</td>\n      <td>NaN</td>\n      <td>NaN</td>\n      <td>{'house_number': '1343', 'road': 'West 16th St...</td>\n      <td>60608.0</td>\n      <td>NaN</td>\n      <td>NaN</td>\n      <td>NaN</td>\n      <td>NaN</td>\n      <td>NaN</td>\n      <td>NaN</td>\n    </tr>\n    <tr>\n      <th>7144467</th>\n      <td>05/26/2019 02:11:00 AM</td>\n      <td>013XX W HASTINGS ST</td>\n      <td>0110</td>\n      <td>HOMICIDE</td>\n      <td>25.0</td>\n      <td>2019</td>\n      <td>41.86</td>\n      <td>-87.66</td>\n      <td></td>\n      <td>{'house_number': '1343', 'road': 'West 16th St...</td>\n      <td>...</td>\n      <td>NaN</td>\n      <td>NaN</td>\n      <td>{'house_number': '1343', 'road': 'West 16th St...</td>\n      <td>60608.0</td>\n      <td>NaN</td>\n      <td>NaN</td>\n      <td>NaN</td>\n      <td>NaN</td>\n      <td>NaN</td>\n      <td>NaN</td>\n    </tr>\n  </tbody>\n</table>\n<p>7144468 rows × 25 columns</p>\n</div>"
     },
     "metadata": {},
     "execution_count": 95
    }
   ],
   "source": [
    "crime_df = pd.merge(crime_df, zip_df,  how='left', left_on=['Latitude','Longitude'], right_on = ['Latitude','Longitude'])\n",
    "crime_df"
   ]
  },
  {
   "cell_type": "code",
   "execution_count": 97,
   "metadata": {},
   "outputs": [
    {
     "output_type": "execute_result",
     "data": {
      "text/plain": [
       "                     Date               Block  IUCR            Primary Type  \\\n",
       "0  01/03/2019 07:20:00 PM     0000X W RWY 27R  2890  PUBLIC PEACE VIOLATION   \n",
       "1  03/16/2019 05:58:00 PM    001XX N WELLS ST  0460                 BATTERY   \n",
       "2  03/12/2019 10:00:00 PM     008XX E 38TH PL  0820                   THEFT   \n",
       "3  03/14/2019 06:42:00 PM  074XX N PAULINA ST  0460                 BATTERY   \n",
       "4  03/14/2019 04:03:00 PM     008XX E 38TH PL  5002           OTHER OFFENSE   \n",
       "\n",
       "   Ward  Year    Zip_y  Latitude  Longitude  \n",
       "0  41.0  2019  60018.0     42.00     -87.91  \n",
       "1  42.0  2019  60602.0     41.88     -87.63  \n",
       "2   4.0  2019  60653.0     41.82     -87.61  \n",
       "3  49.0  2019  60626.0     42.02     -87.67  \n",
       "4   4.0  2019  60653.0     41.82     -87.61  "
      ],
      "text/html": "<div>\n<style scoped>\n    .dataframe tbody tr th:only-of-type {\n        vertical-align: middle;\n    }\n\n    .dataframe tbody tr th {\n        vertical-align: top;\n    }\n\n    .dataframe thead th {\n        text-align: right;\n    }\n</style>\n<table border=\"1\" class=\"dataframe\">\n  <thead>\n    <tr style=\"text-align: right;\">\n      <th></th>\n      <th>Date</th>\n      <th>Block</th>\n      <th>IUCR</th>\n      <th>Primary Type</th>\n      <th>Ward</th>\n      <th>Year</th>\n      <th>Zip_y</th>\n      <th>Latitude</th>\n      <th>Longitude</th>\n    </tr>\n  </thead>\n  <tbody>\n    <tr>\n      <th>0</th>\n      <td>01/03/2019 07:20:00 PM</td>\n      <td>0000X W RWY 27R</td>\n      <td>2890</td>\n      <td>PUBLIC PEACE VIOLATION</td>\n      <td>41.0</td>\n      <td>2019</td>\n      <td>60018.0</td>\n      <td>42.00</td>\n      <td>-87.91</td>\n    </tr>\n    <tr>\n      <th>1</th>\n      <td>03/16/2019 05:58:00 PM</td>\n      <td>001XX N WELLS ST</td>\n      <td>0460</td>\n      <td>BATTERY</td>\n      <td>42.0</td>\n      <td>2019</td>\n      <td>60602.0</td>\n      <td>41.88</td>\n      <td>-87.63</td>\n    </tr>\n    <tr>\n      <th>2</th>\n      <td>03/12/2019 10:00:00 PM</td>\n      <td>008XX E 38TH PL</td>\n      <td>0820</td>\n      <td>THEFT</td>\n      <td>4.0</td>\n      <td>2019</td>\n      <td>60653.0</td>\n      <td>41.82</td>\n      <td>-87.61</td>\n    </tr>\n    <tr>\n      <th>3</th>\n      <td>03/14/2019 06:42:00 PM</td>\n      <td>074XX N PAULINA ST</td>\n      <td>0460</td>\n      <td>BATTERY</td>\n      <td>49.0</td>\n      <td>2019</td>\n      <td>60626.0</td>\n      <td>42.02</td>\n      <td>-87.67</td>\n    </tr>\n    <tr>\n      <th>4</th>\n      <td>03/14/2019 04:03:00 PM</td>\n      <td>008XX E 38TH PL</td>\n      <td>5002</td>\n      <td>OTHER OFFENSE</td>\n      <td>4.0</td>\n      <td>2019</td>\n      <td>60653.0</td>\n      <td>41.82</td>\n      <td>-87.61</td>\n    </tr>\n  </tbody>\n</table>\n</div>"
     },
     "metadata": {},
     "execution_count": 97
    }
   ],
   "source": [
    "crime_df = crime_df[[\"Date\", \"Block\", \"IUCR\", \"Primary Type\", \"Ward\", \"Year\",\"Zip_y\", \"Latitude\", \"Longitude\"]]\n",
    "crime_df.head()"
   ]
  },
  {
   "cell_type": "code",
   "execution_count": 98,
   "metadata": {},
   "outputs": [],
   "source": [
    "crime_df['Date'] = pd.to_datetime(crime_df['Date'])\n",
    "crime_df['Date'] = crime_df['Date'].dt.strftime('%#m/%#d/%Y')"
   ]
  },
  {
   "cell_type": "code",
   "execution_count": 100,
   "metadata": {},
   "outputs": [
    {
     "output_type": "execute_result",
     "data": {
      "text/plain": [
       "              Date                 Block  IUCR            Primary Type  Ward  \\\n",
       "0         1/3/2019       0000X W RWY 27R  2890  PUBLIC PEACE VIOLATION  41.0   \n",
       "1        3/16/2019      001XX N WELLS ST  0460                 BATTERY  42.0   \n",
       "2        3/12/2019       008XX E 38TH PL  0820                   THEFT   4.0   \n",
       "3        3/14/2019    074XX N PAULINA ST  0460                 BATTERY  49.0   \n",
       "4        3/14/2019       008XX E 38TH PL  5002           OTHER OFFENSE   4.0   \n",
       "...            ...                   ...   ...                     ...   ...   \n",
       "7144463  3/18/2015   036XX W BELMONT AVE  0460                 BATTERY  35.0   \n",
       "7144464  3/18/2015   043XX N CENTRAL AVE  0560                 ASSAULT  38.0   \n",
       "7144465  5/26/2019  036XX W DOUGLAS BLVD  2825           OTHER OFFENSE  24.0   \n",
       "7144466  5/26/2019   013XX W HASTINGS ST  0110                HOMICIDE  25.0   \n",
       "7144467  5/26/2019   013XX W HASTINGS ST  0110                HOMICIDE  25.0   \n",
       "\n",
       "         Year    Zip_y  Latitude  Longitude  \n",
       "0        2019  60018.0     42.00     -87.91  \n",
       "1        2019  60602.0     41.88     -87.63  \n",
       "2        2019  60653.0     41.82     -87.61  \n",
       "3        2019  60626.0     42.02     -87.67  \n",
       "4        2019  60653.0     41.82     -87.61  \n",
       "...       ...      ...       ...        ...  \n",
       "7144463  2015  60618.0     41.94     -87.72  \n",
       "7144464  2015  60630.0     41.96     -87.77  \n",
       "7144465  2019  60623.0     41.86     -87.72  \n",
       "7144466  2019  60608.0     41.86     -87.66  \n",
       "7144467  2019  60608.0     41.86     -87.66  \n",
       "\n",
       "[7144468 rows x 9 columns]"
      ],
      "text/html": "<div>\n<style scoped>\n    .dataframe tbody tr th:only-of-type {\n        vertical-align: middle;\n    }\n\n    .dataframe tbody tr th {\n        vertical-align: top;\n    }\n\n    .dataframe thead th {\n        text-align: right;\n    }\n</style>\n<table border=\"1\" class=\"dataframe\">\n  <thead>\n    <tr style=\"text-align: right;\">\n      <th></th>\n      <th>Date</th>\n      <th>Block</th>\n      <th>IUCR</th>\n      <th>Primary Type</th>\n      <th>Ward</th>\n      <th>Year</th>\n      <th>Zip_y</th>\n      <th>Latitude</th>\n      <th>Longitude</th>\n    </tr>\n  </thead>\n  <tbody>\n    <tr>\n      <th>0</th>\n      <td>1/3/2019</td>\n      <td>0000X W RWY 27R</td>\n      <td>2890</td>\n      <td>PUBLIC PEACE VIOLATION</td>\n      <td>41.0</td>\n      <td>2019</td>\n      <td>60018.0</td>\n      <td>42.00</td>\n      <td>-87.91</td>\n    </tr>\n    <tr>\n      <th>1</th>\n      <td>3/16/2019</td>\n      <td>001XX N WELLS ST</td>\n      <td>0460</td>\n      <td>BATTERY</td>\n      <td>42.0</td>\n      <td>2019</td>\n      <td>60602.0</td>\n      <td>41.88</td>\n      <td>-87.63</td>\n    </tr>\n    <tr>\n      <th>2</th>\n      <td>3/12/2019</td>\n      <td>008XX E 38TH PL</td>\n      <td>0820</td>\n      <td>THEFT</td>\n      <td>4.0</td>\n      <td>2019</td>\n      <td>60653.0</td>\n      <td>41.82</td>\n      <td>-87.61</td>\n    </tr>\n    <tr>\n      <th>3</th>\n      <td>3/14/2019</td>\n      <td>074XX N PAULINA ST</td>\n      <td>0460</td>\n      <td>BATTERY</td>\n      <td>49.0</td>\n      <td>2019</td>\n      <td>60626.0</td>\n      <td>42.02</td>\n      <td>-87.67</td>\n    </tr>\n    <tr>\n      <th>4</th>\n      <td>3/14/2019</td>\n      <td>008XX E 38TH PL</td>\n      <td>5002</td>\n      <td>OTHER OFFENSE</td>\n      <td>4.0</td>\n      <td>2019</td>\n      <td>60653.0</td>\n      <td>41.82</td>\n      <td>-87.61</td>\n    </tr>\n    <tr>\n      <th>...</th>\n      <td>...</td>\n      <td>...</td>\n      <td>...</td>\n      <td>...</td>\n      <td>...</td>\n      <td>...</td>\n      <td>...</td>\n      <td>...</td>\n      <td>...</td>\n    </tr>\n    <tr>\n      <th>7144463</th>\n      <td>3/18/2015</td>\n      <td>036XX W BELMONT AVE</td>\n      <td>0460</td>\n      <td>BATTERY</td>\n      <td>35.0</td>\n      <td>2015</td>\n      <td>60618.0</td>\n      <td>41.94</td>\n      <td>-87.72</td>\n    </tr>\n    <tr>\n      <th>7144464</th>\n      <td>3/18/2015</td>\n      <td>043XX N CENTRAL AVE</td>\n      <td>0560</td>\n      <td>ASSAULT</td>\n      <td>38.0</td>\n      <td>2015</td>\n      <td>60630.0</td>\n      <td>41.96</td>\n      <td>-87.77</td>\n    </tr>\n    <tr>\n      <th>7144465</th>\n      <td>5/26/2019</td>\n      <td>036XX W DOUGLAS BLVD</td>\n      <td>2825</td>\n      <td>OTHER OFFENSE</td>\n      <td>24.0</td>\n      <td>2019</td>\n      <td>60623.0</td>\n      <td>41.86</td>\n      <td>-87.72</td>\n    </tr>\n    <tr>\n      <th>7144466</th>\n      <td>5/26/2019</td>\n      <td>013XX W HASTINGS ST</td>\n      <td>0110</td>\n      <td>HOMICIDE</td>\n      <td>25.0</td>\n      <td>2019</td>\n      <td>60608.0</td>\n      <td>41.86</td>\n      <td>-87.66</td>\n    </tr>\n    <tr>\n      <th>7144467</th>\n      <td>5/26/2019</td>\n      <td>013XX W HASTINGS ST</td>\n      <td>0110</td>\n      <td>HOMICIDE</td>\n      <td>25.0</td>\n      <td>2019</td>\n      <td>60608.0</td>\n      <td>41.86</td>\n      <td>-87.66</td>\n    </tr>\n  </tbody>\n</table>\n<p>7144468 rows × 9 columns</p>\n</div>"
     },
     "metadata": {},
     "execution_count": 100
    }
   ],
   "source": [
    "crime_df"
   ]
  },
  {
   "cell_type": "code",
   "execution_count": 124,
   "metadata": {},
   "outputs": [
    {
     "output_type": "execute_result",
     "data": {
      "text/plain": [
       "              Date                 Block  IUCR            Primary Type  Ward  \\\n",
       "0         1/3/2019       0000X W RWY 27R  2890  PUBLIC PEACE VIOLATION  41.0   \n",
       "1        3/16/2019      001XX N WELLS ST  0460                 BATTERY  42.0   \n",
       "2        3/12/2019       008XX E 38TH PL  0820                   THEFT   4.0   \n",
       "3        3/14/2019    074XX N PAULINA ST  0460                 BATTERY  49.0   \n",
       "4        3/14/2019       008XX E 38TH PL  5002           OTHER OFFENSE   4.0   \n",
       "...            ...                   ...   ...                     ...   ...   \n",
       "7144463  3/18/2015   036XX W BELMONT AVE  0460                 BATTERY  35.0   \n",
       "7144464  3/18/2015   043XX N CENTRAL AVE  0560                 ASSAULT  38.0   \n",
       "7144465  5/26/2019  036XX W DOUGLAS BLVD  2825           OTHER OFFENSE  24.0   \n",
       "7144466  5/26/2019   013XX W HASTINGS ST  0110                HOMICIDE  25.0   \n",
       "7144467  5/26/2019   013XX W HASTINGS ST  0110                HOMICIDE  25.0   \n",
       "\n",
       "         Year    Zip_y  Latitude  Longitude  \n",
       "0        2019  60018.0     42.00     -87.91  \n",
       "1        2019  60602.0     41.88     -87.63  \n",
       "2        2019  60653.0     41.82     -87.61  \n",
       "3        2019  60626.0     42.02     -87.67  \n",
       "4        2019  60653.0     41.82     -87.61  \n",
       "...       ...      ...       ...        ...  \n",
       "7144463  2015  60618.0     41.94     -87.72  \n",
       "7144464  2015  60630.0     41.96     -87.77  \n",
       "7144465  2019  60623.0     41.86     -87.72  \n",
       "7144466  2019  60608.0     41.86     -87.66  \n",
       "7144467  2019  60608.0     41.86     -87.66  \n",
       "\n",
       "[7143875 rows x 9 columns]"
      ],
      "text/html": "<div>\n<style scoped>\n    .dataframe tbody tr th:only-of-type {\n        vertical-align: middle;\n    }\n\n    .dataframe tbody tr th {\n        vertical-align: top;\n    }\n\n    .dataframe thead th {\n        text-align: right;\n    }\n</style>\n<table border=\"1\" class=\"dataframe\">\n  <thead>\n    <tr style=\"text-align: right;\">\n      <th></th>\n      <th>Date</th>\n      <th>Block</th>\n      <th>IUCR</th>\n      <th>Primary Type</th>\n      <th>Ward</th>\n      <th>Year</th>\n      <th>Zip_y</th>\n      <th>Latitude</th>\n      <th>Longitude</th>\n    </tr>\n  </thead>\n  <tbody>\n    <tr>\n      <th>0</th>\n      <td>1/3/2019</td>\n      <td>0000X W RWY 27R</td>\n      <td>2890</td>\n      <td>PUBLIC PEACE VIOLATION</td>\n      <td>41.0</td>\n      <td>2019</td>\n      <td>60018.0</td>\n      <td>42.00</td>\n      <td>-87.91</td>\n    </tr>\n    <tr>\n      <th>1</th>\n      <td>3/16/2019</td>\n      <td>001XX N WELLS ST</td>\n      <td>0460</td>\n      <td>BATTERY</td>\n      <td>42.0</td>\n      <td>2019</td>\n      <td>60602.0</td>\n      <td>41.88</td>\n      <td>-87.63</td>\n    </tr>\n    <tr>\n      <th>2</th>\n      <td>3/12/2019</td>\n      <td>008XX E 38TH PL</td>\n      <td>0820</td>\n      <td>THEFT</td>\n      <td>4.0</td>\n      <td>2019</td>\n      <td>60653.0</td>\n      <td>41.82</td>\n      <td>-87.61</td>\n    </tr>\n    <tr>\n      <th>3</th>\n      <td>3/14/2019</td>\n      <td>074XX N PAULINA ST</td>\n      <td>0460</td>\n      <td>BATTERY</td>\n      <td>49.0</td>\n      <td>2019</td>\n      <td>60626.0</td>\n      <td>42.02</td>\n      <td>-87.67</td>\n    </tr>\n    <tr>\n      <th>4</th>\n      <td>3/14/2019</td>\n      <td>008XX E 38TH PL</td>\n      <td>5002</td>\n      <td>OTHER OFFENSE</td>\n      <td>4.0</td>\n      <td>2019</td>\n      <td>60653.0</td>\n      <td>41.82</td>\n      <td>-87.61</td>\n    </tr>\n    <tr>\n      <th>...</th>\n      <td>...</td>\n      <td>...</td>\n      <td>...</td>\n      <td>...</td>\n      <td>...</td>\n      <td>...</td>\n      <td>...</td>\n      <td>...</td>\n      <td>...</td>\n    </tr>\n    <tr>\n      <th>7144463</th>\n      <td>3/18/2015</td>\n      <td>036XX W BELMONT AVE</td>\n      <td>0460</td>\n      <td>BATTERY</td>\n      <td>35.0</td>\n      <td>2015</td>\n      <td>60618.0</td>\n      <td>41.94</td>\n      <td>-87.72</td>\n    </tr>\n    <tr>\n      <th>7144464</th>\n      <td>3/18/2015</td>\n      <td>043XX N CENTRAL AVE</td>\n      <td>0560</td>\n      <td>ASSAULT</td>\n      <td>38.0</td>\n      <td>2015</td>\n      <td>60630.0</td>\n      <td>41.96</td>\n      <td>-87.77</td>\n    </tr>\n    <tr>\n      <th>7144465</th>\n      <td>5/26/2019</td>\n      <td>036XX W DOUGLAS BLVD</td>\n      <td>2825</td>\n      <td>OTHER OFFENSE</td>\n      <td>24.0</td>\n      <td>2019</td>\n      <td>60623.0</td>\n      <td>41.86</td>\n      <td>-87.72</td>\n    </tr>\n    <tr>\n      <th>7144466</th>\n      <td>5/26/2019</td>\n      <td>013XX W HASTINGS ST</td>\n      <td>0110</td>\n      <td>HOMICIDE</td>\n      <td>25.0</td>\n      <td>2019</td>\n      <td>60608.0</td>\n      <td>41.86</td>\n      <td>-87.66</td>\n    </tr>\n    <tr>\n      <th>7144467</th>\n      <td>5/26/2019</td>\n      <td>013XX W HASTINGS ST</td>\n      <td>0110</td>\n      <td>HOMICIDE</td>\n      <td>25.0</td>\n      <td>2019</td>\n      <td>60608.0</td>\n      <td>41.86</td>\n      <td>-87.66</td>\n    </tr>\n  </tbody>\n</table>\n<p>7143875 rows × 9 columns</p>\n</div>"
     },
     "metadata": {},
     "execution_count": 124
    }
   ],
   "source": [
    "crime_df.dropna(subset = [\"Zip_y\"], inplace=True)\n",
    "crime_df"
   ]
  },
  {
   "cell_type": "code",
   "execution_count": 125,
   "metadata": {},
   "outputs": [],
   "source": [
    "crimeGrouped_df = crime_df.groupby([\"Date\", \"Zip_y\"])\n",
    "crimeGrouped_df = crimeGrouped_df.count()"
   ]
  },
  {
   "cell_type": "code",
   "execution_count": 127,
   "metadata": {},
   "outputs": [
    {
     "output_type": "execute_result",
     "data": {
      "text/plain": [
       "                  total_num_crimes  IUCR\n",
       "Date     Zip_y                          \n",
       "1/1/2001 46394.0                 1     1\n",
       "         60176.0                 1     1\n",
       "         60202.0                 6     6\n",
       "         60302.0                27    27\n",
       "         60409.0                 6     6\n",
       "...                            ...   ...\n",
       "9/9/2020 60666.0                 1     1\n",
       "         60706.0                 1     1\n",
       "         60707.0                 4     4\n",
       "         60827.0                 3     3\n",
       "         90615.0                 2     2\n",
       "\n",
       "[462477 rows x 2 columns]"
      ],
      "text/html": "<div>\n<style scoped>\n    .dataframe tbody tr th:only-of-type {\n        vertical-align: middle;\n    }\n\n    .dataframe tbody tr th {\n        vertical-align: top;\n    }\n\n    .dataframe thead th {\n        text-align: right;\n    }\n</style>\n<table border=\"1\" class=\"dataframe\">\n  <thead>\n    <tr style=\"text-align: right;\">\n      <th></th>\n      <th></th>\n      <th>total_num_crimes</th>\n      <th>IUCR</th>\n    </tr>\n    <tr>\n      <th>Date</th>\n      <th>Zip_y</th>\n      <th></th>\n      <th></th>\n    </tr>\n  </thead>\n  <tbody>\n    <tr>\n      <th rowspan=\"5\" valign=\"top\">1/1/2001</th>\n      <th>46394.0</th>\n      <td>1</td>\n      <td>1</td>\n    </tr>\n    <tr>\n      <th>60176.0</th>\n      <td>1</td>\n      <td>1</td>\n    </tr>\n    <tr>\n      <th>60202.0</th>\n      <td>6</td>\n      <td>6</td>\n    </tr>\n    <tr>\n      <th>60302.0</th>\n      <td>27</td>\n      <td>27</td>\n    </tr>\n    <tr>\n      <th>60409.0</th>\n      <td>6</td>\n      <td>6</td>\n    </tr>\n    <tr>\n      <th>...</th>\n      <th>...</th>\n      <td>...</td>\n      <td>...</td>\n    </tr>\n    <tr>\n      <th rowspan=\"5\" valign=\"top\">9/9/2020</th>\n      <th>60666.0</th>\n      <td>1</td>\n      <td>1</td>\n    </tr>\n    <tr>\n      <th>60706.0</th>\n      <td>1</td>\n      <td>1</td>\n    </tr>\n    <tr>\n      <th>60707.0</th>\n      <td>4</td>\n      <td>4</td>\n    </tr>\n    <tr>\n      <th>60827.0</th>\n      <td>3</td>\n      <td>3</td>\n    </tr>\n    <tr>\n      <th>90615.0</th>\n      <td>2</td>\n      <td>2</td>\n    </tr>\n  </tbody>\n</table>\n<p>462477 rows × 2 columns</p>\n</div>"
     },
     "metadata": {},
     "execution_count": 127
    }
   ],
   "source": [
    "crimeGrouped_df = crimeGrouped_df.rename(columns={\"Block\": \"total_num_crimes\"})\n",
    "crimeGrouped_df = crimeGrouped_df[[\"total_num_crimes\", \"IUCR\"]]\n",
    "crimeGrouped_df"
   ]
  },
  {
   "cell_type": "code",
   "execution_count": 129,
   "metadata": {},
   "outputs": [],
   "source": [
    "crimeGrouped_df.to_csv('crimeGrouped_df.csv')"
   ]
  },
  {
   "cell_type": "code",
   "execution_count": 130,
   "metadata": {},
   "outputs": [],
   "source": [
    "from config import gkey"
   ]
  },
  {
   "cell_type": "code",
   "execution_count": 133,
   "metadata": {},
   "outputs": [
    {
     "output_type": "execute_result",
     "data": {
      "text/plain": [
       "              ï»¿Address\n",
       "0      200 E RANDOLPH ST\n",
       "1      1401 W MADISON ST\n",
       "2  3820 N ALTA VISTA TER\n",
       "3         165 N STATE ST\n",
       "4          65 S STATE ST"
      ],
      "text/html": "<div>\n<style scoped>\n    .dataframe tbody tr th:only-of-type {\n        vertical-align: middle;\n    }\n\n    .dataframe tbody tr th {\n        vertical-align: top;\n    }\n\n    .dataframe thead th {\n        text-align: right;\n    }\n</style>\n<table border=\"1\" class=\"dataframe\">\n  <thead>\n    <tr style=\"text-align: right;\">\n      <th></th>\n      <th>ï»¿Address</th>\n    </tr>\n  </thead>\n  <tbody>\n    <tr>\n      <th>0</th>\n      <td>200 E RANDOLPH ST</td>\n    </tr>\n    <tr>\n      <th>1</th>\n      <td>1401 W MADISON ST</td>\n    </tr>\n    <tr>\n      <th>2</th>\n      <td>3820 N ALTA VISTA TER</td>\n    </tr>\n    <tr>\n      <th>3</th>\n      <td>165 N STATE ST</td>\n    </tr>\n    <tr>\n      <th>4</th>\n      <td>65 S STATE ST</td>\n    </tr>\n  </tbody>\n</table>\n</div>"
     },
     "metadata": {},
     "execution_count": 133
    }
   ],
   "source": [
    "noiseSt = \"Data/UniqueNoiseCompaints.csv\"\n",
    "noiseSt_df = pd.read_csv(noiseSt,encoding='latin-1')\n",
    "noiseSt_df.head()"
   ]
  },
  {
   "cell_type": "code",
   "execution_count": 135,
   "metadata": {},
   "outputs": [
    {
     "output_type": "execute_result",
     "data": {
      "text/plain": [
       "                    address\n",
       "0         200 E RANDOLPH ST\n",
       "1         1401 W MADISON ST\n",
       "2     3820 N ALTA VISTA TER\n",
       "3            165 N STATE ST\n",
       "4             65 S STATE ST\n",
       "...                     ...\n",
       "5651     152 N PARKSIDE AVE\n",
       "5652       732 N WABASH AVE\n",
       "5653     1211 N LA SALLE DR\n",
       "5654    10100 S LONGWOOD DR\n",
       "5655    2016 N OAK PARK AVE\n",
       "\n",
       "[5656 rows x 1 columns]"
      ],
      "text/html": "<div>\n<style scoped>\n    .dataframe tbody tr th:only-of-type {\n        vertical-align: middle;\n    }\n\n    .dataframe tbody tr th {\n        vertical-align: top;\n    }\n\n    .dataframe thead th {\n        text-align: right;\n    }\n</style>\n<table border=\"1\" class=\"dataframe\">\n  <thead>\n    <tr style=\"text-align: right;\">\n      <th></th>\n      <th>address</th>\n    </tr>\n  </thead>\n  <tbody>\n    <tr>\n      <th>0</th>\n      <td>200 E RANDOLPH ST</td>\n    </tr>\n    <tr>\n      <th>1</th>\n      <td>1401 W MADISON ST</td>\n    </tr>\n    <tr>\n      <th>2</th>\n      <td>3820 N ALTA VISTA TER</td>\n    </tr>\n    <tr>\n      <th>3</th>\n      <td>165 N STATE ST</td>\n    </tr>\n    <tr>\n      <th>4</th>\n      <td>65 S STATE ST</td>\n    </tr>\n    <tr>\n      <th>...</th>\n      <td>...</td>\n    </tr>\n    <tr>\n      <th>5651</th>\n      <td>152 N PARKSIDE AVE</td>\n    </tr>\n    <tr>\n      <th>5652</th>\n      <td>732 N WABASH AVE</td>\n    </tr>\n    <tr>\n      <th>5653</th>\n      <td>1211 N LA SALLE DR</td>\n    </tr>\n    <tr>\n      <th>5654</th>\n      <td>10100 S LONGWOOD DR</td>\n    </tr>\n    <tr>\n      <th>5655</th>\n      <td>2016 N OAK PARK AVE</td>\n    </tr>\n  </tbody>\n</table>\n<p>5656 rows × 1 columns</p>\n</div>"
     },
     "metadata": {},
     "execution_count": 135
    }
   ],
   "source": [
    "noiseSt_df = noiseSt_df.rename(columns={\"ï»¿Address\": \"address\"}) \n",
    "noiseSt_df"
   ]
  },
  {
   "cell_type": "code",
   "execution_count": 136,
   "metadata": {},
   "outputs": [
    {
     "output_type": "stream",
     "name": "stdout",
     "text": [
      "'60601'\n"
     ]
    }
   ],
   "source": [
    "street = \"200 E RANDOLPH ST\"\n",
    "citySt = \"Chicago, IL\"\n",
    "target_loc = f\"{street}, {citySt}\"\n",
    "target_url = ('https://maps.googleapis.com/maps/api/geocode/json?'\n",
    "        'address={0}&key={1}').format(target_loc, gkey)\n",
    "geo_data = requests.get(target_url).json()\n",
    "pp(geo_data[\"results\"][0][\"address_components\"][7][\"short_name\"])"
   ]
  },
  {
   "cell_type": "code",
   "execution_count": 137,
   "metadata": {},
   "outputs": [
    {
     "output_type": "execute_result",
     "data": {
      "text/plain": [
       "                    address zipcode\n",
       "0         200 E RANDOLPH ST   60601\n",
       "1         1401 W MADISON ST   60607\n",
       "2     3820 N ALTA VISTA TER   60613\n",
       "3            165 N STATE ST   60601\n",
       "4             65 S STATE ST   60603\n",
       "...                     ...     ...\n",
       "5651     152 N PARKSIDE AVE   60644\n",
       "5652       732 N WABASH AVE   60611\n",
       "5653     1211 N LA SALLE DR   60610\n",
       "5654    10100 S LONGWOOD DR   60643\n",
       "5655    2016 N OAK PARK AVE   60707\n",
       "\n",
       "[5656 rows x 2 columns]"
      ],
      "text/html": "<div>\n<style scoped>\n    .dataframe tbody tr th:only-of-type {\n        vertical-align: middle;\n    }\n\n    .dataframe tbody tr th {\n        vertical-align: top;\n    }\n\n    .dataframe thead th {\n        text-align: right;\n    }\n</style>\n<table border=\"1\" class=\"dataframe\">\n  <thead>\n    <tr style=\"text-align: right;\">\n      <th></th>\n      <th>address</th>\n      <th>zipcode</th>\n    </tr>\n  </thead>\n  <tbody>\n    <tr>\n      <th>0</th>\n      <td>200 E RANDOLPH ST</td>\n      <td>60601</td>\n    </tr>\n    <tr>\n      <th>1</th>\n      <td>1401 W MADISON ST</td>\n      <td>60607</td>\n    </tr>\n    <tr>\n      <th>2</th>\n      <td>3820 N ALTA VISTA TER</td>\n      <td>60613</td>\n    </tr>\n    <tr>\n      <th>3</th>\n      <td>165 N STATE ST</td>\n      <td>60601</td>\n    </tr>\n    <tr>\n      <th>4</th>\n      <td>65 S STATE ST</td>\n      <td>60603</td>\n    </tr>\n    <tr>\n      <th>...</th>\n      <td>...</td>\n      <td>...</td>\n    </tr>\n    <tr>\n      <th>5651</th>\n      <td>152 N PARKSIDE AVE</td>\n      <td>60644</td>\n    </tr>\n    <tr>\n      <th>5652</th>\n      <td>732 N WABASH AVE</td>\n      <td>60611</td>\n    </tr>\n    <tr>\n      <th>5653</th>\n      <td>1211 N LA SALLE DR</td>\n      <td>60610</td>\n    </tr>\n    <tr>\n      <th>5654</th>\n      <td>10100 S LONGWOOD DR</td>\n      <td>60643</td>\n    </tr>\n    <tr>\n      <th>5655</th>\n      <td>2016 N OAK PARK AVE</td>\n      <td>60707</td>\n    </tr>\n  </tbody>\n</table>\n<p>5656 rows × 2 columns</p>\n</div>"
     },
     "metadata": {},
     "execution_count": 137
    }
   ],
   "source": [
    "zips = []\n",
    "for i, row in noiseSt_df.iterrows():\n",
    "    street = row[\"address\"]\n",
    "    citySt = \"Chicago, IL\"\n",
    "    target_loc = f\"{street}, {citySt}\"\n",
    "    target_url = ('https://maps.googleapis.com/maps/api/geocode/json?'\n",
    "            'address={0}&key={1}').format(target_loc, gkey)\n",
    "    geo_data = requests.get(target_url).json()\n",
    "    try:\n",
    "        zips.append(geo_data[\"results\"][0][\"address_components\"][7][\"short_name\"])\n",
    "    except:\n",
    "        zips.append(\"NaN\")\n",
    "\n",
    "noiseSt_df['zipcode'] = zips\n",
    "noiseSt_df"
   ]
  },
  {
   "cell_type": "code",
   "execution_count": 1,
   "metadata": {},
   "outputs": [
    {
     "output_type": "error",
     "ename": "NameError",
     "evalue": "name 'noiseSt_df' is not defined",
     "traceback": [
      "\u001b[1;31m---------------------------------------------------------------------------\u001b[0m",
      "\u001b[1;31mNameError\u001b[0m                                 Traceback (most recent call last)",
      "\u001b[1;32m<ipython-input-1-475afc83d9ca>\u001b[0m in \u001b[0;36m<module>\u001b[1;34m\u001b[0m\n\u001b[1;32m----> 1\u001b[1;33m \u001b[0mnoiseSt_df\u001b[0m\u001b[1;33m\u001b[0m\u001b[1;33m\u001b[0m\u001b[0m\n\u001b[0m",
      "\u001b[1;31mNameError\u001b[0m: name 'noiseSt_df' is not defined"
     ]
    }
   ],
   "source": [
    "noiseSt_df"
   ]
  },
  {
   "cell_type": "code",
   "execution_count": null,
   "metadata": {},
   "outputs": [],
   "source": []
  }
 ]
}